{
 "cells": [
  {
   "cell_type": "markdown",
   "id": "8b748ddc",
   "metadata": {},
   "source": [
    "# Model Metrics"
   ]
  },
  {
   "cell_type": "markdown",
   "id": "7dba015c",
   "metadata": {},
   "source": [
    "KNN Model\n",
    "- n_neighbors=17\n",
    "- leaf_size=1\n",
    "- p=1"
   ]
  },
  {
   "cell_type": "markdown",
   "id": "0c1e21ad",
   "metadata": {},
   "source": [
    "Performance Metrics\n",
    "\n",
    "- Accuracy: 0.9021739130434783\n",
    "- Balanced accuracy: 0.9005681818181819\n",
    "- Precision score: 0.8823529411764706\n",
    "- Recall score: 0.9375\n"
   ]
  },
  {
   "cell_type": "code",
   "execution_count": null,
   "id": "db953f5f",
   "metadata": {},
   "outputs": [],
   "source": []
  }
 ],
 "metadata": {
  "kernelspec": {
   "display_name": "Python 3 (ipykernel)",
   "language": "python",
   "name": "python3"
  },
  "language_info": {
   "codemirror_mode": {
    "name": "ipython",
    "version": 3
   },
   "file_extension": ".py",
   "mimetype": "text/x-python",
   "name": "python",
   "nbconvert_exporter": "python",
   "pygments_lexer": "ipython3",
   "version": "3.9.7"
  }
 },
 "nbformat": 4,
 "nbformat_minor": 5
}
