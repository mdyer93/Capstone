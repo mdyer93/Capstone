{
 "cells": [
  {
   "cell_type": "markdown",
   "id": "1d8a37af",
   "metadata": {},
   "source": [
    "EDA"
   ]
  },
  {
   "cell_type": "code",
   "execution_count": 1,
   "id": "e281bfd8",
   "metadata": {},
   "outputs": [],
   "source": [
    "import pandas as pd\n",
    "import numpy as np\n",
    "import matplotlib.pyplot as plt\n",
    "import seaborn as sns\n",
    "from sklearn.feature_selection import chi2\n",
    "from sklearn.preprocessing import LabelEncoder\n",
    "import scipy.stats as scp"
   ]
  },
  {
   "cell_type": "code",
   "execution_count": 2,
   "id": "d2154802",
   "metadata": {},
   "outputs": [],
   "source": [
    "data = pd.read_csv('../Capstone/clean_data.csv')"
   ]
  },
  {
   "cell_type": "code",
   "execution_count": 3,
   "id": "f56bdaf2",
   "metadata": {},
   "outputs": [
    {
     "data": {
      "text/html": [
       "<div>\n",
       "<style scoped>\n",
       "    .dataframe tbody tr th:only-of-type {\n",
       "        vertical-align: middle;\n",
       "    }\n",
       "\n",
       "    .dataframe tbody tr th {\n",
       "        vertical-align: top;\n",
       "    }\n",
       "\n",
       "    .dataframe thead th {\n",
       "        text-align: right;\n",
       "    }\n",
       "</style>\n",
       "<table border=\"1\" class=\"dataframe\">\n",
       "  <thead>\n",
       "    <tr style=\"text-align: right;\">\n",
       "      <th></th>\n",
       "      <th>Age</th>\n",
       "      <th>Sex</th>\n",
       "      <th>ChestPainType</th>\n",
       "      <th>RestingBP</th>\n",
       "      <th>Cholesterol</th>\n",
       "      <th>FastingBS</th>\n",
       "      <th>RestingECG</th>\n",
       "      <th>MaxHR</th>\n",
       "      <th>ExerciseAngina</th>\n",
       "      <th>Oldpeak</th>\n",
       "      <th>ST_Slope</th>\n",
       "      <th>HeartDisease</th>\n",
       "    </tr>\n",
       "  </thead>\n",
       "  <tbody>\n",
       "    <tr>\n",
       "      <th>0</th>\n",
       "      <td>40</td>\n",
       "      <td>M</td>\n",
       "      <td>1</td>\n",
       "      <td>140</td>\n",
       "      <td>289</td>\n",
       "      <td>0</td>\n",
       "      <td>Normal</td>\n",
       "      <td>172</td>\n",
       "      <td>0</td>\n",
       "      <td>0.0</td>\n",
       "      <td>0</td>\n",
       "      <td>0</td>\n",
       "    </tr>\n",
       "    <tr>\n",
       "      <th>1</th>\n",
       "      <td>49</td>\n",
       "      <td>F</td>\n",
       "      <td>2</td>\n",
       "      <td>160</td>\n",
       "      <td>180</td>\n",
       "      <td>0</td>\n",
       "      <td>Normal</td>\n",
       "      <td>156</td>\n",
       "      <td>0</td>\n",
       "      <td>1.0</td>\n",
       "      <td>1</td>\n",
       "      <td>1</td>\n",
       "    </tr>\n",
       "    <tr>\n",
       "      <th>2</th>\n",
       "      <td>37</td>\n",
       "      <td>M</td>\n",
       "      <td>1</td>\n",
       "      <td>130</td>\n",
       "      <td>283</td>\n",
       "      <td>0</td>\n",
       "      <td>ST</td>\n",
       "      <td>98</td>\n",
       "      <td>0</td>\n",
       "      <td>0.0</td>\n",
       "      <td>0</td>\n",
       "      <td>0</td>\n",
       "    </tr>\n",
       "    <tr>\n",
       "      <th>3</th>\n",
       "      <td>48</td>\n",
       "      <td>F</td>\n",
       "      <td>3</td>\n",
       "      <td>138</td>\n",
       "      <td>214</td>\n",
       "      <td>0</td>\n",
       "      <td>Normal</td>\n",
       "      <td>108</td>\n",
       "      <td>1</td>\n",
       "      <td>1.5</td>\n",
       "      <td>1</td>\n",
       "      <td>1</td>\n",
       "    </tr>\n",
       "    <tr>\n",
       "      <th>4</th>\n",
       "      <td>54</td>\n",
       "      <td>M</td>\n",
       "      <td>2</td>\n",
       "      <td>150</td>\n",
       "      <td>195</td>\n",
       "      <td>0</td>\n",
       "      <td>Normal</td>\n",
       "      <td>122</td>\n",
       "      <td>0</td>\n",
       "      <td>0.0</td>\n",
       "      <td>0</td>\n",
       "      <td>0</td>\n",
       "    </tr>\n",
       "  </tbody>\n",
       "</table>\n",
       "</div>"
      ],
      "text/plain": [
       "   Age Sex  ChestPainType  RestingBP  Cholesterol  FastingBS RestingECG  \\\n",
       "0   40   M              1        140          289          0     Normal   \n",
       "1   49   F              2        160          180          0     Normal   \n",
       "2   37   M              1        130          283          0         ST   \n",
       "3   48   F              3        138          214          0     Normal   \n",
       "4   54   M              2        150          195          0     Normal   \n",
       "\n",
       "   MaxHR  ExerciseAngina  Oldpeak  ST_Slope  HeartDisease  \n",
       "0    172               0      0.0         0             0  \n",
       "1    156               0      1.0         1             1  \n",
       "2     98               0      0.0         0             0  \n",
       "3    108               1      1.5         1             1  \n",
       "4    122               0      0.0         0             0  "
      ]
     },
     "execution_count": 3,
     "metadata": {},
     "output_type": "execute_result"
    },
    {
     "data": {
      "text/html": [
       "<div>\n",
       "<style scoped>\n",
       "    .dataframe tbody tr th:only-of-type {\n",
       "        vertical-align: middle;\n",
       "    }\n",
       "\n",
       "    .dataframe tbody tr th {\n",
       "        vertical-align: top;\n",
       "    }\n",
       "\n",
       "    .dataframe thead th {\n",
       "        text-align: right;\n",
       "    }\n",
       "</style>\n",
       "<table border=\"1\" class=\"dataframe\">\n",
       "  <thead>\n",
       "    <tr style=\"text-align: right;\">\n",
       "      <th></th>\n",
       "      <th>Age</th>\n",
       "      <th>Sex</th>\n",
       "      <th>ChestPainType</th>\n",
       "      <th>RestingBP</th>\n",
       "      <th>Cholesterol</th>\n",
       "      <th>FastingBS</th>\n",
       "      <th>RestingECG</th>\n",
       "      <th>MaxHR</th>\n",
       "      <th>ExerciseAngina</th>\n",
       "      <th>Oldpeak</th>\n",
       "      <th>ST_Slope</th>\n",
       "      <th>HeartDisease</th>\n",
       "    </tr>\n",
       "  </thead>\n",
       "  <tbody>\n",
       "    <tr>\n",
       "      <th>0</th>\n",
       "      <td>40</td>\n",
       "      <td>M</td>\n",
       "      <td>1</td>\n",
       "      <td>140</td>\n",
       "      <td>289</td>\n",
       "      <td>0</td>\n",
       "      <td>Normal</td>\n",
       "      <td>172</td>\n",
       "      <td>0</td>\n",
       "      <td>0.0</td>\n",
       "      <td>0</td>\n",
       "      <td>0</td>\n",
       "    </tr>\n",
       "    <tr>\n",
       "      <th>1</th>\n",
       "      <td>49</td>\n",
       "      <td>F</td>\n",
       "      <td>2</td>\n",
       "      <td>160</td>\n",
       "      <td>180</td>\n",
       "      <td>0</td>\n",
       "      <td>Normal</td>\n",
       "      <td>156</td>\n",
       "      <td>0</td>\n",
       "      <td>1.0</td>\n",
       "      <td>1</td>\n",
       "      <td>1</td>\n",
       "    </tr>\n",
       "    <tr>\n",
       "      <th>2</th>\n",
       "      <td>37</td>\n",
       "      <td>M</td>\n",
       "      <td>1</td>\n",
       "      <td>130</td>\n",
       "      <td>283</td>\n",
       "      <td>0</td>\n",
       "      <td>ST</td>\n",
       "      <td>98</td>\n",
       "      <td>0</td>\n",
       "      <td>0.0</td>\n",
       "      <td>0</td>\n",
       "      <td>0</td>\n",
       "    </tr>\n",
       "    <tr>\n",
       "      <th>3</th>\n",
       "      <td>48</td>\n",
       "      <td>F</td>\n",
       "      <td>3</td>\n",
       "      <td>138</td>\n",
       "      <td>214</td>\n",
       "      <td>0</td>\n",
       "      <td>Normal</td>\n",
       "      <td>108</td>\n",
       "      <td>1</td>\n",
       "      <td>1.5</td>\n",
       "      <td>1</td>\n",
       "      <td>1</td>\n",
       "    </tr>\n",
       "    <tr>\n",
       "      <th>4</th>\n",
       "      <td>54</td>\n",
       "      <td>M</td>\n",
       "      <td>2</td>\n",
       "      <td>150</td>\n",
       "      <td>195</td>\n",
       "      <td>0</td>\n",
       "      <td>Normal</td>\n",
       "      <td>122</td>\n",
       "      <td>0</td>\n",
       "      <td>0.0</td>\n",
       "      <td>0</td>\n",
       "      <td>0</td>\n",
       "    </tr>\n",
       "  </tbody>\n",
       "</table>\n",
       "</div>"
      ],
      "text/plain": [
       "   Age Sex  ChestPainType  RestingBP  Cholesterol  FastingBS RestingECG  \\\n",
       "0   40   M              1        140          289          0     Normal   \n",
       "1   49   F              2        160          180          0     Normal   \n",
       "2   37   M              1        130          283          0         ST   \n",
       "3   48   F              3        138          214          0     Normal   \n",
       "4   54   M              2        150          195          0     Normal   \n",
       "\n",
       "   MaxHR  ExerciseAngina  Oldpeak  ST_Slope  HeartDisease  \n",
       "0    172               0      0.0         0             0  \n",
       "1    156               0      1.0         1             1  \n",
       "2     98               0      0.0         0             0  \n",
       "3    108               1      1.5         1             1  \n",
       "4    122               0      0.0         0             0  "
      ]
     },
     "execution_count": 3,
     "metadata": {},
     "output_type": "execute_result"
    }
   ],
   "source": [
    "data.head()"
   ]
  },
  {
   "cell_type": "code",
   "execution_count": 4,
   "id": "63b68fa7",
   "metadata": {},
   "outputs": [
    {
     "data": {
      "text/html": [
       "<div>\n",
       "<style scoped>\n",
       "    .dataframe tbody tr th:only-of-type {\n",
       "        vertical-align: middle;\n",
       "    }\n",
       "\n",
       "    .dataframe tbody tr th {\n",
       "        vertical-align: top;\n",
       "    }\n",
       "\n",
       "    .dataframe thead th {\n",
       "        text-align: right;\n",
       "    }\n",
       "</style>\n",
       "<table border=\"1\" class=\"dataframe\">\n",
       "  <thead>\n",
       "    <tr style=\"text-align: right;\">\n",
       "      <th></th>\n",
       "      <th>Age</th>\n",
       "      <th>ChestPainType</th>\n",
       "      <th>RestingBP</th>\n",
       "      <th>Cholesterol</th>\n",
       "      <th>FastingBS</th>\n",
       "      <th>MaxHR</th>\n",
       "      <th>ExerciseAngina</th>\n",
       "      <th>Oldpeak</th>\n",
       "      <th>ST_Slope</th>\n",
       "      <th>HeartDisease</th>\n",
       "    </tr>\n",
       "  </thead>\n",
       "  <tbody>\n",
       "    <tr>\n",
       "      <th>count</th>\n",
       "      <td>918.000000</td>\n",
       "      <td>918.000000</td>\n",
       "      <td>918.000000</td>\n",
       "      <td>918.000000</td>\n",
       "      <td>918.000000</td>\n",
       "      <td>918.000000</td>\n",
       "      <td>918.000000</td>\n",
       "      <td>918.000000</td>\n",
       "      <td>918.000000</td>\n",
       "      <td>918.000000</td>\n",
       "    </tr>\n",
       "    <tr>\n",
       "      <th>mean</th>\n",
       "      <td>53.510893</td>\n",
       "      <td>2.251634</td>\n",
       "      <td>132.396514</td>\n",
       "      <td>198.799564</td>\n",
       "      <td>0.233115</td>\n",
       "      <td>136.809368</td>\n",
       "      <td>0.404139</td>\n",
       "      <td>0.887364</td>\n",
       "      <td>0.638344</td>\n",
       "      <td>0.553377</td>\n",
       "    </tr>\n",
       "    <tr>\n",
       "      <th>std</th>\n",
       "      <td>9.432617</td>\n",
       "      <td>0.931031</td>\n",
       "      <td>18.514154</td>\n",
       "      <td>109.384145</td>\n",
       "      <td>0.423046</td>\n",
       "      <td>25.460334</td>\n",
       "      <td>0.490992</td>\n",
       "      <td>1.066570</td>\n",
       "      <td>0.607056</td>\n",
       "      <td>0.497414</td>\n",
       "    </tr>\n",
       "    <tr>\n",
       "      <th>min</th>\n",
       "      <td>28.000000</td>\n",
       "      <td>0.000000</td>\n",
       "      <td>0.000000</td>\n",
       "      <td>0.000000</td>\n",
       "      <td>0.000000</td>\n",
       "      <td>60.000000</td>\n",
       "      <td>0.000000</td>\n",
       "      <td>-2.600000</td>\n",
       "      <td>0.000000</td>\n",
       "      <td>0.000000</td>\n",
       "    </tr>\n",
       "    <tr>\n",
       "      <th>25%</th>\n",
       "      <td>47.000000</td>\n",
       "      <td>2.000000</td>\n",
       "      <td>120.000000</td>\n",
       "      <td>173.250000</td>\n",
       "      <td>0.000000</td>\n",
       "      <td>120.000000</td>\n",
       "      <td>0.000000</td>\n",
       "      <td>0.000000</td>\n",
       "      <td>0.000000</td>\n",
       "      <td>0.000000</td>\n",
       "    </tr>\n",
       "    <tr>\n",
       "      <th>50%</th>\n",
       "      <td>54.000000</td>\n",
       "      <td>3.000000</td>\n",
       "      <td>130.000000</td>\n",
       "      <td>223.000000</td>\n",
       "      <td>0.000000</td>\n",
       "      <td>138.000000</td>\n",
       "      <td>0.000000</td>\n",
       "      <td>0.600000</td>\n",
       "      <td>1.000000</td>\n",
       "      <td>1.000000</td>\n",
       "    </tr>\n",
       "    <tr>\n",
       "      <th>75%</th>\n",
       "      <td>60.000000</td>\n",
       "      <td>3.000000</td>\n",
       "      <td>140.000000</td>\n",
       "      <td>267.000000</td>\n",
       "      <td>0.000000</td>\n",
       "      <td>156.000000</td>\n",
       "      <td>1.000000</td>\n",
       "      <td>1.500000</td>\n",
       "      <td>1.000000</td>\n",
       "      <td>1.000000</td>\n",
       "    </tr>\n",
       "    <tr>\n",
       "      <th>max</th>\n",
       "      <td>77.000000</td>\n",
       "      <td>3.000000</td>\n",
       "      <td>200.000000</td>\n",
       "      <td>603.000000</td>\n",
       "      <td>1.000000</td>\n",
       "      <td>202.000000</td>\n",
       "      <td>1.000000</td>\n",
       "      <td>6.200000</td>\n",
       "      <td>2.000000</td>\n",
       "      <td>1.000000</td>\n",
       "    </tr>\n",
       "  </tbody>\n",
       "</table>\n",
       "</div>"
      ],
      "text/plain": [
       "              Age  ChestPainType   RestingBP  Cholesterol   FastingBS  \\\n",
       "count  918.000000     918.000000  918.000000   918.000000  918.000000   \n",
       "mean    53.510893       2.251634  132.396514   198.799564    0.233115   \n",
       "std      9.432617       0.931031   18.514154   109.384145    0.423046   \n",
       "min     28.000000       0.000000    0.000000     0.000000    0.000000   \n",
       "25%     47.000000       2.000000  120.000000   173.250000    0.000000   \n",
       "50%     54.000000       3.000000  130.000000   223.000000    0.000000   \n",
       "75%     60.000000       3.000000  140.000000   267.000000    0.000000   \n",
       "max     77.000000       3.000000  200.000000   603.000000    1.000000   \n",
       "\n",
       "            MaxHR  ExerciseAngina     Oldpeak    ST_Slope  HeartDisease  \n",
       "count  918.000000      918.000000  918.000000  918.000000    918.000000  \n",
       "mean   136.809368        0.404139    0.887364    0.638344      0.553377  \n",
       "std     25.460334        0.490992    1.066570    0.607056      0.497414  \n",
       "min     60.000000        0.000000   -2.600000    0.000000      0.000000  \n",
       "25%    120.000000        0.000000    0.000000    0.000000      0.000000  \n",
       "50%    138.000000        0.000000    0.600000    1.000000      1.000000  \n",
       "75%    156.000000        1.000000    1.500000    1.000000      1.000000  \n",
       "max    202.000000        1.000000    6.200000    2.000000      1.000000  "
      ]
     },
     "execution_count": 4,
     "metadata": {},
     "output_type": "execute_result"
    },
    {
     "data": {
      "text/html": [
       "<div>\n",
       "<style scoped>\n",
       "    .dataframe tbody tr th:only-of-type {\n",
       "        vertical-align: middle;\n",
       "    }\n",
       "\n",
       "    .dataframe tbody tr th {\n",
       "        vertical-align: top;\n",
       "    }\n",
       "\n",
       "    .dataframe thead th {\n",
       "        text-align: right;\n",
       "    }\n",
       "</style>\n",
       "<table border=\"1\" class=\"dataframe\">\n",
       "  <thead>\n",
       "    <tr style=\"text-align: right;\">\n",
       "      <th></th>\n",
       "      <th>Age</th>\n",
       "      <th>ChestPainType</th>\n",
       "      <th>RestingBP</th>\n",
       "      <th>Cholesterol</th>\n",
       "      <th>FastingBS</th>\n",
       "      <th>MaxHR</th>\n",
       "      <th>ExerciseAngina</th>\n",
       "      <th>Oldpeak</th>\n",
       "      <th>ST_Slope</th>\n",
       "      <th>HeartDisease</th>\n",
       "    </tr>\n",
       "  </thead>\n",
       "  <tbody>\n",
       "    <tr>\n",
       "      <th>count</th>\n",
       "      <td>918.000000</td>\n",
       "      <td>918.000000</td>\n",
       "      <td>918.000000</td>\n",
       "      <td>918.000000</td>\n",
       "      <td>918.000000</td>\n",
       "      <td>918.000000</td>\n",
       "      <td>918.000000</td>\n",
       "      <td>918.000000</td>\n",
       "      <td>918.000000</td>\n",
       "      <td>918.000000</td>\n",
       "    </tr>\n",
       "    <tr>\n",
       "      <th>mean</th>\n",
       "      <td>53.510893</td>\n",
       "      <td>2.251634</td>\n",
       "      <td>132.396514</td>\n",
       "      <td>198.799564</td>\n",
       "      <td>0.233115</td>\n",
       "      <td>136.809368</td>\n",
       "      <td>0.404139</td>\n",
       "      <td>0.887364</td>\n",
       "      <td>0.638344</td>\n",
       "      <td>0.553377</td>\n",
       "    </tr>\n",
       "    <tr>\n",
       "      <th>std</th>\n",
       "      <td>9.432617</td>\n",
       "      <td>0.931031</td>\n",
       "      <td>18.514154</td>\n",
       "      <td>109.384145</td>\n",
       "      <td>0.423046</td>\n",
       "      <td>25.460334</td>\n",
       "      <td>0.490992</td>\n",
       "      <td>1.066570</td>\n",
       "      <td>0.607056</td>\n",
       "      <td>0.497414</td>\n",
       "    </tr>\n",
       "    <tr>\n",
       "      <th>min</th>\n",
       "      <td>28.000000</td>\n",
       "      <td>0.000000</td>\n",
       "      <td>0.000000</td>\n",
       "      <td>0.000000</td>\n",
       "      <td>0.000000</td>\n",
       "      <td>60.000000</td>\n",
       "      <td>0.000000</td>\n",
       "      <td>-2.600000</td>\n",
       "      <td>0.000000</td>\n",
       "      <td>0.000000</td>\n",
       "    </tr>\n",
       "    <tr>\n",
       "      <th>25%</th>\n",
       "      <td>47.000000</td>\n",
       "      <td>2.000000</td>\n",
       "      <td>120.000000</td>\n",
       "      <td>173.250000</td>\n",
       "      <td>0.000000</td>\n",
       "      <td>120.000000</td>\n",
       "      <td>0.000000</td>\n",
       "      <td>0.000000</td>\n",
       "      <td>0.000000</td>\n",
       "      <td>0.000000</td>\n",
       "    </tr>\n",
       "    <tr>\n",
       "      <th>50%</th>\n",
       "      <td>54.000000</td>\n",
       "      <td>3.000000</td>\n",
       "      <td>130.000000</td>\n",
       "      <td>223.000000</td>\n",
       "      <td>0.000000</td>\n",
       "      <td>138.000000</td>\n",
       "      <td>0.000000</td>\n",
       "      <td>0.600000</td>\n",
       "      <td>1.000000</td>\n",
       "      <td>1.000000</td>\n",
       "    </tr>\n",
       "    <tr>\n",
       "      <th>75%</th>\n",
       "      <td>60.000000</td>\n",
       "      <td>3.000000</td>\n",
       "      <td>140.000000</td>\n",
       "      <td>267.000000</td>\n",
       "      <td>0.000000</td>\n",
       "      <td>156.000000</td>\n",
       "      <td>1.000000</td>\n",
       "      <td>1.500000</td>\n",
       "      <td>1.000000</td>\n",
       "      <td>1.000000</td>\n",
       "    </tr>\n",
       "    <tr>\n",
       "      <th>max</th>\n",
       "      <td>77.000000</td>\n",
       "      <td>3.000000</td>\n",
       "      <td>200.000000</td>\n",
       "      <td>603.000000</td>\n",
       "      <td>1.000000</td>\n",
       "      <td>202.000000</td>\n",
       "      <td>1.000000</td>\n",
       "      <td>6.200000</td>\n",
       "      <td>2.000000</td>\n",
       "      <td>1.000000</td>\n",
       "    </tr>\n",
       "  </tbody>\n",
       "</table>\n",
       "</div>"
      ],
      "text/plain": [
       "              Age  ChestPainType   RestingBP  Cholesterol   FastingBS  \\\n",
       "count  918.000000     918.000000  918.000000   918.000000  918.000000   \n",
       "mean    53.510893       2.251634  132.396514   198.799564    0.233115   \n",
       "std      9.432617       0.931031   18.514154   109.384145    0.423046   \n",
       "min     28.000000       0.000000    0.000000     0.000000    0.000000   \n",
       "25%     47.000000       2.000000  120.000000   173.250000    0.000000   \n",
       "50%     54.000000       3.000000  130.000000   223.000000    0.000000   \n",
       "75%     60.000000       3.000000  140.000000   267.000000    0.000000   \n",
       "max     77.000000       3.000000  200.000000   603.000000    1.000000   \n",
       "\n",
       "            MaxHR  ExerciseAngina     Oldpeak    ST_Slope  HeartDisease  \n",
       "count  918.000000      918.000000  918.000000  918.000000    918.000000  \n",
       "mean   136.809368        0.404139    0.887364    0.638344      0.553377  \n",
       "std     25.460334        0.490992    1.066570    0.607056      0.497414  \n",
       "min     60.000000        0.000000   -2.600000    0.000000      0.000000  \n",
       "25%    120.000000        0.000000    0.000000    0.000000      0.000000  \n",
       "50%    138.000000        0.000000    0.600000    1.000000      1.000000  \n",
       "75%    156.000000        1.000000    1.500000    1.000000      1.000000  \n",
       "max    202.000000        1.000000    6.200000    2.000000      1.000000  "
      ]
     },
     "execution_count": 4,
     "metadata": {},
     "output_type": "execute_result"
    }
   ],
   "source": [
    "data.describe()"
   ]
  },
  {
   "cell_type": "code",
   "execution_count": 5,
   "id": "d33608a7",
   "metadata": {},
   "outputs": [
    {
     "data": {
      "text/plain": [
       "Age                 int64\n",
       "Sex                object\n",
       "ChestPainType       int64\n",
       "RestingBP           int64\n",
       "Cholesterol         int64\n",
       "FastingBS           int64\n",
       "RestingECG         object\n",
       "MaxHR               int64\n",
       "ExerciseAngina      int64\n",
       "Oldpeak           float64\n",
       "ST_Slope            int64\n",
       "HeartDisease        int64\n",
       "dtype: object"
      ]
     },
     "execution_count": 5,
     "metadata": {},
     "output_type": "execute_result"
    },
    {
     "data": {
      "text/plain": [
       "Age                 int64\n",
       "Sex                object\n",
       "ChestPainType       int64\n",
       "RestingBP           int64\n",
       "Cholesterol         int64\n",
       "FastingBS           int64\n",
       "RestingECG         object\n",
       "MaxHR               int64\n",
       "ExerciseAngina      int64\n",
       "Oldpeak           float64\n",
       "ST_Slope            int64\n",
       "HeartDisease        int64\n",
       "dtype: object"
      ]
     },
     "execution_count": 5,
     "metadata": {},
     "output_type": "execute_result"
    }
   ],
   "source": [
    "data.dtypes"
   ]
  },
  {
   "cell_type": "code",
   "execution_count": 6,
   "id": "f3a96a40",
   "metadata": {},
   "outputs": [
    {
     "data": {
      "image/png": "[encoded data removed]",
      "text/plain": [
       "<Figure size 432x288 with 1 Axes>"
      ]
     },
     "metadata": {
      "needs_background": "light"
     },
     "output_type": "display_data"
    },
    {
     "data": {
      "image/png": "[encoded data removed]",
      "text/plain": [
       "<Figure size 432x288 with 1 Axes>"
      ]
     },
     "metadata": {
      "needs_background": "light"
     },
     "output_type": "display_data"
    }
   ],
   "source": [
    "plt.hist(data['ChestPainType'])\n",
    "plt.show()"
   ]
  },
  {
   "cell_type": "code",
   "execution_count": 7,
   "id": "e33ee8a2",
   "metadata": {},
   "outputs": [
    {
     "data": {
      "image/png": "[encoded data removed]",
      "text/plain": [
       "<Figure size 432x288 with 1 Axes>"
      ]
     },
     "metadata": {
      "needs_background": "light"
     },
     "output_type": "display_data"
    },
    {
     "data": {
      "image/png": "[encoded data removed]",
      "text/plain": [
       "<Figure size 432x288 with 1 Axes>"
      ]
     },
     "metadata": {
      "needs_background": "light"
     },
     "output_type": "display_data"
    }
   ],
   "source": [
    "plt.hist(data['RestingBP'])\n",
    "plt.show()"
   ]
  },
  {
   "cell_type": "code",
   "execution_count": 8,
   "id": "3c46aa62",
   "metadata": {},
   "outputs": [
    {
     "data": {
      "image/png": "[encoded data removed]",
      "text/plain": [
       "<Figure size 432x288 with 1 Axes>"
      ]
     },
     "metadata": {
      "needs_background": "light"
     },
     "output_type": "display_data"
    },
    {
     "data": {
      "image/png": "[encoded data removed]",
      "text/plain": [
       "<Figure size 432x288 with 1 Axes>"
      ]
     },
     "metadata": {
      "needs_background": "light"
     },
     "output_type": "display_data"
    }
   ],
   "source": [
    "plt.hist(data['Cholesterol'])\n",
    "plt.show()"
   ]
  },
  {
   "cell_type": "code",
   "execution_count": 9,
   "id": "100b7934",
   "metadata": {},
   "outputs": [
    {
     "data": {
      "image/png": "[encoded data removed]",
      "text/plain": [
       "<Figure size 432x288 with 1 Axes>"
      ]
     },
     "metadata": {
      "needs_background": "light"
     },
     "output_type": "display_data"
    },
    {
     "data": {
      "image/png": "[encoded data removed]",
      "text/plain": [
       "<Figure size 432x288 with 1 Axes>"
      ]
     },
     "metadata": {
      "needs_background": "light"
     },
     "output_type": "display_data"
    }
   ],
   "source": [
    "plt.hist(data['MaxHR'])\n",
    "plt.show()"
   ]
  },
  {
   "cell_type": "code",
   "execution_count": 10,
   "id": "52fcd7fb",
   "metadata": {},
   "outputs": [
    {
     "data": {
      "image/png": "[encoded data removed]",
      "text/plain": [
       "<Figure size 432x288 with 1 Axes>"
      ]
     },
     "metadata": {
      "needs_background": "light"
     },
     "output_type": "display_data"
    },
    {
     "data": {
      "image/png": "[encoded data removed]",
      "text/plain": [
       "<Figure size 432x288 with 1 Axes>"
      ]
     },
     "metadata": {
      "needs_background": "light"
     },
     "output_type": "display_data"
    }
   ],
   "source": [
    "plt.hist(data['Oldpeak'])\n",
    "plt.show()"
   ]
  },
  {
   "cell_type": "code",
   "execution_count": 11,
   "id": "e4366611",
   "metadata": {},
   "outputs": [
    {
     "data": {
      "image/png": "[encoded data removed]",
      "text/plain": [
       "<Figure size 432x288 with 1 Axes>"
      ]
     },
     "metadata": {
      "needs_background": "light"
     },
     "output_type": "display_data"
    },
    {
     "data": {
      "image/png": "[encoded data removed]",
      "text/plain": [
       "<Figure size 432x288 with 1 Axes>"
      ]
     },
     "metadata": {
      "needs_background": "light"
     },
     "output_type": "display_data"
    }
   ],
   "source": [
    "plt.hist(data['Age'])\n",
    "plt.show()"
   ]
  },
  {
   "cell_type": "code",
   "execution_count": 12,
   "id": "f5433c04",
   "metadata": {},
   "outputs": [
    {
     "data": {
      "text/html": [
       "<div>\n",
       "<style scoped>\n",
       "    .dataframe tbody tr th:only-of-type {\n",
       "        vertical-align: middle;\n",
       "    }\n",
       "\n",
       "    .dataframe tbody tr th {\n",
       "        vertical-align: top;\n",
       "    }\n",
       "\n",
       "    .dataframe thead th {\n",
       "        text-align: right;\n",
       "    }\n",
       "</style>\n",
       "<table border=\"1\" class=\"dataframe\">\n",
       "  <thead>\n",
       "    <tr style=\"text-align: right;\">\n",
       "      <th></th>\n",
       "      <th>Age</th>\n",
       "      <th>ChestPainType</th>\n",
       "      <th>RestingBP</th>\n",
       "      <th>Cholesterol</th>\n",
       "      <th>FastingBS</th>\n",
       "      <th>MaxHR</th>\n",
       "      <th>ExerciseAngina</th>\n",
       "      <th>Oldpeak</th>\n",
       "      <th>ST_Slope</th>\n",
       "      <th>HeartDisease</th>\n",
       "    </tr>\n",
       "  </thead>\n",
       "  <tbody>\n",
       "    <tr>\n",
       "      <th>Age</th>\n",
       "      <td>1.000000</td>\n",
       "      <td>0.165896</td>\n",
       "      <td>0.254399</td>\n",
       "      <td>-0.095282</td>\n",
       "      <td>0.198039</td>\n",
       "      <td>-0.382045</td>\n",
       "      <td>0.215793</td>\n",
       "      <td>0.258612</td>\n",
       "      <td>0.268264</td>\n",
       "      <td>0.282039</td>\n",
       "    </tr>\n",
       "    <tr>\n",
       "      <th>ChestPainType</th>\n",
       "      <td>0.165896</td>\n",
       "      <td>1.000000</td>\n",
       "      <td>0.022168</td>\n",
       "      <td>-0.136139</td>\n",
       "      <td>0.116703</td>\n",
       "      <td>-0.343654</td>\n",
       "      <td>0.416625</td>\n",
       "      <td>0.245027</td>\n",
       "      <td>0.317480</td>\n",
       "      <td>0.471354</td>\n",
       "    </tr>\n",
       "    <tr>\n",
       "      <th>RestingBP</th>\n",
       "      <td>0.254399</td>\n",
       "      <td>0.022168</td>\n",
       "      <td>1.000000</td>\n",
       "      <td>0.100893</td>\n",
       "      <td>0.070193</td>\n",
       "      <td>-0.112135</td>\n",
       "      <td>0.155101</td>\n",
       "      <td>0.164803</td>\n",
       "      <td>0.075162</td>\n",
       "      <td>0.107589</td>\n",
       "    </tr>\n",
       "    <tr>\n",
       "      <th>Cholesterol</th>\n",
       "      <td>-0.095282</td>\n",
       "      <td>-0.136139</td>\n",
       "      <td>0.100893</td>\n",
       "      <td>1.000000</td>\n",
       "      <td>-0.260974</td>\n",
       "      <td>0.235792</td>\n",
       "      <td>-0.034166</td>\n",
       "      <td>0.050148</td>\n",
       "      <td>-0.111471</td>\n",
       "      <td>-0.232741</td>\n",
       "    </tr>\n",
       "    <tr>\n",
       "      <th>FastingBS</th>\n",
       "      <td>0.198039</td>\n",
       "      <td>0.116703</td>\n",
       "      <td>0.070193</td>\n",
       "      <td>-0.260974</td>\n",
       "      <td>1.000000</td>\n",
       "      <td>-0.131438</td>\n",
       "      <td>0.060451</td>\n",
       "      <td>0.052698</td>\n",
       "      <td>0.175774</td>\n",
       "      <td>0.267291</td>\n",
       "    </tr>\n",
       "    <tr>\n",
       "      <th>MaxHR</th>\n",
       "      <td>-0.382045</td>\n",
       "      <td>-0.343654</td>\n",
       "      <td>-0.112135</td>\n",
       "      <td>0.235792</td>\n",
       "      <td>-0.131438</td>\n",
       "      <td>1.000000</td>\n",
       "      <td>-0.370425</td>\n",
       "      <td>-0.160691</td>\n",
       "      <td>-0.343419</td>\n",
       "      <td>-0.400421</td>\n",
       "    </tr>\n",
       "    <tr>\n",
       "      <th>ExerciseAngina</th>\n",
       "      <td>0.215793</td>\n",
       "      <td>0.416625</td>\n",
       "      <td>0.155101</td>\n",
       "      <td>-0.034166</td>\n",
       "      <td>0.060451</td>\n",
       "      <td>-0.370425</td>\n",
       "      <td>1.000000</td>\n",
       "      <td>0.408752</td>\n",
       "      <td>0.428706</td>\n",
       "      <td>0.494282</td>\n",
       "    </tr>\n",
       "    <tr>\n",
       "      <th>Oldpeak</th>\n",
       "      <td>0.258612</td>\n",
       "      <td>0.245027</td>\n",
       "      <td>0.164803</td>\n",
       "      <td>0.050148</td>\n",
       "      <td>0.052698</td>\n",
       "      <td>-0.160691</td>\n",
       "      <td>0.408752</td>\n",
       "      <td>1.000000</td>\n",
       "      <td>0.501921</td>\n",
       "      <td>0.403951</td>\n",
       "    </tr>\n",
       "    <tr>\n",
       "      <th>ST_Slope</th>\n",
       "      <td>0.268264</td>\n",
       "      <td>0.317480</td>\n",
       "      <td>0.075162</td>\n",
       "      <td>-0.111471</td>\n",
       "      <td>0.175774</td>\n",
       "      <td>-0.343419</td>\n",
       "      <td>0.428706</td>\n",
       "      <td>0.501921</td>\n",
       "      <td>1.000000</td>\n",
       "      <td>0.558771</td>\n",
       "    </tr>\n",
       "    <tr>\n",
       "      <th>HeartDisease</th>\n",
       "      <td>0.282039</td>\n",
       "      <td>0.471354</td>\n",
       "      <td>0.107589</td>\n",
       "      <td>-0.232741</td>\n",
       "      <td>0.267291</td>\n",
       "      <td>-0.400421</td>\n",
       "      <td>0.494282</td>\n",
       "      <td>0.403951</td>\n",
       "      <td>0.558771</td>\n",
       "      <td>1.000000</td>\n",
       "    </tr>\n",
       "  </tbody>\n",
       "</table>\n",
       "</div>"
      ],
      "text/plain": [
       "                     Age  ChestPainType  RestingBP  Cholesterol  FastingBS  \\\n",
       "Age             1.000000       0.165896   0.254399    -0.095282   0.198039   \n",
       "ChestPainType   0.165896       1.000000   0.022168    -0.136139   0.116703   \n",
       "RestingBP       0.254399       0.022168   1.000000     0.100893   0.070193   \n",
       "Cholesterol    -0.095282      -0.136139   0.100893     1.000000  -0.260974   \n",
       "FastingBS       0.198039       0.116703   0.070193    -0.260974   1.000000   \n",
       "MaxHR          -0.382045      -0.343654  -0.112135     0.235792  -0.131438   \n",
       "ExerciseAngina  0.215793       0.416625   0.155101    -0.034166   0.060451   \n",
       "Oldpeak         0.258612       0.245027   0.164803     0.050148   0.052698   \n",
       "ST_Slope        0.268264       0.317480   0.075162    -0.111471   0.175774   \n",
       "HeartDisease    0.282039       0.471354   0.107589    -0.232741   0.267291   \n",
       "\n",
       "                   MaxHR  ExerciseAngina   Oldpeak  ST_Slope  HeartDisease  \n",
       "Age            -0.382045        0.215793  0.258612  0.268264      0.282039  \n",
       "ChestPainType  -0.343654        0.416625  0.245027  0.317480      0.471354  \n",
       "RestingBP      -0.112135        0.155101  0.164803  0.075162      0.107589  \n",
       "Cholesterol     0.235792       -0.034166  0.050148 -0.111471     -0.232741  \n",
       "FastingBS      -0.131438        0.060451  0.052698  0.175774      0.267291  \n",
       "MaxHR           1.000000       -0.370425 -0.160691 -0.343419     -0.400421  \n",
       "ExerciseAngina -0.370425        1.000000  0.408752  0.428706      0.494282  \n",
       "Oldpeak        -0.160691        0.408752  1.000000  0.501921      0.403951  \n",
       "ST_Slope       -0.343419        0.428706  0.501921  1.000000      0.558771  \n",
       "HeartDisease   -0.400421        0.494282  0.403951  0.558771      1.000000  "
      ]
     },
     "execution_count": 12,
     "metadata": {},
     "output_type": "execute_result"
    },
    {
     "data": {
      "text/html": [
       "<div>\n",
       "<style scoped>\n",
       "    .dataframe tbody tr th:only-of-type {\n",
       "        vertical-align: middle;\n",
       "    }\n",
       "\n",
       "    .dataframe tbody tr th {\n",
       "        vertical-align: top;\n",
       "    }\n",
       "\n",
       "    .dataframe thead th {\n",
       "        text-align: right;\n",
       "    }\n",
       "</style>\n",
       "<table border=\"1\" class=\"dataframe\">\n",
       "  <thead>\n",
       "    <tr style=\"text-align: right;\">\n",
       "      <th></th>\n",
       "      <th>Age</th>\n",
       "      <th>ChestPainType</th>\n",
       "      <th>RestingBP</th>\n",
       "      <th>Cholesterol</th>\n",
       "      <th>FastingBS</th>\n",
       "      <th>MaxHR</th>\n",
       "      <th>ExerciseAngina</th>\n",
       "      <th>Oldpeak</th>\n",
       "      <th>ST_Slope</th>\n",
       "      <th>HeartDisease</th>\n",
       "    </tr>\n",
       "  </thead>\n",
       "  <tbody>\n",
       "    <tr>\n",
       "      <th>Age</th>\n",
       "      <td>1.000000</td>\n",
       "      <td>0.165896</td>\n",
       "      <td>0.254399</td>\n",
       "      <td>-0.095282</td>\n",
       "      <td>0.198039</td>\n",
       "      <td>-0.382045</td>\n",
       "      <td>0.215793</td>\n",
       "      <td>0.258612</td>\n",
       "      <td>0.268264</td>\n",
       "      <td>0.282039</td>\n",
       "    </tr>\n",
       "    <tr>\n",
       "      <th>ChestPainType</th>\n",
       "      <td>0.165896</td>\n",
       "      <td>1.000000</td>\n",
       "      <td>0.022168</td>\n",
       "      <td>-0.136139</td>\n",
       "      <td>0.116703</td>\n",
       "      <td>-0.343654</td>\n",
       "      <td>0.416625</td>\n",
       "      <td>0.245027</td>\n",
       "      <td>0.317480</td>\n",
       "      <td>0.471354</td>\n",
       "    </tr>\n",
       "    <tr>\n",
       "      <th>RestingBP</th>\n",
       "      <td>0.254399</td>\n",
       "      <td>0.022168</td>\n",
       "      <td>1.000000</td>\n",
       "      <td>0.100893</td>\n",
       "      <td>0.070193</td>\n",
       "      <td>-0.112135</td>\n",
       "      <td>0.155101</td>\n",
       "      <td>0.164803</td>\n",
       "      <td>0.075162</td>\n",
       "      <td>0.107589</td>\n",
       "    </tr>\n",
       "    <tr>\n",
       "      <th>Cholesterol</th>\n",
       "      <td>-0.095282</td>\n",
       "      <td>-0.136139</td>\n",
       "      <td>0.100893</td>\n",
       "      <td>1.000000</td>\n",
       "      <td>-0.260974</td>\n",
       "      <td>0.235792</td>\n",
       "      <td>-0.034166</td>\n",
       "      <td>0.050148</td>\n",
       "      <td>-0.111471</td>\n",
       "      <td>-0.232741</td>\n",
       "    </tr>\n",
       "    <tr>\n",
       "      <th>FastingBS</th>\n",
       "      <td>0.198039</td>\n",
       "      <td>0.116703</td>\n",
       "      <td>0.070193</td>\n",
       "      <td>-0.260974</td>\n",
       "      <td>1.000000</td>\n",
       "      <td>-0.131438</td>\n",
       "      <td>0.060451</td>\n",
       "      <td>0.052698</td>\n",
       "      <td>0.175774</td>\n",
       "      <td>0.267291</td>\n",
       "    </tr>\n",
       "    <tr>\n",
       "      <th>MaxHR</th>\n",
       "      <td>-0.382045</td>\n",
       "      <td>-0.343654</td>\n",
       "      <td>-0.112135</td>\n",
       "      <td>0.235792</td>\n",
       "      <td>-0.131438</td>\n",
       "      <td>1.000000</td>\n",
       "      <td>-0.370425</td>\n",
       "      <td>-0.160691</td>\n",
       "      <td>-0.343419</td>\n",
       "      <td>-0.400421</td>\n",
       "    </tr>\n",
       "    <tr>\n",
       "      <th>ExerciseAngina</th>\n",
       "      <td>0.215793</td>\n",
       "      <td>0.416625</td>\n",
       "      <td>0.155101</td>\n",
       "      <td>-0.034166</td>\n",
       "      <td>0.060451</td>\n",
       "      <td>-0.370425</td>\n",
       "      <td>1.000000</td>\n",
       "      <td>0.408752</td>\n",
       "      <td>0.428706</td>\n",
       "      <td>0.494282</td>\n",
       "    </tr>\n",
       "    <tr>\n",
       "      <th>Oldpeak</th>\n",
       "      <td>0.258612</td>\n",
       "      <td>0.245027</td>\n",
       "      <td>0.164803</td>\n",
       "      <td>0.050148</td>\n",
       "      <td>0.052698</td>\n",
       "      <td>-0.160691</td>\n",
       "      <td>0.408752</td>\n",
       "      <td>1.000000</td>\n",
       "      <td>0.501921</td>\n",
       "      <td>0.403951</td>\n",
       "    </tr>\n",
       "    <tr>\n",
       "      <th>ST_Slope</th>\n",
       "      <td>0.268264</td>\n",
       "      <td>0.317480</td>\n",
       "      <td>0.075162</td>\n",
       "      <td>-0.111471</td>\n",
       "      <td>0.175774</td>\n",
       "      <td>-0.343419</td>\n",
       "      <td>0.428706</td>\n",
       "      <td>0.501921</td>\n",
       "      <td>1.000000</td>\n",
       "      <td>0.558771</td>\n",
       "    </tr>\n",
       "    <tr>\n",
       "      <th>HeartDisease</th>\n",
       "      <td>0.282039</td>\n",
       "      <td>0.471354</td>\n",
       "      <td>0.107589</td>\n",
       "      <td>-0.232741</td>\n",
       "      <td>0.267291</td>\n",
       "      <td>-0.400421</td>\n",
       "      <td>0.494282</td>\n",
       "      <td>0.403951</td>\n",
       "      <td>0.558771</td>\n",
       "      <td>1.000000</td>\n",
       "    </tr>\n",
       "  </tbody>\n",
       "</table>\n",
       "</div>"
      ],
      "text/plain": [
       "                     Age  ChestPainType  RestingBP  Cholesterol  FastingBS  \\\n",
       "Age             1.000000       0.165896   0.254399    -0.095282   0.198039   \n",
       "ChestPainType   0.165896       1.000000   0.022168    -0.136139   0.116703   \n",
       "RestingBP       0.254399       0.022168   1.000000     0.100893   0.070193   \n",
       "Cholesterol    -0.095282      -0.136139   0.100893     1.000000  -0.260974   \n",
       "FastingBS       0.198039       0.116703   0.070193    -0.260974   1.000000   \n",
       "MaxHR          -0.382045      -0.343654  -0.112135     0.235792  -0.131438   \n",
       "ExerciseAngina  0.215793       0.416625   0.155101    -0.034166   0.060451   \n",
       "Oldpeak         0.258612       0.245027   0.164803     0.050148   0.052698   \n",
       "ST_Slope        0.268264       0.317480   0.075162    -0.111471   0.175774   \n",
       "HeartDisease    0.282039       0.471354   0.107589    -0.232741   0.267291   \n",
       "\n",
       "                   MaxHR  ExerciseAngina   Oldpeak  ST_Slope  HeartDisease  \n",
       "Age            -0.382045        0.215793  0.258612  0.268264      0.282039  \n",
       "ChestPainType  -0.343654        0.416625  0.245027  0.317480      0.471354  \n",
       "RestingBP      -0.112135        0.155101  0.164803  0.075162      0.107589  \n",
       "Cholesterol     0.235792       -0.034166  0.050148 -0.111471     -0.232741  \n",
       "FastingBS      -0.131438        0.060451  0.052698  0.175774      0.267291  \n",
       "MaxHR           1.000000       -0.370425 -0.160691 -0.343419     -0.400421  \n",
       "ExerciseAngina -0.370425        1.000000  0.408752  0.428706      0.494282  \n",
       "Oldpeak        -0.160691        0.408752  1.000000  0.501921      0.403951  \n",
       "ST_Slope       -0.343419        0.428706  0.501921  1.000000      0.558771  \n",
       "HeartDisease   -0.400421        0.494282  0.403951  0.558771      1.000000  "
      ]
     },
     "execution_count": 12,
     "metadata": {},
     "output_type": "execute_result"
    }
   ],
   "source": [
    "data.corr()"
   ]
  },
  {
   "cell_type": "code",
   "execution_count": 13,
   "id": "7e262d65",
   "metadata": {},
   "outputs": [
    {
     "data": {
      "text/plain": [
       "<AxesSubplot:>"
      ]
     },
     "execution_count": 13,
     "metadata": {},
     "output_type": "execute_result"
    },
    {
     "data": {
      "text/plain": [
       "<AxesSubplot:>"
      ]
     },
     "execution_count": 13,
     "metadata": {},
     "output_type": "execute_result"
    },
    {
     "data": {
      "image/png": "[encoded data removed]",
      "text/plain": [
       "<Figure size 432x288 with 2 Axes>"
      ]
     },
     "metadata": {
      "needs_background": "light"
     },
     "output_type": "display_data"
    },
    {
     "data": {
      "image/png": "[encoded data removed]",
      "text/plain": [
       "<Figure size 432x288 with 2 Axes>"
      ]
     },
     "metadata": {
      "needs_background": "light"
     },
     "output_type": "display_data"
    }
   ],
   "source": [
    "sns.heatmap(data.corr())"
   ]
  },
  {
   "cell_type": "code",
   "execution_count": 14,
   "id": "11356562",
   "metadata": {},
   "outputs": [
    {
     "data": {
      "text/plain": [
       "<seaborn.axisgrid.PairGrid at 0x156f0effee0>"
      ]
     },
     "execution_count": 14,
     "metadata": {},
     "output_type": "execute_result"
    },
    {
     "data": {
      "text/plain": [
       "<seaborn.axisgrid.PairGrid at 0x156f0effee0>"
      ]
     },
     "execution_count": 14,
     "metadata": {},
     "output_type": "execute_result"
    },
    {
     "data": {
      "image/png": "[encoded data removed]",
      "text/plain": [
       "<Figure size 1800x1800 with 110 Axes>"
      ]
     },
     "metadata": {
      "needs_background": "light"
     },
     "output_type": "display_data"
    },
    {
     "data": {
      "image/png": "[encoded data removed]",
      "text/plain": [
       "<Figure size 1800x1800 with 110 Axes>"
      ]
     },
     "metadata": {
      "needs_background": "light"
     },
     "output_type": "display_data"
    }
   ],
   "source": [
    "sns.pairplot(data.corr())"
   ]
  },
  {
   "cell_type": "code",
   "execution_count": 15,
   "id": "b665152e",
   "metadata": {},
   "outputs": [],
   "source": [
    "# strongest correlation so far appears to be st_slope to heartdisease at 0.56"
   ]
  },
  {
   "cell_type": "code",
   "execution_count": 16,
   "id": "227fac25",
   "metadata": {},
   "outputs": [
    {
     "data": {
      "text/plain": [
       "<seaborn.axisgrid.FacetGrid at 0x156f6997100>"
      ]
     },
     "execution_count": 16,
     "metadata": {},
     "output_type": "execute_result"
    },
    {
     "data": {
      "text/plain": [
       "<seaborn.axisgrid.FacetGrid at 0x156f6997100>"
      ]
     },
     "execution_count": 16,
     "metadata": {},
     "output_type": "execute_result"
    },
    {
     "data": {
      "image/png": "[encoded data removed]",
      "text/plain": [
       "<Figure size 435.25x360 with 1 Axes>"
      ]
     },
     "metadata": {
      "needs_background": "light"
     },
     "output_type": "display_data"
    },
    {
     "data": {
      "image/png": "[encoded data removed]",
      "text/plain": [
       "<Figure size 435.25x360 with 1 Axes>"
      ]
     },
     "metadata": {
      "needs_background": "light"
     },
     "output_type": "display_data"
    }
   ],
   "source": [
    "sns.catplot(x='ST_Slope', y='ChestPainType', hue='HeartDisease', data=data)"
   ]
  },
  {
   "cell_type": "code",
   "execution_count": 17,
   "id": "60cbe15f",
   "metadata": {},
   "outputs": [
    {
     "data": {
      "text/plain": [
       "<seaborn.axisgrid.FacetGrid at 0x156f0effaf0>"
      ]
     },
     "execution_count": 17,
     "metadata": {},
     "output_type": "execute_result"
    },
    {
     "data": {
      "text/plain": [
       "<seaborn.axisgrid.FacetGrid at 0x156f0effaf0>"
      ]
     },
     "execution_count": 17,
     "metadata": {},
     "output_type": "execute_result"
    },
    {
     "data": {
      "image/png": "[encoded data removed]",
      "text/plain": [
       "<Figure size 435.25x360 with 1 Axes>"
      ]
     },
     "metadata": {
      "needs_background": "light"
     },
     "output_type": "display_data"
    },
    {
     "data": {
      "image/png": "[encoded data removed]",
      "text/plain": [
       "<Figure size 435.25x360 with 1 Axes>"
      ]
     },
     "metadata": {
      "needs_background": "light"
     },
     "output_type": "display_data"
    }
   ],
   "source": [
    "sns.lmplot(x='ST_Slope', y='ExerciseAngina', hue='HeartDisease', data=data)"
   ]
  },
  {
   "cell_type": "code",
   "execution_count": 18,
   "id": "558ee8fb",
   "metadata": {},
   "outputs": [
    {
     "data": {
      "text/plain": [
       "<seaborn.axisgrid.FacetGrid at 0x156fb873160>"
      ]
     },
     "execution_count": 18,
     "metadata": {},
     "output_type": "execute_result"
    },
    {
     "data": {
      "text/plain": [
       "<seaborn.axisgrid.FacetGrid at 0x156fb873160>"
      ]
     },
     "execution_count": 18,
     "metadata": {},
     "output_type": "execute_result"
    },
    {
     "data": {
      "image/png": "[encoded data removed]",
      "text/plain": [
       "<Figure size 435.25x360 with 1 Axes>"
      ]
     },
     "metadata": {
      "needs_background": "light"
     },
     "output_type": "display_data"
    },
    {
     "data": {
      "image/png": "[encoded data removed]",
      "text/plain": [
       "<Figure size 435.25x360 with 1 Axes>"
      ]
     },
     "metadata": {
      "needs_background": "light"
     },
     "output_type": "display_data"
    }
   ],
   "source": [
    "sns.lmplot(x='ST_Slope', y='ExerciseAngina', hue='HeartDisease', data=data)"
   ]
  },
  {
   "cell_type": "code",
   "execution_count": 19,
   "id": "501850f3",
   "metadata": {},
   "outputs": [
    {
     "data": {
      "text/plain": [
       "<seaborn.axisgrid.FacetGrid at 0x156fce55d60>"
      ]
     },
     "execution_count": 19,
     "metadata": {},
     "output_type": "execute_result"
    },
    {
     "data": {
      "text/plain": [
       "<seaborn.axisgrid.FacetGrid at 0x156fce55d60>"
      ]
     },
     "execution_count": 19,
     "metadata": {},
     "output_type": "execute_result"
    },
    {
     "data": {
      "image/png": "[encoded data removed]",
      "text/plain": [
       "<Figure size 435.25x360 with 1 Axes>"
      ]
     },
     "metadata": {
      "needs_background": "light"
     },
     "output_type": "display_data"
    },
    {
     "data": {
      "image/png": "[encoded data removed]",
      "text/plain": [
       "<Figure size 435.25x360 with 1 Axes>"
      ]
     },
     "metadata": {
      "needs_background": "light"
     },
     "output_type": "display_data"
    }
   ],
   "source": [
    "sns.lmplot(x='ChestPainType', y='ExerciseAngina', hue='HeartDisease', data=data)"
   ]
  },
  {
   "cell_type": "code",
   "execution_count": 20,
   "id": "7f8afb1c",
   "metadata": {},
   "outputs": [
    {
     "data": {
      "text/plain": [
       "<seaborn.axisgrid.FacetGrid at 0x156fcef3160>"
      ]
     },
     "execution_count": 20,
     "metadata": {},
     "output_type": "execute_result"
    },
    {
     "data": {
      "text/plain": [
       "<seaborn.axisgrid.FacetGrid at 0x156fcef3160>"
      ]
     },
     "execution_count": 20,
     "metadata": {},
     "output_type": "execute_result"
    },
    {
     "data": {
      "image/png": "[encoded data removed]",
      "text/plain": [
       "<Figure size 435.25x360 with 1 Axes>"
      ]
     },
     "metadata": {
      "needs_background": "light"
     },
     "output_type": "display_data"
    },
    {
     "data": {
      "image/png": "[encoded data removed]",
      "text/plain": [
       "<Figure size 435.25x360 with 1 Axes>"
      ]
     },
     "metadata": {
      "needs_background": "light"
     },
     "output_type": "display_data"
    }
   ],
   "source": [
    "sns.catplot(x='ChestPainType', y='ExerciseAngina', hue='HeartDisease', data=data)"
   ]
  },
  {
   "cell_type": "code",
   "execution_count": 21,
   "id": "49d7a6e9",
   "metadata": {},
   "outputs": [],
   "source": [
    "# The biggest factors at the moment appear to be ChestPainType, ST_Slope, ExerciseAngina"
   ]
  },
  {
   "cell_type": "code",
   "execution_count": 22,
   "id": "34dee05e",
   "metadata": {},
   "outputs": [],
   "source": [
    "# drop zeros from cholesterol and maxhr and retest\n",
    "\n",
    "nozerodata = data.loc[~(data[['Cholesterol']]==0).all(axis=1)]"
   ]
  },
  {
   "cell_type": "code",
   "execution_count": 23,
   "id": "e00eaf9c",
   "metadata": {},
   "outputs": [
    {
     "data": {
      "text/plain": [
       "array([289, 180, 283, 214, 195, 339, 237, 208, 207, 284, 211, 164, 204,\n",
       "       234, 273, 196, 201, 248, 267, 223, 184, 288, 215, 209, 260, 468,\n",
       "       188, 518, 167, 224, 172, 186, 254, 306, 250, 177, 227, 230, 294,\n",
       "       264, 259, 175, 318, 216, 340, 233, 205, 245, 194, 270, 213, 365,\n",
       "       342, 253, 277, 202, 297, 225, 246, 412, 265, 182, 218, 268, 163,\n",
       "       529, 100, 206, 238, 139, 263, 291, 229, 307, 210, 329, 147,  85,\n",
       "       269, 275, 179, 392, 466, 129, 241, 255, 276, 282, 338, 160, 156,\n",
       "       272, 240, 393, 161, 228, 292, 388, 166, 247, 331, 341, 243, 279,\n",
       "       198, 249, 168, 603, 159, 190, 185, 290, 212, 231, 222, 235, 320,\n",
       "       187, 266, 287, 404, 312, 251, 328, 285, 280, 192, 193, 308, 219,\n",
       "       257, 132, 226, 217, 303, 298, 256, 117, 295, 173, 315, 281, 309,\n",
       "       200, 336, 355, 326, 171, 491, 271, 274, 394, 221, 126, 305, 220,\n",
       "       242, 347, 344, 358, 169, 181, 236, 203, 153, 316, 311, 252, 458,\n",
       "       384, 258, 349, 142, 197, 113, 261, 310, 232, 110, 123, 170, 369,\n",
       "       152, 244, 165, 337, 300, 333, 385, 322, 564, 239, 293, 407, 149,\n",
       "       199, 417, 178, 319, 354, 330, 302, 313, 141, 327, 304, 286, 360,\n",
       "       262, 325, 299, 409, 174, 183, 321, 353, 335, 278, 157, 176, 131],\n",
       "      dtype=int64)"
      ]
     },
     "execution_count": 23,
     "metadata": {},
     "output_type": "execute_result"
    },
    {
     "data": {
      "text/plain": [
       "array([289, 180, 283, 214, 195, 339, 237, 208, 207, 284, 211, 164, 204,\n",
       "       234, 273, 196, 201, 248, 267, 223, 184, 288, 215, 209, 260, 468,\n",
       "       188, 518, 167, 224, 172, 186, 254, 306, 250, 177, 227, 230, 294,\n",
       "       264, 259, 175, 318, 216, 340, 233, 205, 245, 194, 270, 213, 365,\n",
       "       342, 253, 277, 202, 297, 225, 246, 412, 265, 182, 218, 268, 163,\n",
       "       529, 100, 206, 238, 139, 263, 291, 229, 307, 210, 329, 147,  85,\n",
       "       269, 275, 179, 392, 466, 129, 241, 255, 276, 282, 338, 160, 156,\n",
       "       272, 240, 393, 161, 228, 292, 388, 166, 247, 331, 341, 243, 279,\n",
       "       198, 249, 168, 603, 159, 190, 185, 290, 212, 231, 222, 235, 320,\n",
       "       187, 266, 287, 404, 312, 251, 328, 285, 280, 192, 193, 308, 219,\n",
       "       257, 132, 226, 217, 303, 298, 256, 117, 295, 173, 315, 281, 309,\n",
       "       200, 336, 355, 326, 171, 491, 271, 274, 394, 221, 126, 305, 220,\n",
       "       242, 347, 344, 358, 169, 181, 236, 203, 153, 316, 311, 252, 458,\n",
       "       384, 258, 349, 142, 197, 113, 261, 310, 232, 110, 123, 170, 369,\n",
       "       152, 244, 165, 337, 300, 333, 385, 322, 564, 239, 293, 407, 149,\n",
       "       199, 417, 178, 319, 354, 330, 302, 313, 141, 327, 304, 286, 360,\n",
       "       262, 325, 299, 409, 174, 183, 321, 353, 335, 278, 157, 176, 131],\n",
       "      dtype=int64)"
      ]
     },
     "execution_count": 23,
     "metadata": {},
     "output_type": "execute_result"
    }
   ],
   "source": [
    "nozerodata.Cholesterol.unique()"
   ]
  },
  {
   "cell_type": "code",
   "execution_count": 24,
   "id": "ba3810fe",
   "metadata": {},
   "outputs": [
    {
     "data": {
      "text/plain": [
       "Age                28\n",
       "Sex                 F\n",
       "ChestPainType       0\n",
       "RestingBP          92\n",
       "Cholesterol        85\n",
       "FastingBS           0\n",
       "RestingECG        LVH\n",
       "MaxHR              69\n",
       "ExerciseAngina      0\n",
       "Oldpeak          -0.1\n",
       "ST_Slope            0\n",
       "HeartDisease        0\n",
       "dtype: object"
      ]
     },
     "execution_count": 24,
     "metadata": {},
     "output_type": "execute_result"
    },
    {
     "data": {
      "text/plain": [
       "Age                28\n",
       "Sex                 F\n",
       "ChestPainType       0\n",
       "RestingBP          92\n",
       "Cholesterol        85\n",
       "FastingBS           0\n",
       "RestingECG        LVH\n",
       "MaxHR              69\n",
       "ExerciseAngina      0\n",
       "Oldpeak          -0.1\n",
       "ST_Slope            0\n",
       "HeartDisease        0\n",
       "dtype: object"
      ]
     },
     "execution_count": 24,
     "metadata": {},
     "output_type": "execute_result"
    }
   ],
   "source": [
    "nozerodata.min()"
   ]
  },
  {
   "cell_type": "code",
   "execution_count": 25,
   "id": "e63772f3",
   "metadata": {},
   "outputs": [
    {
     "data": {
      "text/html": [
       "<div>\n",
       "<style scoped>\n",
       "    .dataframe tbody tr th:only-of-type {\n",
       "        vertical-align: middle;\n",
       "    }\n",
       "\n",
       "    .dataframe tbody tr th {\n",
       "        vertical-align: top;\n",
       "    }\n",
       "\n",
       "    .dataframe thead th {\n",
       "        text-align: right;\n",
       "    }\n",
       "</style>\n",
       "<table border=\"1\" class=\"dataframe\">\n",
       "  <thead>\n",
       "    <tr style=\"text-align: right;\">\n",
       "      <th></th>\n",
       "      <th>Age</th>\n",
       "      <th>ChestPainType</th>\n",
       "      <th>RestingBP</th>\n",
       "      <th>Cholesterol</th>\n",
       "      <th>FastingBS</th>\n",
       "      <th>MaxHR</th>\n",
       "      <th>ExerciseAngina</th>\n",
       "      <th>Oldpeak</th>\n",
       "      <th>ST_Slope</th>\n",
       "      <th>HeartDisease</th>\n",
       "    </tr>\n",
       "  </thead>\n",
       "  <tbody>\n",
       "    <tr>\n",
       "      <th>Age</th>\n",
       "      <td>1.000000</td>\n",
       "      <td>0.173717</td>\n",
       "      <td>0.259865</td>\n",
       "      <td>0.058758</td>\n",
       "      <td>0.241338</td>\n",
       "      <td>-0.382112</td>\n",
       "      <td>0.245908</td>\n",
       "      <td>0.286006</td>\n",
       "      <td>0.285421</td>\n",
       "      <td>0.298617</td>\n",
       "    </tr>\n",
       "    <tr>\n",
       "      <th>ChestPainType</th>\n",
       "      <td>0.173717</td>\n",
       "      <td>1.000000</td>\n",
       "      <td>0.043508</td>\n",
       "      <td>0.079884</td>\n",
       "      <td>0.043448</td>\n",
       "      <td>-0.344047</td>\n",
       "      <td>0.447470</td>\n",
       "      <td>0.292942</td>\n",
       "      <td>0.338367</td>\n",
       "      <td>0.463177</td>\n",
       "    </tr>\n",
       "    <tr>\n",
       "      <th>RestingBP</th>\n",
       "      <td>0.259865</td>\n",
       "      <td>0.043508</td>\n",
       "      <td>1.000000</td>\n",
       "      <td>0.095939</td>\n",
       "      <td>0.173765</td>\n",
       "      <td>-0.125774</td>\n",
       "      <td>0.161035</td>\n",
       "      <td>0.198575</td>\n",
       "      <td>0.143881</td>\n",
       "      <td>0.173242</td>\n",
       "    </tr>\n",
       "    <tr>\n",
       "      <th>Cholesterol</th>\n",
       "      <td>0.058758</td>\n",
       "      <td>0.079884</td>\n",
       "      <td>0.095939</td>\n",
       "      <td>1.000000</td>\n",
       "      <td>0.054012</td>\n",
       "      <td>-0.019856</td>\n",
       "      <td>0.086768</td>\n",
       "      <td>0.058488</td>\n",
       "      <td>0.078516</td>\n",
       "      <td>0.103866</td>\n",
       "    </tr>\n",
       "    <tr>\n",
       "      <th>FastingBS</th>\n",
       "      <td>0.241338</td>\n",
       "      <td>0.043448</td>\n",
       "      <td>0.173765</td>\n",
       "      <td>0.054012</td>\n",
       "      <td>1.000000</td>\n",
       "      <td>-0.102710</td>\n",
       "      <td>0.109995</td>\n",
       "      <td>0.055568</td>\n",
       "      <td>0.157780</td>\n",
       "      <td>0.160594</td>\n",
       "    </tr>\n",
       "    <tr>\n",
       "      <th>MaxHR</th>\n",
       "      <td>-0.382112</td>\n",
       "      <td>-0.344047</td>\n",
       "      <td>-0.125774</td>\n",
       "      <td>-0.019856</td>\n",
       "      <td>-0.102710</td>\n",
       "      <td>1.000000</td>\n",
       "      <td>-0.396289</td>\n",
       "      <td>-0.259533</td>\n",
       "      <td>-0.349926</td>\n",
       "      <td>-0.377212</td>\n",
       "    </tr>\n",
       "    <tr>\n",
       "      <th>ExerciseAngina</th>\n",
       "      <td>0.245908</td>\n",
       "      <td>0.447470</td>\n",
       "      <td>0.161035</td>\n",
       "      <td>0.086768</td>\n",
       "      <td>0.109995</td>\n",
       "      <td>-0.396289</td>\n",
       "      <td>1.000000</td>\n",
       "      <td>0.465491</td>\n",
       "      <td>0.473543</td>\n",
       "      <td>0.551834</td>\n",
       "    </tr>\n",
       "    <tr>\n",
       "      <th>Oldpeak</th>\n",
       "      <td>0.286006</td>\n",
       "      <td>0.292942</td>\n",
       "      <td>0.198575</td>\n",
       "      <td>0.058488</td>\n",
       "      <td>0.055568</td>\n",
       "      <td>-0.259533</td>\n",
       "      <td>0.465491</td>\n",
       "      <td>1.000000</td>\n",
       "      <td>0.613961</td>\n",
       "      <td>0.495696</td>\n",
       "    </tr>\n",
       "    <tr>\n",
       "      <th>ST_Slope</th>\n",
       "      <td>0.285421</td>\n",
       "      <td>0.338367</td>\n",
       "      <td>0.143881</td>\n",
       "      <td>0.078516</td>\n",
       "      <td>0.157780</td>\n",
       "      <td>-0.349926</td>\n",
       "      <td>0.473543</td>\n",
       "      <td>0.613961</td>\n",
       "      <td>1.000000</td>\n",
       "      <td>0.597334</td>\n",
       "    </tr>\n",
       "    <tr>\n",
       "      <th>HeartDisease</th>\n",
       "      <td>0.298617</td>\n",
       "      <td>0.463177</td>\n",
       "      <td>0.173242</td>\n",
       "      <td>0.103866</td>\n",
       "      <td>0.160594</td>\n",
       "      <td>-0.377212</td>\n",
       "      <td>0.551834</td>\n",
       "      <td>0.495696</td>\n",
       "      <td>0.597334</td>\n",
       "      <td>1.000000</td>\n",
       "    </tr>\n",
       "  </tbody>\n",
       "</table>\n",
       "</div>"
      ],
      "text/plain": [
       "                     Age  ChestPainType  RestingBP  Cholesterol  FastingBS  \\\n",
       "Age             1.000000       0.173717   0.259865     0.058758   0.241338   \n",
       "ChestPainType   0.173717       1.000000   0.043508     0.079884   0.043448   \n",
       "RestingBP       0.259865       0.043508   1.000000     0.095939   0.173765   \n",
       "Cholesterol     0.058758       0.079884   0.095939     1.000000   0.054012   \n",
       "FastingBS       0.241338       0.043448   0.173765     0.054012   1.000000   \n",
       "MaxHR          -0.382112      -0.344047  -0.125774    -0.019856  -0.102710   \n",
       "ExerciseAngina  0.245908       0.447470   0.161035     0.086768   0.109995   \n",
       "Oldpeak         0.286006       0.292942   0.198575     0.058488   0.055568   \n",
       "ST_Slope        0.285421       0.338367   0.143881     0.078516   0.157780   \n",
       "HeartDisease    0.298617       0.463177   0.173242     0.103866   0.160594   \n",
       "\n",
       "                   MaxHR  ExerciseAngina   Oldpeak  ST_Slope  HeartDisease  \n",
       "Age            -0.382112        0.245908  0.286006  0.285421      0.298617  \n",
       "ChestPainType  -0.344047        0.447470  0.292942  0.338367      0.463177  \n",
       "RestingBP      -0.125774        0.161035  0.198575  0.143881      0.173242  \n",
       "Cholesterol    -0.019856        0.086768  0.058488  0.078516      0.103866  \n",
       "FastingBS      -0.102710        0.109995  0.055568  0.157780      0.160594  \n",
       "MaxHR           1.000000       -0.396289 -0.259533 -0.349926     -0.377212  \n",
       "ExerciseAngina -0.396289        1.000000  0.465491  0.473543      0.551834  \n",
       "Oldpeak        -0.259533        0.465491  1.000000  0.613961      0.495696  \n",
       "ST_Slope       -0.349926        0.473543  0.613961  1.000000      0.597334  \n",
       "HeartDisease   -0.377212        0.551834  0.495696  0.597334      1.000000  "
      ]
     },
     "execution_count": 25,
     "metadata": {},
     "output_type": "execute_result"
    },
    {
     "data": {
      "text/html": [
       "<div>\n",
       "<style scoped>\n",
       "    .dataframe tbody tr th:only-of-type {\n",
       "        vertical-align: middle;\n",
       "    }\n",
       "\n",
       "    .dataframe tbody tr th {\n",
       "        vertical-align: top;\n",
       "    }\n",
       "\n",
       "    .dataframe thead th {\n",
       "        text-align: right;\n",
       "    }\n",
       "</style>\n",
       "<table border=\"1\" class=\"dataframe\">\n",
       "  <thead>\n",
       "    <tr style=\"text-align: right;\">\n",
       "      <th></th>\n",
       "      <th>Age</th>\n",
       "      <th>ChestPainType</th>\n",
       "      <th>RestingBP</th>\n",
       "      <th>Cholesterol</th>\n",
       "      <th>FastingBS</th>\n",
       "      <th>MaxHR</th>\n",
       "      <th>ExerciseAngina</th>\n",
       "      <th>Oldpeak</th>\n",
       "      <th>ST_Slope</th>\n",
       "      <th>HeartDisease</th>\n",
       "    </tr>\n",
       "  </thead>\n",
       "  <tbody>\n",
       "    <tr>\n",
       "      <th>Age</th>\n",
       "      <td>1.000000</td>\n",
       "      <td>0.173717</td>\n",
       "      <td>0.259865</td>\n",
       "      <td>0.058758</td>\n",
       "      <td>0.241338</td>\n",
       "      <td>-0.382112</td>\n",
       "      <td>0.245908</td>\n",
       "      <td>0.286006</td>\n",
       "      <td>0.285421</td>\n",
       "      <td>0.298617</td>\n",
       "    </tr>\n",
       "    <tr>\n",
       "      <th>ChestPainType</th>\n",
       "      <td>0.173717</td>\n",
       "      <td>1.000000</td>\n",
       "      <td>0.043508</td>\n",
       "      <td>0.079884</td>\n",
       "      <td>0.043448</td>\n",
       "      <td>-0.344047</td>\n",
       "      <td>0.447470</td>\n",
       "      <td>0.292942</td>\n",
       "      <td>0.338367</td>\n",
       "      <td>0.463177</td>\n",
       "    </tr>\n",
       "    <tr>\n",
       "      <th>RestingBP</th>\n",
       "      <td>0.259865</td>\n",
       "      <td>0.043508</td>\n",
       "      <td>1.000000</td>\n",
       "      <td>0.095939</td>\n",
       "      <td>0.173765</td>\n",
       "      <td>-0.125774</td>\n",
       "      <td>0.161035</td>\n",
       "      <td>0.198575</td>\n",
       "      <td>0.143881</td>\n",
       "      <td>0.173242</td>\n",
       "    </tr>\n",
       "    <tr>\n",
       "      <th>Cholesterol</th>\n",
       "      <td>0.058758</td>\n",
       "      <td>0.079884</td>\n",
       "      <td>0.095939</td>\n",
       "      <td>1.000000</td>\n",
       "      <td>0.054012</td>\n",
       "      <td>-0.019856</td>\n",
       "      <td>0.086768</td>\n",
       "      <td>0.058488</td>\n",
       "      <td>0.078516</td>\n",
       "      <td>0.103866</td>\n",
       "    </tr>\n",
       "    <tr>\n",
       "      <th>FastingBS</th>\n",
       "      <td>0.241338</td>\n",
       "      <td>0.043448</td>\n",
       "      <td>0.173765</td>\n",
       "      <td>0.054012</td>\n",
       "      <td>1.000000</td>\n",
       "      <td>-0.102710</td>\n",
       "      <td>0.109995</td>\n",
       "      <td>0.055568</td>\n",
       "      <td>0.157780</td>\n",
       "      <td>0.160594</td>\n",
       "    </tr>\n",
       "    <tr>\n",
       "      <th>MaxHR</th>\n",
       "      <td>-0.382112</td>\n",
       "      <td>-0.344047</td>\n",
       "      <td>-0.125774</td>\n",
       "      <td>-0.019856</td>\n",
       "      <td>-0.102710</td>\n",
       "      <td>1.000000</td>\n",
       "      <td>-0.396289</td>\n",
       "      <td>-0.259533</td>\n",
       "      <td>-0.349926</td>\n",
       "      <td>-0.377212</td>\n",
       "    </tr>\n",
       "    <tr>\n",
       "      <th>ExerciseAngina</th>\n",
       "      <td>0.245908</td>\n",
       "      <td>0.447470</td>\n",
       "      <td>0.161035</td>\n",
       "      <td>0.086768</td>\n",
       "      <td>0.109995</td>\n",
       "      <td>-0.396289</td>\n",
       "      <td>1.000000</td>\n",
       "      <td>0.465491</td>\n",
       "      <td>0.473543</td>\n",
       "      <td>0.551834</td>\n",
       "    </tr>\n",
       "    <tr>\n",
       "      <th>Oldpeak</th>\n",
       "      <td>0.286006</td>\n",
       "      <td>0.292942</td>\n",
       "      <td>0.198575</td>\n",
       "      <td>0.058488</td>\n",
       "      <td>0.055568</td>\n",
       "      <td>-0.259533</td>\n",
       "      <td>0.465491</td>\n",
       "      <td>1.000000</td>\n",
       "      <td>0.613961</td>\n",
       "      <td>0.495696</td>\n",
       "    </tr>\n",
       "    <tr>\n",
       "      <th>ST_Slope</th>\n",
       "      <td>0.285421</td>\n",
       "      <td>0.338367</td>\n",
       "      <td>0.143881</td>\n",
       "      <td>0.078516</td>\n",
       "      <td>0.157780</td>\n",
       "      <td>-0.349926</td>\n",
       "      <td>0.473543</td>\n",
       "      <td>0.613961</td>\n",
       "      <td>1.000000</td>\n",
       "      <td>0.597334</td>\n",
       "    </tr>\n",
       "    <tr>\n",
       "      <th>HeartDisease</th>\n",
       "      <td>0.298617</td>\n",
       "      <td>0.463177</td>\n",
       "      <td>0.173242</td>\n",
       "      <td>0.103866</td>\n",
       "      <td>0.160594</td>\n",
       "      <td>-0.377212</td>\n",
       "      <td>0.551834</td>\n",
       "      <td>0.495696</td>\n",
       "      <td>0.597334</td>\n",
       "      <td>1.000000</td>\n",
       "    </tr>\n",
       "  </tbody>\n",
       "</table>\n",
       "</div>"
      ],
      "text/plain": [
       "                     Age  ChestPainType  RestingBP  Cholesterol  FastingBS  \\\n",
       "Age             1.000000       0.173717   0.259865     0.058758   0.241338   \n",
       "ChestPainType   0.173717       1.000000   0.043508     0.079884   0.043448   \n",
       "RestingBP       0.259865       0.043508   1.000000     0.095939   0.173765   \n",
       "Cholesterol     0.058758       0.079884   0.095939     1.000000   0.054012   \n",
       "FastingBS       0.241338       0.043448   0.173765     0.054012   1.000000   \n",
       "MaxHR          -0.382112      -0.344047  -0.125774    -0.019856  -0.102710   \n",
       "ExerciseAngina  0.245908       0.447470   0.161035     0.086768   0.109995   \n",
       "Oldpeak         0.286006       0.292942   0.198575     0.058488   0.055568   \n",
       "ST_Slope        0.285421       0.338367   0.143881     0.078516   0.157780   \n",
       "HeartDisease    0.298617       0.463177   0.173242     0.103866   0.160594   \n",
       "\n",
       "                   MaxHR  ExerciseAngina   Oldpeak  ST_Slope  HeartDisease  \n",
       "Age            -0.382112        0.245908  0.286006  0.285421      0.298617  \n",
       "ChestPainType  -0.344047        0.447470  0.292942  0.338367      0.463177  \n",
       "RestingBP      -0.125774        0.161035  0.198575  0.143881      0.173242  \n",
       "Cholesterol    -0.019856        0.086768  0.058488  0.078516      0.103866  \n",
       "FastingBS      -0.102710        0.109995  0.055568  0.157780      0.160594  \n",
       "MaxHR           1.000000       -0.396289 -0.259533 -0.349926     -0.377212  \n",
       "ExerciseAngina -0.396289        1.000000  0.465491  0.473543      0.551834  \n",
       "Oldpeak        -0.259533        0.465491  1.000000  0.613961      0.495696  \n",
       "ST_Slope       -0.349926        0.473543  0.613961  1.000000      0.597334  \n",
       "HeartDisease   -0.377212        0.551834  0.495696  0.597334      1.000000  "
      ]
     },
     "execution_count": 25,
     "metadata": {},
     "output_type": "execute_result"
    }
   ],
   "source": [
    "nozerodata.corr()"
   ]
  },
  {
   "cell_type": "code",
   "execution_count": 26,
   "id": "51ee34db",
   "metadata": {},
   "outputs": [
    {
     "data": {
      "text/plain": [
       "<AxesSubplot:>"
      ]
     },
     "execution_count": 26,
     "metadata": {},
     "output_type": "execute_result"
    },
    {
     "data": {
      "text/plain": [
       "<AxesSubplot:>"
      ]
     },
     "execution_count": 26,
     "metadata": {},
     "output_type": "execute_result"
    },
    {
     "data": {
      "image/png": "[encoded data removed]",
      "text/plain": [
       "<Figure size 432x288 with 2 Axes>"
      ]
     },
     "metadata": {
      "needs_background": "light"
     },
     "output_type": "display_data"
    },
    {
     "data": {
      "image/png": "[encoded data removed]",
      "text/plain": [
       "<Figure size 432x288 with 2 Axes>"
      ]
     },
     "metadata": {
      "needs_background": "light"
     },
     "output_type": "display_data"
    }
   ],
   "source": [
    "sns.heatmap(nozerodata.corr())"
   ]
  },
  {
   "cell_type": "code",
   "execution_count": 27,
   "id": "e0caedf0",
   "metadata": {},
   "outputs": [
    {
     "data": {
      "text/plain": [
       "<seaborn.axisgrid.FacetGrid at 0x156fd002220>"
      ]
     },
     "execution_count": 27,
     "metadata": {},
     "output_type": "execute_result"
    },
    {
     "data": {
      "text/plain": [
       "<seaborn.axisgrid.FacetGrid at 0x156fd002220>"
      ]
     },
     "execution_count": 27,
     "metadata": {},
     "output_type": "execute_result"
    },
    {
     "data": {
      "image/png": "[encoded data removed]",
      "text/plain": [
       "<Figure size 435.25x360 with 1 Axes>"
      ]
     },
     "metadata": {
      "needs_background": "light"
     },
     "output_type": "display_data"
    },
    {
     "data": {
      "image/png": "[encoded data removed]",
      "text/plain": [
       "<Figure size 435.25x360 with 1 Axes>"
      ]
     },
     "metadata": {
      "needs_background": "light"
     },
     "output_type": "display_data"
    }
   ],
   "source": [
    "sns.catplot(x='ST_Slope', y='ChestPainType', hue='HeartDisease', data=nozerodata)"
   ]
  },
  {
   "cell_type": "code",
   "execution_count": 28,
   "id": "4333647b",
   "metadata": {},
   "outputs": [
    {
     "data": {
      "text/plain": [
       "<seaborn.axisgrid.FacetGrid at 0x156fe0c6130>"
      ]
     },
     "execution_count": 28,
     "metadata": {},
     "output_type": "execute_result"
    },
    {
     "data": {
      "text/plain": [
       "<seaborn.axisgrid.FacetGrid at 0x156fe0c6130>"
      ]
     },
     "execution_count": 28,
     "metadata": {},
     "output_type": "execute_result"
    },
    {
     "data": {
      "image/png": "[encoded data removed]",
      "text/plain": [
       "<Figure size 435.25x360 with 1 Axes>"
      ]
     },
     "metadata": {
      "needs_background": "light"
     },
     "output_type": "display_data"
    },
    {
     "data": {
      "image/png": "[encoded data removed]",
      "text/plain": [
       "<Figure size 435.25x360 with 1 Axes>"
      ]
     },
     "metadata": {
      "needs_background": "light"
     },
     "output_type": "display_data"
    }
   ],
   "source": [
    "sns.lmplot(x='ST_Slope', y='ExerciseAngina', hue='HeartDisease', data=nozerodata)"
   ]
  },
  {
   "cell_type": "code",
   "execution_count": 29,
   "id": "cce2d637",
   "metadata": {},
   "outputs": [
    {
     "data": {
      "text/plain": [
       "<seaborn.axisgrid.FacetGrid at 0x156fe0f2d30>"
      ]
     },
     "execution_count": 29,
     "metadata": {},
     "output_type": "execute_result"
    },
    {
     "data": {
      "text/plain": [
       "<seaborn.axisgrid.FacetGrid at 0x156fe0f2d30>"
      ]
     },
     "execution_count": 29,
     "metadata": {},
     "output_type": "execute_result"
    },
    {
     "data": {
      "image/png": "[encoded data removed]",
      "text/plain": [
       "<Figure size 435.25x360 with 1 Axes>"
      ]
     },
     "metadata": {
      "needs_background": "light"
     },
     "output_type": "display_data"
    },
    {
     "data": {
      "image/png": "[encoded data removed]",
      "text/plain": [
       "<Figure size 435.25x360 with 1 Axes>"
      ]
     },
     "metadata": {
      "needs_background": "light"
     },
     "output_type": "display_data"
    }
   ],
   "source": [
    "sns.lmplot(x='ST_Slope', y='ExerciseAngina', hue='HeartDisease', data=nozerodata)"
   ]
  },
  {
   "cell_type": "code",
   "execution_count": 30,
   "id": "a2874625",
   "metadata": {},
   "outputs": [
    {
     "data": {
      "text/plain": [
       "<seaborn.axisgrid.FacetGrid at 0x156fe176c40>"
      ]
     },
     "execution_count": 30,
     "metadata": {},
     "output_type": "execute_result"
    },
    {
     "data": {
      "text/plain": [
       "<seaborn.axisgrid.FacetGrid at 0x156fe176c40>"
      ]
     },
     "execution_count": 30,
     "metadata": {},
     "output_type": "execute_result"
    },
    {
     "data": {
      "image/png": "[encoded data removed]",
      "text/plain": [
       "<Figure size 435.25x360 with 1 Axes>"
      ]
     },
     "metadata": {
      "needs_background": "light"
     },
     "output_type": "display_data"
    },
    {
     "data": {
      "image/png": "[encoded data removed]",
      "text/plain": [
       "<Figure size 435.25x360 with 1 Axes>"
      ]
     },
     "metadata": {
      "needs_background": "light"
     },
     "output_type": "display_data"
    }
   ],
   "source": [
    "sns.catplot(x='ChestPainType', y='ExerciseAngina', hue='HeartDisease', data=nozerodata)"
   ]
  },
  {
   "cell_type": "code",
   "execution_count": 31,
   "id": "7eb43ebb",
   "metadata": {},
   "outputs": [],
   "source": [
    "# still the same categories showing as most significant, ST_Slope, ExerciseAngina, ChestPainType"
   ]
  },
  {
   "cell_type": "code",
   "execution_count": 53,
   "id": "1ff83071",
   "metadata": {},
   "outputs": [],
   "source": [
    "nozerodata.HeartDisease = nozerodata.HeartDisease.replace(0, 'No')\n",
    "nozerodata.HeartDisease = nozerodata.HeartDisease.replace('yes', 'Yes')\n",
    "\n",
    "nozerodata.ChestPainType = nozerodata.ChestPainType.replace(0, 'TA')\n",
    "nozerodata.ChestPainType = nozerodata.ChestPainType.replace(1, 'ATA')\n",
    "nozerodata.ChestPainType = nozerodata.ChestPainType.replace(2, 'NAP')\n",
    "nozerodata.ChestPainType = nozerodata.ChestPainType.replace(3, 'ASY')\n",
    "\n",
    "nozerodata.ExerciseAngina = nozerodata.ExerciseAngina.replace(0, 'No')\n",
    "nozerodata.ExerciseAngina = nozerodata.ExerciseAngina.replace(1, 'Yes')\n",
    "\n",
    "nozerodata.ST_Slope = nozerodata.ST_Slope.replace(0, 'Up')\n",
    "nozerodata.ST_Slope = nozerodata.ST_Slope.replace(1, 'Flat')\n",
    "nozerodata.ST_Slope = nozerodata.ST_Slope.replace(2, 'Down')"
   ]
  },
  {
   "cell_type": "code",
   "execution_count": 54,
   "id": "2a417295",
   "metadata": {},
   "outputs": [
    {
     "data": {
      "text/html": [
       "<div>\n",
       "<style scoped>\n",
       "    .dataframe tbody tr th:only-of-type {\n",
       "        vertical-align: middle;\n",
       "    }\n",
       "\n",
       "    .dataframe tbody tr th {\n",
       "        vertical-align: top;\n",
       "    }\n",
       "\n",
       "    .dataframe thead th {\n",
       "        text-align: right;\n",
       "    }\n",
       "</style>\n",
       "<table border=\"1\" class=\"dataframe\">\n",
       "  <thead>\n",
       "    <tr style=\"text-align: right;\">\n",
       "      <th></th>\n",
       "      <th>Age</th>\n",
       "      <th>Sex</th>\n",
       "      <th>ChestPainType</th>\n",
       "      <th>RestingBP</th>\n",
       "      <th>Cholesterol</th>\n",
       "      <th>FastingBS</th>\n",
       "      <th>RestingECG</th>\n",
       "      <th>MaxHR</th>\n",
       "      <th>ExerciseAngina</th>\n",
       "      <th>Oldpeak</th>\n",
       "      <th>ST_Slope</th>\n",
       "      <th>HeartDisease</th>\n",
       "    </tr>\n",
       "  </thead>\n",
       "  <tbody>\n",
       "    <tr>\n",
       "      <th>0</th>\n",
       "      <td>40</td>\n",
       "      <td>M</td>\n",
       "      <td>ATA</td>\n",
       "      <td>140</td>\n",
       "      <td>289</td>\n",
       "      <td>0</td>\n",
       "      <td>Normal</td>\n",
       "      <td>172</td>\n",
       "      <td>No</td>\n",
       "      <td>0.0</td>\n",
       "      <td>Up</td>\n",
       "      <td>No</td>\n",
       "    </tr>\n",
       "    <tr>\n",
       "      <th>1</th>\n",
       "      <td>49</td>\n",
       "      <td>F</td>\n",
       "      <td>NAP</td>\n",
       "      <td>160</td>\n",
       "      <td>180</td>\n",
       "      <td>0</td>\n",
       "      <td>Normal</td>\n",
       "      <td>156</td>\n",
       "      <td>No</td>\n",
       "      <td>1.0</td>\n",
       "      <td>Flat</td>\n",
       "      <td>Yes</td>\n",
       "    </tr>\n",
       "    <tr>\n",
       "      <th>2</th>\n",
       "      <td>37</td>\n",
       "      <td>M</td>\n",
       "      <td>ATA</td>\n",
       "      <td>130</td>\n",
       "      <td>283</td>\n",
       "      <td>0</td>\n",
       "      <td>ST</td>\n",
       "      <td>98</td>\n",
       "      <td>No</td>\n",
       "      <td>0.0</td>\n",
       "      <td>Up</td>\n",
       "      <td>No</td>\n",
       "    </tr>\n",
       "    <tr>\n",
       "      <th>3</th>\n",
       "      <td>48</td>\n",
       "      <td>F</td>\n",
       "      <td>ASY</td>\n",
       "      <td>138</td>\n",
       "      <td>214</td>\n",
       "      <td>0</td>\n",
       "      <td>Normal</td>\n",
       "      <td>108</td>\n",
       "      <td>Yes</td>\n",
       "      <td>1.5</td>\n",
       "      <td>Flat</td>\n",
       "      <td>Yes</td>\n",
       "    </tr>\n",
       "    <tr>\n",
       "      <th>4</th>\n",
       "      <td>54</td>\n",
       "      <td>M</td>\n",
       "      <td>NAP</td>\n",
       "      <td>150</td>\n",
       "      <td>195</td>\n",
       "      <td>0</td>\n",
       "      <td>Normal</td>\n",
       "      <td>122</td>\n",
       "      <td>No</td>\n",
       "      <td>0.0</td>\n",
       "      <td>Up</td>\n",
       "      <td>No</td>\n",
       "    </tr>\n",
       "  </tbody>\n",
       "</table>\n",
       "</div>"
      ],
      "text/plain": [
       "   Age Sex ChestPainType  RestingBP  Cholesterol  FastingBS RestingECG  MaxHR  \\\n",
       "0   40   M           ATA        140          289          0     Normal    172   \n",
       "1   49   F           NAP        160          180          0     Normal    156   \n",
       "2   37   M           ATA        130          283          0         ST     98   \n",
       "3   48   F           ASY        138          214          0     Normal    108   \n",
       "4   54   M           NAP        150          195          0     Normal    122   \n",
       "\n",
       "  ExerciseAngina  Oldpeak ST_Slope HeartDisease  \n",
       "0             No      0.0       Up           No  \n",
       "1             No      1.0     Flat          Yes  \n",
       "2             No      0.0       Up           No  \n",
       "3            Yes      1.5     Flat          Yes  \n",
       "4             No      0.0       Up           No  "
      ]
     },
     "execution_count": 54,
     "metadata": {},
     "output_type": "execute_result"
    },
    {
     "data": {
      "text/html": [
       "<div>\n",
       "<style scoped>\n",
       "    .dataframe tbody tr th:only-of-type {\n",
       "        vertical-align: middle;\n",
       "    }\n",
       "\n",
       "    .dataframe tbody tr th {\n",
       "        vertical-align: top;\n",
       "    }\n",
       "\n",
       "    .dataframe thead th {\n",
       "        text-align: right;\n",
       "    }\n",
       "</style>\n",
       "<table border=\"1\" class=\"dataframe\">\n",
       "  <thead>\n",
       "    <tr style=\"text-align: right;\">\n",
       "      <th></th>\n",
       "      <th>Age</th>\n",
       "      <th>Sex</th>\n",
       "      <th>ChestPainType</th>\n",
       "      <th>RestingBP</th>\n",
       "      <th>Cholesterol</th>\n",
       "      <th>FastingBS</th>\n",
       "      <th>RestingECG</th>\n",
       "      <th>MaxHR</th>\n",
       "      <th>ExerciseAngina</th>\n",
       "      <th>Oldpeak</th>\n",
       "      <th>ST_Slope</th>\n",
       "      <th>HeartDisease</th>\n",
       "    </tr>\n",
       "  </thead>\n",
       "  <tbody>\n",
       "    <tr>\n",
       "      <th>0</th>\n",
       "      <td>40</td>\n",
       "      <td>M</td>\n",
       "      <td>ATA</td>\n",
       "      <td>140</td>\n",
       "      <td>289</td>\n",
       "      <td>0</td>\n",
       "      <td>Normal</td>\n",
       "      <td>172</td>\n",
       "      <td>No</td>\n",
       "      <td>0.0</td>\n",
       "      <td>Up</td>\n",
       "      <td>No</td>\n",
       "    </tr>\n",
       "    <tr>\n",
       "      <th>1</th>\n",
       "      <td>49</td>\n",
       "      <td>F</td>\n",
       "      <td>NAP</td>\n",
       "      <td>160</td>\n",
       "      <td>180</td>\n",
       "      <td>0</td>\n",
       "      <td>Normal</td>\n",
       "      <td>156</td>\n",
       "      <td>No</td>\n",
       "      <td>1.0</td>\n",
       "      <td>Flat</td>\n",
       "      <td>Yes</td>\n",
       "    </tr>\n",
       "    <tr>\n",
       "      <th>2</th>\n",
       "      <td>37</td>\n",
       "      <td>M</td>\n",
       "      <td>ATA</td>\n",
       "      <td>130</td>\n",
       "      <td>283</td>\n",
       "      <td>0</td>\n",
       "      <td>ST</td>\n",
       "      <td>98</td>\n",
       "      <td>No</td>\n",
       "      <td>0.0</td>\n",
       "      <td>Up</td>\n",
       "      <td>No</td>\n",
       "    </tr>\n",
       "    <tr>\n",
       "      <th>3</th>\n",
       "      <td>48</td>\n",
       "      <td>F</td>\n",
       "      <td>ASY</td>\n",
       "      <td>138</td>\n",
       "      <td>214</td>\n",
       "      <td>0</td>\n",
       "      <td>Normal</td>\n",
       "      <td>108</td>\n",
       "      <td>Yes</td>\n",
       "      <td>1.5</td>\n",
       "      <td>Flat</td>\n",
       "      <td>Yes</td>\n",
       "    </tr>\n",
       "    <tr>\n",
       "      <th>4</th>\n",
       "      <td>54</td>\n",
       "      <td>M</td>\n",
       "      <td>NAP</td>\n",
       "      <td>150</td>\n",
       "      <td>195</td>\n",
       "      <td>0</td>\n",
       "      <td>Normal</td>\n",
       "      <td>122</td>\n",
       "      <td>No</td>\n",
       "      <td>0.0</td>\n",
       "      <td>Up</td>\n",
       "      <td>No</td>\n",
       "    </tr>\n",
       "  </tbody>\n",
       "</table>\n",
       "</div>"
      ],
      "text/plain": [
       "   Age Sex ChestPainType  RestingBP  Cholesterol  FastingBS RestingECG  MaxHR  \\\n",
       "0   40   M           ATA        140          289          0     Normal    172   \n",
       "1   49   F           NAP        160          180          0     Normal    156   \n",
       "2   37   M           ATA        130          283          0         ST     98   \n",
       "3   48   F           ASY        138          214          0     Normal    108   \n",
       "4   54   M           NAP        150          195          0     Normal    122   \n",
       "\n",
       "  ExerciseAngina  Oldpeak ST_Slope HeartDisease  \n",
       "0             No      0.0       Up           No  \n",
       "1             No      1.0     Flat          Yes  \n",
       "2             No      0.0       Up           No  \n",
       "3            Yes      1.5     Flat          Yes  \n",
       "4             No      0.0       Up           No  "
      ]
     },
     "execution_count": 54,
     "metadata": {},
     "output_type": "execute_result"
    }
   ],
   "source": [
    "nozerodata.head()"
   ]
  },
  {
   "cell_type": "markdown",
   "id": "435cb792",
   "metadata": {},
   "source": [
    " "
   ]
  },
  {
   "cell_type": "markdown",
   "id": "7c4ecc89",
   "metadata": {},
   "source": [
    "# Below will be the Chi Statistic Tests"
   ]
  },
  {
   "cell_type": "markdown",
   "id": "c35c1dbb",
   "metadata": {},
   "source": [
    " "
   ]
  },
  {
   "cell_type": "markdown",
   "id": "4b5dd67f",
   "metadata": {},
   "source": [
    " Here I will look if there is a relationship between Sex and Heart Disease"
   ]
  },
  {
   "cell_type": "markdown",
   "id": "ca5aabe1",
   "metadata": {},
   "source": [
    " "
   ]
  },
  {
   "cell_type": "code",
   "execution_count": 55,
   "id": "25e97153",
   "metadata": {},
   "outputs": [],
   "source": [
    "data_sex = pd.crosstab(nozerodata['Sex'], nozerodata['HeartDisease'])"
   ]
  },
  {
   "cell_type": "code",
   "execution_count": 56,
   "id": "5ef45dbf",
   "metadata": {},
   "outputs": [
    {
     "name": "stdout",
     "output_type": "stream",
     "text": [
      "HeartDisease   No  Yes\n",
      "Sex                   \n",
      "F             142   40\n",
      "M             248  316\n",
      "HeartDisease   No  Yes\n",
      "Sex                   \n",
      "F             142   40\n",
      "M             248  316\n"
     ]
    }
   ],
   "source": [
    "print(data_sex)"
   ]
  },
  {
   "cell_type": "code",
   "execution_count": 58,
   "id": "bd5e3ee6",
   "metadata": {},
   "outputs": [
    {
     "name": "stdout",
     "output_type": "stream",
     "text": [
      "[[142  40]\n",
      " [248 316]]\n",
      "[[142  40]\n",
      " [248 316]]\n"
     ]
    }
   ],
   "source": [
    "observed_val_sex = data_sex.values\n",
    "print(observed_val_sex)"
   ]
  },
  {
   "cell_type": "code",
   "execution_count": 65,
   "id": "a96abfcc",
   "metadata": {},
   "outputs": [],
   "source": [
    "import scipy.stats as stats\n",
    "from scipy.stats import chi2"
   ]
  },
  {
   "cell_type": "code",
   "execution_count": 66,
   "id": "661c5f1b",
   "metadata": {},
   "outputs": [
    {
     "data": {
      "text/plain": [
       "(62.58908315427757,\n",
       " 2.5466116402861134e-15,\n",
       " 1,\n",
       " array([[ 95.14745308,  86.85254692],\n",
       "        [294.85254692, 269.14745308]]))"
      ]
     },
     "execution_count": 66,
     "metadata": {},
     "output_type": "execute_result"
    },
    {
     "data": {
      "text/plain": [
       "(62.58908315427757,\n",
       " 2.5466116402861134e-15,\n",
       " 1,\n",
       " array([[ 95.14745308,  86.85254692],\n",
       "        [294.85254692, 269.14745308]]))"
      ]
     },
     "execution_count": 66,
     "metadata": {},
     "output_type": "execute_result"
    }
   ],
   "source": [
    "sex_val = stats.chi2_contingency(data_sex)\n",
    "sex_val"
   ]
  },
  {
   "cell_type": "code",
   "execution_count": 67,
   "id": "0c9dbfeb",
   "metadata": {},
   "outputs": [],
   "source": [
    "expected_sexvals=sex_val[3]"
   ]
  },
  {
   "cell_type": "code",
   "execution_count": 68,
   "id": "1f595c03",
   "metadata": {},
   "outputs": [
    {
     "name": "stdout",
     "output_type": "stream",
     "text": [
      "Degree of Freedom: 1\n",
      "Degree of Freedom: 1\n"
     ]
    }
   ],
   "source": [
    "no_rows=len(data_sex.iloc[0:2,0])\n",
    "no_columns=len(data_sex.iloc[0,0:2])\n",
    "ddof=(no_rows-1)*(no_columns-1)\n",
    "print('Degree of Freedom:', ddof)\n",
    "alpha=0.05"
   ]
  },
  {
   "cell_type": "code",
   "execution_count": 69,
   "id": "6194989a",
   "metadata": {},
   "outputs": [],
   "source": [
    "chi_square=sum([(o-e)**2./e for o,e in zip(observed_val_sex, expected_sexvals)])\n",
    "chi_square_statistic=chi_square[0]+chi_square[1]"
   ]
  },
  {
   "cell_type": "code",
   "execution_count": 70,
   "id": "6458a1f4",
   "metadata": {},
   "outputs": [
    {
     "name": "stdout",
     "output_type": "stream",
     "text": [
      "63.94664942054928\n",
      "63.94664942054928\n"
     ]
    }
   ],
   "source": [
    "print(chi_square_statistic)"
   ]
  },
  {
   "cell_type": "code",
   "execution_count": 71,
   "id": "4cd223f5",
   "metadata": {},
   "outputs": [
    {
     "name": "stdout",
     "output_type": "stream",
     "text": [
      "3.841458820694124\n",
      "3.841458820694124\n"
     ]
    }
   ],
   "source": [
    "crit_val=chi2.ppf(q=1-alpha, df=ddof)\n",
    "print(crit_val)"
   ]
  },
  {
   "cell_type": "code",
   "execution_count": 72,
   "id": "2cd4f43e",
   "metadata": {},
   "outputs": [
    {
     "name": "stdout",
     "output_type": "stream",
     "text": [
      "p-val:  1.3322676295501878e-15\n",
      "Significance level:  0.05\n",
      "Degree of Freedom:  1\n",
      "p-val:  1.3322676295501878e-15\n",
      "p-val:  1.3322676295501878e-15\n",
      "Significance level:  0.05\n",
      "Degree of Freedom:  1\n",
      "p-val:  1.3322676295501878e-15\n"
     ]
    }
   ],
   "source": [
    "p_value=1-chi2.cdf(x=chi_square_statistic, df=ddof)\n",
    "print('p-val: ', p_value)\n",
    "print('Significance level: ', alpha)\n",
    "print('Degree of Freedom: ', ddof)\n",
    "print('p-val: ', p_value)"
   ]
  },
  {
   "cell_type": "code",
   "execution_count": 75,
   "id": "307cd259",
   "metadata": {},
   "outputs": [
    {
     "name": "stdout",
     "output_type": "stream",
     "text": [
      "Reject H0, there is a relationship between 2 cat variables\n",
      "Reject H0, there is a relationship between 2 cat variables\n",
      "Reject H0, there is a relationship between 2 cat variables\n",
      "Reject H0, there is a relationship between 2 cat variables\n"
     ]
    }
   ],
   "source": [
    "if chi_square_statistic>=crit_val:\n",
    "    print('Reject H0, there is a relationship between 2 cat variables')\n",
    "else: \n",
    "    print('Retain H0, there is no relationship between 2 cat variables')\n",
    "          \n",
    "if p_value<=alpha:\n",
    "    print('Reject H0, there is a relationship between 2 cat variables')\n",
    "else: \n",
    "    print('Retain H0, there is no relationship between 2 cat variables')"
   ]
  },
  {
   "cell_type": "markdown",
   "id": "168b929b",
   "metadata": {},
   "source": [
    " Here I will look if there is a relationship between ChestPainType (CPT) and Heart Disease\n",
    " \n",
    " "
   ]
  },
  {
   "cell_type": "markdown",
   "id": "01b6227d",
   "metadata": {},
   "source": [
    " "
   ]
  },
  {
   "cell_type": "code",
   "execution_count": 86,
   "id": "60e812ce",
   "metadata": {},
   "outputs": [],
   "source": [
    "data_cpt = pd.crosstab(nozerodata['ChestPainType'], nozerodata['HeartDisease'])"
   ]
  },
  {
   "cell_type": "code",
   "execution_count": 87,
   "id": "eca787d1",
   "metadata": {},
   "outputs": [
    {
     "name": "stdout",
     "output_type": "stream",
     "text": [
      "HeartDisease    No  Yes\n",
      "ChestPainType          \n",
      "ASY             96  274\n",
      "ATA            145   21\n",
      "NAP            123   46\n",
      "TA              26   15\n",
      "HeartDisease    No  Yes\n",
      "ChestPainType          \n",
      "ASY             96  274\n",
      "ATA            145   21\n",
      "NAP            123   46\n",
      "TA              26   15\n"
     ]
    }
   ],
   "source": [
    "print(data_cpt)"
   ]
  },
  {
   "cell_type": "code",
   "execution_count": 88,
   "id": "3e9f3852",
   "metadata": {},
   "outputs": [
    {
     "name": "stdout",
     "output_type": "stream",
     "text": [
      "[[ 96 274]\n",
      " [145  21]\n",
      " [123  46]\n",
      " [ 26  15]]\n",
      "[[ 96 274]\n",
      " [145  21]\n",
      " [123  46]\n",
      " [ 26  15]]\n"
     ]
    }
   ],
   "source": [
    "observed_cptval = data_cpt.values\n",
    "print(observed_cptval)"
   ]
  },
  {
   "cell_type": "code",
   "execution_count": 89,
   "id": "1615910a",
   "metadata": {},
   "outputs": [
    {
     "data": {
      "text/plain": [
       "(215.19039576001535,\n",
       " 2.199657628673997e-46,\n",
       " 3,\n",
       " array([[193.43163539, 176.56836461],\n",
       "        [ 86.78284182,  79.21715818],\n",
       "        [ 88.35120643,  80.64879357],\n",
       "        [ 21.43431635,  19.56568365]]))"
      ]
     },
     "execution_count": 89,
     "metadata": {},
     "output_type": "execute_result"
    },
    {
     "data": {
      "text/plain": [
       "(215.19039576001535,\n",
       " 2.199657628673997e-46,\n",
       " 3,\n",
       " array([[193.43163539, 176.56836461],\n",
       "        [ 86.78284182,  79.21715818],\n",
       "        [ 88.35120643,  80.64879357],\n",
       "        [ 21.43431635,  19.56568365]]))"
      ]
     },
     "execution_count": 89,
     "metadata": {},
     "output_type": "execute_result"
    }
   ],
   "source": [
    "cpt_val = stats.chi2_contingency(data_cpt)\n",
    "cpt_val"
   ]
  },
  {
   "cell_type": "code",
   "execution_count": 90,
   "id": "641a097d",
   "metadata": {},
   "outputs": [],
   "source": [
    "expected_cptvals=cpt_val[3]"
   ]
  },
  {
   "cell_type": "code",
   "execution_count": 129,
   "id": "915092f4",
   "metadata": {},
   "outputs": [
    {
     "name": "stdout",
     "output_type": "stream",
     "text": [
      "Degree of Freedom: 2\n",
      "Degree of Freedom: 2\n"
     ]
    }
   ],
   "source": [
    "no_rows=len(data_cpt.iloc[0:4,0])\n",
    "no_columns=len(data_cpt.iloc[0,0:2])\n",
    "ddof=(no_rows-1)*(no_columns-1)\n",
    "print('Degree of Freedom:', ddof)\n",
    "alpha=0.05"
   ]
  },
  {
   "cell_type": "code",
   "execution_count": 130,
   "id": "30a596a9",
   "metadata": {},
   "outputs": [],
   "source": [
    "chi_square=sum([(o-e)**2./e for o,e in zip(observed_cptval, expected_cptvals)])\n",
    "chi_square_statistic=chi_square[0]+chi_square[1]"
   ]
  },
  {
   "cell_type": "code",
   "execution_count": 131,
   "id": "bff83c0e",
   "metadata": {},
   "outputs": [
    {
     "name": "stdout",
     "output_type": "stream",
     "text": [
      "215.19039576001538\n",
      "215.19039576001538\n"
     ]
    }
   ],
   "source": [
    "print(chi_square_statistic)"
   ]
  },
  {
   "cell_type": "code",
   "execution_count": 132,
   "id": "85adce93",
   "metadata": {},
   "outputs": [
    {
     "name": "stdout",
     "output_type": "stream",
     "text": [
      "5.991464547107979\n",
      "5.991464547107979\n"
     ]
    }
   ],
   "source": [
    "crit_val=chi2.ppf(q=1-alpha, df=ddof)\n",
    "print(crit_val)"
   ]
  },
  {
   "cell_type": "code",
   "execution_count": 133,
   "id": "8a402a56",
   "metadata": {},
   "outputs": [
    {
     "name": "stdout",
     "output_type": "stream",
     "text": [
      "p-val:  0.0\n",
      "Significance level:  0.05\n",
      "Degree of Freedom:  2\n",
      "p-val:  0.0\n",
      "p-val:  0.0\n",
      "Significance level:  0.05\n",
      "Degree of Freedom:  2\n",
      "p-val:  0.0\n"
     ]
    }
   ],
   "source": [
    "p_value = 1-chi2.cdf(x=chi_square_statistic, df=ddof)\n",
    "print('p-val: ', p_value)\n",
    "print('Significance level: ', alpha)\n",
    "print('Degree of Freedom: ', ddof)\n",
    "print('p-val: ', p_value)"
   ]
  },
  {
   "cell_type": "code",
   "execution_count": 134,
   "id": "b7f9bb87",
   "metadata": {},
   "outputs": [
    {
     "name": "stdout",
     "output_type": "stream",
     "text": [
      "Reject H0, there is a relationship between 2 cat variables\n",
      "Reject H0, there is a relationship between 2 cat variables\n",
      "Reject H0, there is a relationship between 2 cat variables\n",
      "Reject H0, there is a relationship between 2 cat variables\n"
     ]
    }
   ],
   "source": [
    "if chi_square_statistic>=crit_val:\n",
    "    print('Reject H0, there is a relationship between 2 cat variables')\n",
    "else: \n",
    "    print('Retain H0, there is no relationship between 2 cat variables')\n",
    "          \n",
    "if p_value<=alpha:\n",
    "    print('Reject H0, there is a relationship between 2 cat variables')\n",
    "else: \n",
    "    print('Retain H0, there is no relationship between 2 cat variables')"
   ]
  },
  {
   "cell_type": "markdown",
   "id": "508d95c9",
   "metadata": {},
   "source": [
    " Here I will look if there is a relationship between RestingECG (RECG) and Heart Disease"
   ]
  },
  {
   "cell_type": "markdown",
   "id": "5eeca0b2",
   "metadata": {},
   "source": [
    "  "
   ]
  },
  {
   "cell_type": "code",
   "execution_count": 119,
   "id": "b3a3e473",
   "metadata": {},
   "outputs": [],
   "source": [
    "data_recg = pd.crosstab(nozerodata['RestingECG'], nozerodata['HeartDisease'])"
   ]
  },
  {
   "cell_type": "code",
   "execution_count": 120,
   "id": "61d3ac90",
   "metadata": {},
   "outputs": [
    {
     "name": "stdout",
     "output_type": "stream",
     "text": [
      "HeartDisease   No  Yes\n",
      "RestingECG            \n",
      "LVH            81   95\n",
      "Normal        257  188\n",
      "ST             52   73\n",
      "HeartDisease   No  Yes\n",
      "RestingECG            \n",
      "LVH            81   95\n",
      "Normal        257  188\n",
      "ST             52   73\n"
     ]
    }
   ],
   "source": [
    "print(data_recg)"
   ]
  },
  {
   "cell_type": "code",
   "execution_count": 121,
   "id": "fd2aaba0",
   "metadata": {},
   "outputs": [
    {
     "name": "stdout",
     "output_type": "stream",
     "text": [
      "[[ 81  95]\n",
      " [257 188]\n",
      " [ 52  73]]\n",
      "[[ 81  95]\n",
      " [257 188]\n",
      " [ 52  73]]\n"
     ]
    }
   ],
   "source": [
    "observed_recgval = data_recg.values\n",
    "print(observed_recgval)"
   ]
  },
  {
   "cell_type": "code",
   "execution_count": 122,
   "id": "f8dfd607",
   "metadata": {},
   "outputs": [
    {
     "data": {
      "text/plain": [
       "(13.819621153250232,\n",
       " 0.0009979468130349501,\n",
       " 2,\n",
       " array([[ 92.01072386,  83.98927614],\n",
       "        [232.64075067, 212.35924933],\n",
       "        [ 65.34852547,  59.65147453]]))"
      ]
     },
     "execution_count": 122,
     "metadata": {},
     "output_type": "execute_result"
    },
    {
     "data": {
      "text/plain": [
       "(13.819621153250232,\n",
       " 0.0009979468130349501,\n",
       " 2,\n",
       " array([[ 92.01072386,  83.98927614],\n",
       "        [232.64075067, 212.35924933],\n",
       "        [ 65.34852547,  59.65147453]]))"
      ]
     },
     "execution_count": 122,
     "metadata": {},
     "output_type": "execute_result"
    }
   ],
   "source": [
    "recg_val = stats.chi2_contingency(data_recg)\n",
    "recg_val"
   ]
  },
  {
   "cell_type": "code",
   "execution_count": 123,
   "id": "b4a184de",
   "metadata": {},
   "outputs": [],
   "source": [
    "expected_recgvals=recg_val[3]"
   ]
  },
  {
   "cell_type": "code",
   "execution_count": 135,
   "id": "05ab41c1",
   "metadata": {},
   "outputs": [
    {
     "name": "stdout",
     "output_type": "stream",
     "text": [
      "Degree of Freedom: 2\n",
      "Degree of Freedom: 2\n"
     ]
    }
   ],
   "source": [
    "no_rows=len(data_recg.iloc[0:3,0])\n",
    "no_columns=len(data_recg.iloc[0,0:2])\n",
    "ddof=(no_rows-1)*(no_columns-1)\n",
    "print('Degree of Freedom:', ddof)\n",
    "alpha=0.05"
   ]
  },
  {
   "cell_type": "code",
   "execution_count": 136,
   "id": "9aa780c1",
   "metadata": {},
   "outputs": [],
   "source": [
    "chi_square=sum([(o-e)**2./e for o,e in zip(observed_recgval, expected_recgvals)])\n",
    "chi_square_statistic=chi_square[0]+chi_square[1]"
   ]
  },
  {
   "cell_type": "code",
   "execution_count": 137,
   "id": "1e729568",
   "metadata": {},
   "outputs": [
    {
     "name": "stdout",
     "output_type": "stream",
     "text": [
      "13.819621153250228\n",
      "13.819621153250228\n"
     ]
    }
   ],
   "source": [
    "print(chi_square_statistic)"
   ]
  },
  {
   "cell_type": "code",
   "execution_count": 138,
   "id": "7986bf0a",
   "metadata": {},
   "outputs": [
    {
     "name": "stdout",
     "output_type": "stream",
     "text": [
      "5.991464547107979\n",
      "5.991464547107979\n"
     ]
    }
   ],
   "source": [
    "crit_val=chi2.ppf(q=1-alpha, df=ddof)\n",
    "print(crit_val)"
   ]
  },
  {
   "cell_type": "code",
   "execution_count": 139,
   "id": "37217e41",
   "metadata": {},
   "outputs": [
    {
     "name": "stdout",
     "output_type": "stream",
     "text": [
      "p-val:  0.000997946813035\n",
      "Significance level:  0.05\n",
      "Degree of Freedom:  2\n",
      "p-val:  0.000997946813035\n",
      "p-val:  0.000997946813035\n",
      "Significance level:  0.05\n",
      "Degree of Freedom:  2\n",
      "p-val:  0.000997946813035\n"
     ]
    }
   ],
   "source": [
    "p_value = 1-chi2.cdf(x=chi_square_statistic, df=ddof)\n",
    "print('p-val: ', p_value)\n",
    "print('Significance level: ', alpha)\n",
    "print('Degree of Freedom: ', ddof)\n",
    "print('p-val: ', p_value)"
   ]
  },
  {
   "cell_type": "code",
   "execution_count": 140,
   "id": "5d828087",
   "metadata": {},
   "outputs": [
    {
     "name": "stdout",
     "output_type": "stream",
     "text": [
      "Reject H0, there is a relationship between 2 cat variables\n",
      "Reject H0, there is a relationship between 2 cat variables\n",
      "Reject H0, there is a relationship between 2 cat variables\n",
      "Reject H0, there is a relationship between 2 cat variables\n"
     ]
    }
   ],
   "source": [
    "if chi_square_statistic>=crit_val:\n",
    "    print('Reject H0, there is a relationship between 2 cat variables')\n",
    "else: \n",
    "    print('Retain H0, there is no relationship between 2 cat variables')\n",
    "          \n",
    "if p_value<=alpha:\n",
    "    print('Reject H0, there is a relationship between 2 cat variables')\n",
    "else: \n",
    "    print('Retain H0, there is no relationship between 2 cat variables')"
   ]
  },
  {
   "cell_type": "markdown",
   "id": "368c962f",
   "metadata": {},
   "source": [
    " "
   ]
  },
  {
   "cell_type": "markdown",
   "id": "af1851db",
   "metadata": {},
   "source": [
    "Here I will look if there is a relationship between ExerciseAngina (ea) and Heart Disease"
   ]
  },
  {
   "cell_type": "markdown",
   "id": "f5750c00",
   "metadata": {},
   "source": [
    " "
   ]
  },
  {
   "cell_type": "code",
   "execution_count": 110,
   "id": "f0abf86d",
   "metadata": {},
   "outputs": [],
   "source": [
    "data_ea = pd.crosstab(nozerodata['ExerciseAngina'], nozerodata['HeartDisease'])"
   ]
  },
  {
   "cell_type": "code",
   "execution_count": 111,
   "id": "ae14efbe",
   "metadata": {},
   "outputs": [
    {
     "name": "stdout",
     "output_type": "stream",
     "text": [
      "HeartDisease     No  Yes\n",
      "ExerciseAngina          \n",
      "No              340  119\n",
      "Yes              50  237\n",
      "HeartDisease     No  Yes\n",
      "ExerciseAngina          \n",
      "No              340  119\n",
      "Yes              50  237\n"
     ]
    }
   ],
   "source": [
    "print(data_ea)"
   ]
  },
  {
   "cell_type": "code",
   "execution_count": 112,
   "id": "1d987f84",
   "metadata": {},
   "outputs": [
    {
     "name": "stdout",
     "output_type": "stream",
     "text": [
      "[[340 119]\n",
      " [ 50 237]]\n",
      "[[340 119]\n",
      " [ 50 237]]\n"
     ]
    }
   ],
   "source": [
    "observed_eaval = data_ea.values\n",
    "print(observed_eaval)"
   ]
  },
  {
   "cell_type": "code",
   "execution_count": 113,
   "id": "4a3b6052",
   "metadata": {},
   "outputs": [
    {
     "data": {
      "text/plain": [
       "(224.90775965021905,\n",
       " 7.690036188894029e-51,\n",
       " 1,\n",
       " array([[239.95978552, 219.04021448],\n",
       "        [150.04021448, 136.95978552]]))"
      ]
     },
     "execution_count": 113,
     "metadata": {},
     "output_type": "execute_result"
    },
    {
     "data": {
      "text/plain": [
       "(224.90775965021905,\n",
       " 7.690036188894029e-51,\n",
       " 1,\n",
       " array([[239.95978552, 219.04021448],\n",
       "        [150.04021448, 136.95978552]]))"
      ]
     },
     "execution_count": 113,
     "metadata": {},
     "output_type": "execute_result"
    }
   ],
   "source": [
    "ea_val = stats.chi2_contingency(data_ea)\n",
    "ea_val"
   ]
  },
  {
   "cell_type": "code",
   "execution_count": 114,
   "id": "7156c027",
   "metadata": {},
   "outputs": [],
   "source": [
    "expected_eavals=ea_val[3]"
   ]
  },
  {
   "cell_type": "code",
   "execution_count": 141,
   "id": "62be6f48",
   "metadata": {},
   "outputs": [
    {
     "name": "stdout",
     "output_type": "stream",
     "text": [
      "Degree of Freedom: 1\n",
      "Degree of Freedom: 1\n"
     ]
    }
   ],
   "source": [
    "no_rows=len(data_ea.iloc[0:2,0])\n",
    "no_columns=len(data_ea.iloc[0,0:2])\n",
    "ddof=(no_rows-1)*(no_columns-1)\n",
    "print('Degree of Freedom:', ddof)\n",
    "alpha=0.05"
   ]
  },
  {
   "cell_type": "code",
   "execution_count": 144,
   "id": "f9722060",
   "metadata": {},
   "outputs": [
    {
     "name": "stdout",
     "output_type": "stream",
     "text": [
      "227.17290070309167\n",
      "227.17290070309167\n"
     ]
    }
   ],
   "source": [
    "chi_square=sum([(o-e)**2./e for o,e in zip(observed_eaval, expected_eavals)])\n",
    "chi_square_statistic=chi_square[0]+chi_square[1]\n",
    "print(chi_square_statistic)"
   ]
  },
  {
   "cell_type": "code",
   "execution_count": 145,
   "id": "c8281ca6",
   "metadata": {},
   "outputs": [
    {
     "name": "stdout",
     "output_type": "stream",
     "text": [
      "3.841458820694124\n",
      "3.841458820694124\n"
     ]
    }
   ],
   "source": [
    "crit_val=chi2.ppf(q=1-alpha, df=ddof)\n",
    "print(crit_val)"
   ]
  },
  {
   "cell_type": "code",
   "execution_count": 146,
   "id": "40c29234",
   "metadata": {},
   "outputs": [
    {
     "name": "stdout",
     "output_type": "stream",
     "text": [
      "p-val:  0.0\n",
      "Significance level:  0.05\n",
      "Degree of Freedom:  1\n",
      "p-val:  0.0\n",
      "p-val:  0.0\n",
      "Significance level:  0.05\n",
      "Degree of Freedom:  1\n",
      "p-val:  0.0\n"
     ]
    }
   ],
   "source": [
    "p_value = 1-chi2.cdf(x=chi_square_statistic, df=ddof)\n",
    "print('p-val: ', p_value)\n",
    "print('Significance level: ', alpha)\n",
    "print('Degree of Freedom: ', ddof)\n",
    "print('p-val: ', p_value)"
   ]
  },
  {
   "cell_type": "code",
   "execution_count": 147,
   "id": "7118e79a",
   "metadata": {},
   "outputs": [
    {
     "name": "stdout",
     "output_type": "stream",
     "text": [
      "Reject H0, there is a relationship between 2 cat variables\n",
      "Reject H0, there is a relationship between 2 cat variables\n",
      "Reject H0, there is a relationship between 2 cat variables\n",
      "Reject H0, there is a relationship between 2 cat variables\n"
     ]
    }
   ],
   "source": [
    "if chi_square_statistic>=crit_val:\n",
    "    print('Reject H0, there is a relationship between 2 cat variables')\n",
    "else: \n",
    "    print('Retain H0, there is no relationship between 2 cat variables')\n",
    "          \n",
    "if p_value<=alpha:\n",
    "    print('Reject H0, there is a relationship between 2 cat variables')\n",
    "else: \n",
    "    print('Retain H0, there is no relationship between 2 cat variables')"
   ]
  },
  {
   "cell_type": "markdown",
   "id": "07f938b5",
   "metadata": {},
   "source": [
    " "
   ]
  },
  {
   "cell_type": "markdown",
   "id": "32374dd5",
   "metadata": {},
   "source": [
    "Here I will look if there is a relationship between ST_Slope (ST) and Heart Disease"
   ]
  },
  {
   "cell_type": "markdown",
   "id": "62cf03e7",
   "metadata": {},
   "source": [
    " "
   ]
  },
  {
   "cell_type": "code",
   "execution_count": 148,
   "id": "d3f17aa8",
   "metadata": {},
   "outputs": [],
   "source": [
    "data_st = pd.crosstab(nozerodata['ST_Slope'], nozerodata['HeartDisease'])"
   ]
  },
  {
   "cell_type": "code",
   "execution_count": 149,
   "id": "4de240ba",
   "metadata": {},
   "outputs": [
    {
     "name": "stdout",
     "output_type": "stream",
     "text": [
      "HeartDisease   No  Yes\n",
      "ST_Slope              \n",
      "Down           11   32\n",
      "Flat           75  279\n",
      "Up            304   45\n",
      "HeartDisease   No  Yes\n",
      "ST_Slope              \n",
      "Down           11   32\n",
      "Flat           75  279\n",
      "Up            304   45\n"
     ]
    }
   ],
   "source": [
    "print(data_st)"
   ]
  },
  {
   "cell_type": "code",
   "execution_count": 150,
   "id": "e3cf24cd",
   "metadata": {},
   "outputs": [
    {
     "name": "stdout",
     "output_type": "stream",
     "text": [
      "[[ 11  32]\n",
      " [ 75 279]\n",
      " [304  45]]\n",
      "[[ 11  32]\n",
      " [ 75 279]\n",
      " [304  45]]\n"
     ]
    }
   ],
   "source": [
    "observed_stval = data_st.values\n",
    "print(observed_stval)"
   ]
  },
  {
   "cell_type": "code",
   "execution_count": 151,
   "id": "6a895d3e",
   "metadata": {},
   "outputs": [
    {
     "data": {
      "text/plain": [
       "(319.13762270357586,\n",
       " 5.013554566295527e-70,\n",
       " 2,\n",
       " array([[ 22.47989276,  20.52010724],\n",
       "        [185.06702413, 168.93297587],\n",
       "        [182.45308311, 166.54691689]]))"
      ]
     },
     "execution_count": 151,
     "metadata": {},
     "output_type": "execute_result"
    },
    {
     "data": {
      "text/plain": [
       "(319.13762270357586,\n",
       " 5.013554566295527e-70,\n",
       " 2,\n",
       " array([[ 22.47989276,  20.52010724],\n",
       "        [185.06702413, 168.93297587],\n",
       "        [182.45308311, 166.54691689]]))"
      ]
     },
     "execution_count": 151,
     "metadata": {},
     "output_type": "execute_result"
    }
   ],
   "source": [
    "st_val = stats.chi2_contingency(data_st)\n",
    "st_val"
   ]
  },
  {
   "cell_type": "code",
   "execution_count": 152,
   "id": "96b027d7",
   "metadata": {},
   "outputs": [],
   "source": [
    "expected_stvals=st_val[3]"
   ]
  },
  {
   "cell_type": "code",
   "execution_count": 153,
   "id": "51ea4bc8",
   "metadata": {},
   "outputs": [
    {
     "name": "stdout",
     "output_type": "stream",
     "text": [
      "Degree of Freedom: 1\n",
      "Degree of Freedom: 1\n"
     ]
    }
   ],
   "source": [
    "no_rows=len(data_ea.iloc[0:3,0])\n",
    "no_columns=len(data_ea.iloc[0,0:2])\n",
    "ddof=(no_rows-1)*(no_columns-1)\n",
    "print('Degree of Freedom:', ddof)\n",
    "alpha=0.05"
   ]
  },
  {
   "cell_type": "code",
   "execution_count": 154,
   "id": "0149dc02",
   "metadata": {},
   "outputs": [
    {
     "name": "stdout",
     "output_type": "stream",
     "text": [
      "319.13762270357586\n",
      "319.13762270357586\n"
     ]
    }
   ],
   "source": [
    "chi_square=sum([(o-e)**2./e for o,e in zip(observed_stval, expected_stvals)])\n",
    "chi_square_statistic=chi_square[0]+chi_square[1]\n",
    "print(chi_square_statistic)"
   ]
  },
  {
   "cell_type": "code",
   "execution_count": 155,
   "id": "0168b4b1",
   "metadata": {},
   "outputs": [
    {
     "name": "stdout",
     "output_type": "stream",
     "text": [
      "3.841458820694124\n",
      "3.841458820694124\n"
     ]
    }
   ],
   "source": [
    "crit_val=chi2.ppf(q=1-alpha, df=ddof)\n",
    "print(crit_val)"
   ]
  },
  {
   "cell_type": "code",
   "execution_count": 156,
   "id": "f4181737",
   "metadata": {},
   "outputs": [
    {
     "name": "stdout",
     "output_type": "stream",
     "text": [
      "p-val:  0.0\n",
      "Significance level:  0.05\n",
      "Degree of Freedom:  1\n",
      "p-val:  0.0\n",
      "p-val:  0.0\n",
      "Significance level:  0.05\n",
      "Degree of Freedom:  1\n",
      "p-val:  0.0\n"
     ]
    }
   ],
   "source": [
    "p_value = 1-chi2.cdf(x=chi_square_statistic, df=ddof)\n",
    "print('p-val: ', p_value)\n",
    "print('Significance level: ', alpha)\n",
    "print('Degree of Freedom: ', ddof)\n",
    "print('p-val: ', p_value)"
   ]
  },
  {
   "cell_type": "code",
   "execution_count": 157,
   "id": "d17924a5",
   "metadata": {},
   "outputs": [
    {
     "name": "stdout",
     "output_type": "stream",
     "text": [
      "Reject H0, there is a relationship between 2 cat variables\n",
      "Reject H0, there is a relationship between 2 cat variables\n",
      "Reject H0, there is a relationship between 2 cat variables\n",
      "Reject H0, there is a relationship between 2 cat variables\n"
     ]
    }
   ],
   "source": [
    "if chi_square_statistic>=crit_val:\n",
    "    print('Reject H0, there is a relationship between 2 cat variables')\n",
    "else: \n",
    "    print('Retain H0, there is no relationship between 2 cat variables')\n",
    "          \n",
    "if p_value<=alpha:\n",
    "    print('Reject H0, there is a relationship between 2 cat variables')\n",
    "else: \n",
    "    print('Retain H0, there is no relationship between 2 cat variables')"
   ]
  },
  {
   "cell_type": "markdown",
   "id": "0d72b4d6",
   "metadata": {},
   "source": [
    " "
   ]
  },
  {
   "cell_type": "markdown",
   "id": "ee17b5a4",
   "metadata": {},
   "source": [
    " "
   ]
  },
  {
   "cell_type": "markdown",
   "id": "4b0253a1",
   "metadata": {},
   "source": [
    "# Below will be the t-tests"
   ]
  },
  {
   "cell_type": "markdown",
   "id": "cbe73825",
   "metadata": {},
   "source": [
    " "
   ]
  },
  {
   "cell_type": "code",
   "execution_count": 220,
   "id": "d31cf1b1",
   "metadata": {},
   "outputs": [
    {
     "name": "stderr",
     "output_type": "stream",
     "text": [
      "C:\\Users\\Mike\\AppData\\Local\\Temp/ipykernel_8680/3021216399.py:1: SettingWithCopyWarning: \n",
      "A value is trying to be set on a copy of a slice from a DataFrame.\n",
      "Try using .loc[row_indexer,col_indexer] = value instead\n",
      "\n",
      "See the caveats in the documentation: https://pandas.pydata.org/pandas-docs/stable/user_guide/indexing.html#returning-a-view-versus-a-copy\n",
      "  nozerodata['HeartDisease'] = nozerodata['HeartDisease'].replace('No', 0)\n",
      "C:\\Users\\Mike\\AppData\\Local\\Temp/ipykernel_8680/3021216399.py:2: SettingWithCopyWarning: \n",
      "A value is trying to be set on a copy of a slice from a DataFrame.\n",
      "Try using .loc[row_indexer,col_indexer] = value instead\n",
      "\n",
      "See the caveats in the documentation: https://pandas.pydata.org/pandas-docs/stable/user_guide/indexing.html#returning-a-view-versus-a-copy\n",
      "  nozerodata['HeartDisease'] = nozerodata['HeartDisease'].replace('Yes', 1)\n",
      "C:\\Users\\Mike\\AppData\\Local\\Temp/ipykernel_8680/3021216399.py:1: SettingWithCopyWarning: \n",
      "A value is trying to be set on a copy of a slice from a DataFrame.\n",
      "Try using .loc[row_indexer,col_indexer] = value instead\n",
      "\n",
      "See the caveats in the documentation: https://pandas.pydata.org/pandas-docs/stable/user_guide/indexing.html#returning-a-view-versus-a-copy\n",
      "  nozerodata['HeartDisease'] = nozerodata['HeartDisease'].replace('No', 0)\n",
      "C:\\Users\\Mike\\AppData\\Local\\Temp/ipykernel_8680/3021216399.py:2: SettingWithCopyWarning: \n",
      "A value is trying to be set on a copy of a slice from a DataFrame.\n",
      "Try using .loc[row_indexer,col_indexer] = value instead\n",
      "\n",
      "See the caveats in the documentation: https://pandas.pydata.org/pandas-docs/stable/user_guide/indexing.html#returning-a-view-versus-a-copy\n",
      "  nozerodata['HeartDisease'] = nozerodata['HeartDisease'].replace('Yes', 1)\n"
     ]
    }
   ],
   "source": [
    "nozerodata['HeartDisease'] = nozerodata['HeartDisease'].replace('No', 0)\n",
    "nozerodata['HeartDisease'] = nozerodata['HeartDisease'].replace('Yes', 1)"
   ]
  },
  {
   "cell_type": "code",
   "execution_count": 221,
   "id": "08f6144c",
   "metadata": {},
   "outputs": [
    {
     "data": {
      "text/plain": [
       "Ttest_indResult(statistic=209.382447558809, pvalue=0.0)"
      ]
     },
     "execution_count": 221,
     "metadata": {},
     "output_type": "execute_result"
    },
    {
     "data": {
      "text/plain": [
       "Ttest_indResult(statistic=209.382447558809, pvalue=0.0)"
      ]
     },
     "execution_count": 221,
     "metadata": {},
     "output_type": "execute_result"
    }
   ],
   "source": [
    "from scipy.stats import ttest_ind \n",
    "    \n",
    "ttest_ind(nozerodata['RestingBP'], nozerodata['HeartDisease'], equal_var=False, nan_policy='propagate')"
   ]
  },
  {
   "cell_type": "code",
   "execution_count": 222,
   "id": "ed17c1af",
   "metadata": {},
   "outputs": [],
   "source": [
    "data_rest = pd.crosstab(nozerodata['RestingBP'], nozerodata['HeartDisease'])"
   ]
  },
  {
   "cell_type": "code",
   "execution_count": 223,
   "id": "d57e2897",
   "metadata": {},
   "outputs": [
    {
     "data": {
      "text/html": [
       "<div>\n",
       "<style scoped>\n",
       "    .dataframe tbody tr th:only-of-type {\n",
       "        vertical-align: middle;\n",
       "    }\n",
       "\n",
       "    .dataframe tbody tr th {\n",
       "        vertical-align: top;\n",
       "    }\n",
       "\n",
       "    .dataframe thead th {\n",
       "        text-align: right;\n",
       "    }\n",
       "</style>\n",
       "<table border=\"1\" class=\"dataframe\">\n",
       "  <thead>\n",
       "    <tr style=\"text-align: right;\">\n",
       "      <th>HeartDisease</th>\n",
       "      <th>0</th>\n",
       "      <th>1</th>\n",
       "    </tr>\n",
       "    <tr>\n",
       "      <th>RestingBP</th>\n",
       "      <th></th>\n",
       "      <th></th>\n",
       "    </tr>\n",
       "  </thead>\n",
       "  <tbody>\n",
       "    <tr>\n",
       "      <th>92</th>\n",
       "      <td>0</td>\n",
       "      <td>1</td>\n",
       "    </tr>\n",
       "    <tr>\n",
       "      <th>94</th>\n",
       "      <td>2</td>\n",
       "      <td>0</td>\n",
       "    </tr>\n",
       "    <tr>\n",
       "      <th>96</th>\n",
       "      <td>0</td>\n",
       "      <td>1</td>\n",
       "    </tr>\n",
       "    <tr>\n",
       "      <th>98</th>\n",
       "      <td>1</td>\n",
       "      <td>0</td>\n",
       "    </tr>\n",
       "    <tr>\n",
       "      <th>100</th>\n",
       "      <td>7</td>\n",
       "      <td>4</td>\n",
       "    </tr>\n",
       "    <tr>\n",
       "      <th>...</th>\n",
       "      <td>...</td>\n",
       "      <td>...</td>\n",
       "    </tr>\n",
       "    <tr>\n",
       "      <th>178</th>\n",
       "      <td>1</td>\n",
       "      <td>1</td>\n",
       "    </tr>\n",
       "    <tr>\n",
       "      <th>180</th>\n",
       "      <td>5</td>\n",
       "      <td>5</td>\n",
       "    </tr>\n",
       "    <tr>\n",
       "      <th>190</th>\n",
       "      <td>1</td>\n",
       "      <td>1</td>\n",
       "    </tr>\n",
       "    <tr>\n",
       "      <th>192</th>\n",
       "      <td>0</td>\n",
       "      <td>1</td>\n",
       "    </tr>\n",
       "    <tr>\n",
       "      <th>200</th>\n",
       "      <td>0</td>\n",
       "      <td>2</td>\n",
       "    </tr>\n",
       "  </tbody>\n",
       "</table>\n",
       "<p>63 rows × 2 columns</p>\n",
       "</div>"
      ],
      "text/plain": [
       "HeartDisease  0  1\n",
       "RestingBP         \n",
       "92            0  1\n",
       "94            2  0\n",
       "96            0  1\n",
       "98            1  0\n",
       "100           7  4\n",
       "...          .. ..\n",
       "178           1  1\n",
       "180           5  5\n",
       "190           1  1\n",
       "192           0  1\n",
       "200           0  2\n",
       "\n",
       "[63 rows x 2 columns]"
      ]
     },
     "execution_count": 223,
     "metadata": {},
     "output_type": "execute_result"
    },
    {
     "data": {
      "text/html": [
       "<div>\n",
       "<style scoped>\n",
       "    .dataframe tbody tr th:only-of-type {\n",
       "        vertical-align: middle;\n",
       "    }\n",
       "\n",
       "    .dataframe tbody tr th {\n",
       "        vertical-align: top;\n",
       "    }\n",
       "\n",
       "    .dataframe thead th {\n",
       "        text-align: right;\n",
       "    }\n",
       "</style>\n",
       "<table border=\"1\" class=\"dataframe\">\n",
       "  <thead>\n",
       "    <tr style=\"text-align: right;\">\n",
       "      <th>HeartDisease</th>\n",
       "      <th>0</th>\n",
       "      <th>1</th>\n",
       "    </tr>\n",
       "    <tr>\n",
       "      <th>RestingBP</th>\n",
       "      <th></th>\n",
       "      <th></th>\n",
       "    </tr>\n",
       "  </thead>\n",
       "  <tbody>\n",
       "    <tr>\n",
       "      <th>92</th>\n",
       "      <td>0</td>\n",
       "      <td>1</td>\n",
       "    </tr>\n",
       "    <tr>\n",
       "      <th>94</th>\n",
       "      <td>2</td>\n",
       "      <td>0</td>\n",
       "    </tr>\n",
       "    <tr>\n",
       "      <th>96</th>\n",
       "      <td>0</td>\n",
       "      <td>1</td>\n",
       "    </tr>\n",
       "    <tr>\n",
       "      <th>98</th>\n",
       "      <td>1</td>\n",
       "      <td>0</td>\n",
       "    </tr>\n",
       "    <tr>\n",
       "      <th>100</th>\n",
       "      <td>7</td>\n",
       "      <td>4</td>\n",
       "    </tr>\n",
       "    <tr>\n",
       "      <th>...</th>\n",
       "      <td>...</td>\n",
       "      <td>...</td>\n",
       "    </tr>\n",
       "    <tr>\n",
       "      <th>178</th>\n",
       "      <td>1</td>\n",
       "      <td>1</td>\n",
       "    </tr>\n",
       "    <tr>\n",
       "      <th>180</th>\n",
       "      <td>5</td>\n",
       "      <td>5</td>\n",
       "    </tr>\n",
       "    <tr>\n",
       "      <th>190</th>\n",
       "      <td>1</td>\n",
       "      <td>1</td>\n",
       "    </tr>\n",
       "    <tr>\n",
       "      <th>192</th>\n",
       "      <td>0</td>\n",
       "      <td>1</td>\n",
       "    </tr>\n",
       "    <tr>\n",
       "      <th>200</th>\n",
       "      <td>0</td>\n",
       "      <td>2</td>\n",
       "    </tr>\n",
       "  </tbody>\n",
       "</table>\n",
       "<p>63 rows × 2 columns</p>\n",
       "</div>"
      ],
      "text/plain": [
       "HeartDisease  0  1\n",
       "RestingBP         \n",
       "92            0  1\n",
       "94            2  0\n",
       "96            0  1\n",
       "98            1  0\n",
       "100           7  4\n",
       "...          .. ..\n",
       "178           1  1\n",
       "180           5  5\n",
       "190           1  1\n",
       "192           0  1\n",
       "200           0  2\n",
       "\n",
       "[63 rows x 2 columns]"
      ]
     },
     "execution_count": 223,
     "metadata": {},
     "output_type": "execute_result"
    }
   ],
   "source": [
    "data_rest"
   ]
  },
  {
   "cell_type": "code",
   "execution_count": 227,
   "id": "69b30118",
   "metadata": {},
   "outputs": [
    {
     "data": {
      "text/plain": [
       "Ttest_indResult(statistic=112.73131291648859, pvalue=0.0)"
      ]
     },
     "execution_count": 227,
     "metadata": {},
     "output_type": "execute_result"
    },
    {
     "data": {
      "text/plain": [
       "Ttest_indResult(statistic=112.73131291648859, pvalue=0.0)"
      ]
     },
     "execution_count": 227,
     "metadata": {},
     "output_type": "execute_result"
    }
   ],
   "source": [
    "ttest_ind(nozerodata['Cholesterol'], nozerodata['HeartDisease'])"
   ]
  },
  {
   "cell_type": "code",
   "execution_count": 225,
   "id": "4bb5426d",
   "metadata": {},
   "outputs": [],
   "source": [
    "data_chol = pd.crosstab(nozerodata['Cholesterol'], nozerodata['HeartDisease'])"
   ]
  },
  {
   "cell_type": "code",
   "execution_count": 226,
   "id": "ad9fde59",
   "metadata": {},
   "outputs": [
    {
     "data": {
      "text/html": [
       "<div>\n",
       "<style scoped>\n",
       "    .dataframe tbody tr th:only-of-type {\n",
       "        vertical-align: middle;\n",
       "    }\n",
       "\n",
       "    .dataframe tbody tr th {\n",
       "        vertical-align: top;\n",
       "    }\n",
       "\n",
       "    .dataframe thead th {\n",
       "        text-align: right;\n",
       "    }\n",
       "</style>\n",
       "<table border=\"1\" class=\"dataframe\">\n",
       "  <thead>\n",
       "    <tr style=\"text-align: right;\">\n",
       "      <th>HeartDisease</th>\n",
       "      <th>0</th>\n",
       "      <th>1</th>\n",
       "    </tr>\n",
       "    <tr>\n",
       "      <th>Cholesterol</th>\n",
       "      <th></th>\n",
       "      <th></th>\n",
       "    </tr>\n",
       "  </thead>\n",
       "  <tbody>\n",
       "    <tr>\n",
       "      <th>85</th>\n",
       "      <td>1</td>\n",
       "      <td>0</td>\n",
       "    </tr>\n",
       "    <tr>\n",
       "      <th>100</th>\n",
       "      <td>1</td>\n",
       "      <td>1</td>\n",
       "    </tr>\n",
       "    <tr>\n",
       "      <th>110</th>\n",
       "      <td>0</td>\n",
       "      <td>1</td>\n",
       "    </tr>\n",
       "    <tr>\n",
       "      <th>113</th>\n",
       "      <td>0</td>\n",
       "      <td>1</td>\n",
       "    </tr>\n",
       "    <tr>\n",
       "      <th>117</th>\n",
       "      <td>0</td>\n",
       "      <td>1</td>\n",
       "    </tr>\n",
       "    <tr>\n",
       "      <th>...</th>\n",
       "      <td>...</td>\n",
       "      <td>...</td>\n",
       "    </tr>\n",
       "    <tr>\n",
       "      <th>491</th>\n",
       "      <td>0</td>\n",
       "      <td>1</td>\n",
       "    </tr>\n",
       "    <tr>\n",
       "      <th>518</th>\n",
       "      <td>0</td>\n",
       "      <td>1</td>\n",
       "    </tr>\n",
       "    <tr>\n",
       "      <th>529</th>\n",
       "      <td>0</td>\n",
       "      <td>1</td>\n",
       "    </tr>\n",
       "    <tr>\n",
       "      <th>564</th>\n",
       "      <td>1</td>\n",
       "      <td>0</td>\n",
       "    </tr>\n",
       "    <tr>\n",
       "      <th>603</th>\n",
       "      <td>0</td>\n",
       "      <td>1</td>\n",
       "    </tr>\n",
       "  </tbody>\n",
       "</table>\n",
       "<p>221 rows × 2 columns</p>\n",
       "</div>"
      ],
      "text/plain": [
       "HeartDisease  0  1\n",
       "Cholesterol       \n",
       "85            1  0\n",
       "100           1  1\n",
       "110           0  1\n",
       "113           0  1\n",
       "117           0  1\n",
       "...          .. ..\n",
       "491           0  1\n",
       "518           0  1\n",
       "529           0  1\n",
       "564           1  0\n",
       "603           0  1\n",
       "\n",
       "[221 rows x 2 columns]"
      ]
     },
     "execution_count": 226,
     "metadata": {},
     "output_type": "execute_result"
    },
    {
     "data": {
      "text/html": [
       "<div>\n",
       "<style scoped>\n",
       "    .dataframe tbody tr th:only-of-type {\n",
       "        vertical-align: middle;\n",
       "    }\n",
       "\n",
       "    .dataframe tbody tr th {\n",
       "        vertical-align: top;\n",
       "    }\n",
       "\n",
       "    .dataframe thead th {\n",
       "        text-align: right;\n",
       "    }\n",
       "</style>\n",
       "<table border=\"1\" class=\"dataframe\">\n",
       "  <thead>\n",
       "    <tr style=\"text-align: right;\">\n",
       "      <th>HeartDisease</th>\n",
       "      <th>0</th>\n",
       "      <th>1</th>\n",
       "    </tr>\n",
       "    <tr>\n",
       "      <th>Cholesterol</th>\n",
       "      <th></th>\n",
       "      <th></th>\n",
       "    </tr>\n",
       "  </thead>\n",
       "  <tbody>\n",
       "    <tr>\n",
       "      <th>85</th>\n",
       "      <td>1</td>\n",
       "      <td>0</td>\n",
       "    </tr>\n",
       "    <tr>\n",
       "      <th>100</th>\n",
       "      <td>1</td>\n",
       "      <td>1</td>\n",
       "    </tr>\n",
       "    <tr>\n",
       "      <th>110</th>\n",
       "      <td>0</td>\n",
       "      <td>1</td>\n",
       "    </tr>\n",
       "    <tr>\n",
       "      <th>113</th>\n",
       "      <td>0</td>\n",
       "      <td>1</td>\n",
       "    </tr>\n",
       "    <tr>\n",
       "      <th>117</th>\n",
       "      <td>0</td>\n",
       "      <td>1</td>\n",
       "    </tr>\n",
       "    <tr>\n",
       "      <th>...</th>\n",
       "      <td>...</td>\n",
       "      <td>...</td>\n",
       "    </tr>\n",
       "    <tr>\n",
       "      <th>491</th>\n",
       "      <td>0</td>\n",
       "      <td>1</td>\n",
       "    </tr>\n",
       "    <tr>\n",
       "      <th>518</th>\n",
       "      <td>0</td>\n",
       "      <td>1</td>\n",
       "    </tr>\n",
       "    <tr>\n",
       "      <th>529</th>\n",
       "      <td>0</td>\n",
       "      <td>1</td>\n",
       "    </tr>\n",
       "    <tr>\n",
       "      <th>564</th>\n",
       "      <td>1</td>\n",
       "      <td>0</td>\n",
       "    </tr>\n",
       "    <tr>\n",
       "      <th>603</th>\n",
       "      <td>0</td>\n",
       "      <td>1</td>\n",
       "    </tr>\n",
       "  </tbody>\n",
       "</table>\n",
       "<p>221 rows × 2 columns</p>\n",
       "</div>"
      ],
      "text/plain": [
       "HeartDisease  0  1\n",
       "Cholesterol       \n",
       "85            1  0\n",
       "100           1  1\n",
       "110           0  1\n",
       "113           0  1\n",
       "117           0  1\n",
       "...          .. ..\n",
       "491           0  1\n",
       "518           0  1\n",
       "529           0  1\n",
       "564           1  0\n",
       "603           0  1\n",
       "\n",
       "[221 rows x 2 columns]"
      ]
     },
     "execution_count": 226,
     "metadata": {},
     "output_type": "execute_result"
    }
   ],
   "source": [
    "data_chol"
   ]
  },
  {
   "cell_type": "code",
   "execution_count": 228,
   "id": "00141b2c",
   "metadata": {},
   "outputs": [
    {
     "data": {
      "text/plain": [
       "Ttest_indResult(statistic=155.60937742075984, pvalue=0.0)"
      ]
     },
     "execution_count": 228,
     "metadata": {},
     "output_type": "execute_result"
    },
    {
     "data": {
      "text/plain": [
       "Ttest_indResult(statistic=155.60937742075984, pvalue=0.0)"
      ]
     },
     "execution_count": 228,
     "metadata": {},
     "output_type": "execute_result"
    }
   ],
   "source": [
    "ttest_ind(nozerodata['MaxHR'], nozerodata['HeartDisease'])"
   ]
  },
  {
   "cell_type": "code",
   "execution_count": 229,
   "id": "d9535c95",
   "metadata": {},
   "outputs": [
    {
     "data": {
      "text/plain": [
       "Ttest_indResult(statistic=9.793686914294565, pvalue=5.43289846115185e-22)"
      ]
     },
     "execution_count": 229,
     "metadata": {},
     "output_type": "execute_result"
    },
    {
     "data": {
      "text/plain": [
       "Ttest_indResult(statistic=9.793686914294565, pvalue=5.43289846115185e-22)"
      ]
     },
     "execution_count": 229,
     "metadata": {},
     "output_type": "execute_result"
    }
   ],
   "source": [
    "ttest_ind(nozerodata['Oldpeak'], nozerodata['HeartDisease'])"
   ]
  },
  {
   "cell_type": "code",
   "execution_count": 230,
   "id": "53fde2fe",
   "metadata": {},
   "outputs": [
    {
     "data": {
      "text/plain": [
       "Ttest_indResult(statistic=150.36560503402228, pvalue=0.0)"
      ]
     },
     "execution_count": 230,
     "metadata": {},
     "output_type": "execute_result"
    },
    {
     "data": {
      "text/plain": [
       "Ttest_indResult(statistic=150.36560503402228, pvalue=0.0)"
      ]
     },
     "execution_count": 230,
     "metadata": {},
     "output_type": "execute_result"
    }
   ],
   "source": [
    "ttest_ind(nozerodata['Age'], nozerodata['HeartDisease'])"
   ]
  },
  {
   "cell_type": "code",
   "execution_count": null,
   "id": "ebccbe85",
   "metadata": {},
   "outputs": [],
   "source": []
  }
 ],
 "metadata": {
  "kernelspec": {
   "display_name": "Python 3 (ipykernel)",
   "language": "python",
   "name": "python3"
  },
  "language_info": {
   "codemirror_mode": {
    "name": "ipython",
    "version": 3
   },
   "file_extension": ".py",
   "mimetype": "text/x-python",
   "name": "python",
   "nbconvert_exporter": "python",
   "pygments_lexer": "ipython3",
   "version": "3.9.7"
  }
 },
 "nbformat": 4,
 "nbformat_minor": 5
}
