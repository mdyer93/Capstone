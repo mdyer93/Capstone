{
 "cells": [
  {
   "cell_type": "markdown",
   "id": "1d8a37af",
   "metadata": {},
   "source": [
    "EDA"
   ]
  },
  {
   "cell_type": "code",
   "execution_count": 1,
   "id": "e281bfd8",
   "metadata": {},
   "outputs": [],
   "source": [
    "import pandas as pd\n",
    "import numpy as np\n",
    "import matplotlib.pyplot as plt\n",
    "import seaborn as sns\n",
    "from sklearn.feature_selection import chi2\n",
    "from sklearn.preprocessing import LabelEncoder\n",
    "import scipy.stats as scp"
   ]
  },
  {
   "cell_type": "code",
   "execution_count": 2,
   "id": "d2154802",
   "metadata": {},
   "outputs": [],
   "source": [
    "data = pd.read_csv('../Capstone/clean_data.csv')"
   ]
  },
  {
   "cell_type": "code",
   "execution_count": 3,
   "id": "f56bdaf2",
   "metadata": {},
   "outputs": [
    {
     "data": {
      "text/html": [
       "<div>\n",
       "<style scoped>\n",
       "    .dataframe tbody tr th:only-of-type {\n",
       "        vertical-align: middle;\n",
       "    }\n",
       "\n",
       "    .dataframe tbody tr th {\n",
       "        vertical-align: top;\n",
       "    }\n",
       "\n",
       "    .dataframe thead th {\n",
       "        text-align: right;\n",
       "    }\n",
       "</style>\n",
       "<table border=\"1\" class=\"dataframe\">\n",
       "  <thead>\n",
       "    <tr style=\"text-align: right;\">\n",
       "      <th></th>\n",
       "      <th>Age</th>\n",
       "      <th>Sex</th>\n",
       "      <th>ChestPainType</th>\n",
       "      <th>RestingBP</th>\n",
       "      <th>Cholesterol</th>\n",
       "      <th>FastingBS</th>\n",
       "      <th>RestingECG</th>\n",
       "      <th>MaxHR</th>\n",
       "      <th>ExerciseAngina</th>\n",
       "      <th>Oldpeak</th>\n",
       "      <th>ST_Slope</th>\n",
       "      <th>HeartDisease</th>\n",
       "    </tr>\n",
       "  </thead>\n",
       "  <tbody>\n",
       "    <tr>\n",
       "      <th>0</th>\n",
       "      <td>40</td>\n",
       "      <td>M</td>\n",
       "      <td>1</td>\n",
       "      <td>140</td>\n",
       "      <td>289</td>\n",
       "      <td>0</td>\n",
       "      <td>Normal</td>\n",
       "      <td>172</td>\n",
       "      <td>0</td>\n",
       "      <td>0.0</td>\n",
       "      <td>0</td>\n",
       "      <td>0</td>\n",
       "    </tr>\n",
       "    <tr>\n",
       "      <th>1</th>\n",
       "      <td>49</td>\n",
       "      <td>F</td>\n",
       "      <td>2</td>\n",
       "      <td>160</td>\n",
       "      <td>180</td>\n",
       "      <td>0</td>\n",
       "      <td>Normal</td>\n",
       "      <td>156</td>\n",
       "      <td>0</td>\n",
       "      <td>1.0</td>\n",
       "      <td>1</td>\n",
       "      <td>1</td>\n",
       "    </tr>\n",
       "    <tr>\n",
       "      <th>2</th>\n",
       "      <td>37</td>\n",
       "      <td>M</td>\n",
       "      <td>1</td>\n",
       "      <td>130</td>\n",
       "      <td>283</td>\n",
       "      <td>0</td>\n",
       "      <td>ST</td>\n",
       "      <td>98</td>\n",
       "      <td>0</td>\n",
       "      <td>0.0</td>\n",
       "      <td>0</td>\n",
       "      <td>0</td>\n",
       "    </tr>\n",
       "    <tr>\n",
       "      <th>3</th>\n",
       "      <td>48</td>\n",
       "      <td>F</td>\n",
       "      <td>3</td>\n",
       "      <td>138</td>\n",
       "      <td>214</td>\n",
       "      <td>0</td>\n",
       "      <td>Normal</td>\n",
       "      <td>108</td>\n",
       "      <td>1</td>\n",
       "      <td>1.5</td>\n",
       "      <td>1</td>\n",
       "      <td>1</td>\n",
       "    </tr>\n",
       "    <tr>\n",
       "      <th>4</th>\n",
       "      <td>54</td>\n",
       "      <td>M</td>\n",
       "      <td>2</td>\n",
       "      <td>150</td>\n",
       "      <td>195</td>\n",
       "      <td>0</td>\n",
       "      <td>Normal</td>\n",
       "      <td>122</td>\n",
       "      <td>0</td>\n",
       "      <td>0.0</td>\n",
       "      <td>0</td>\n",
       "      <td>0</td>\n",
       "    </tr>\n",
       "  </tbody>\n",
       "</table>\n",
       "</div>"
      ],
      "text/plain": [
       "   Age Sex  ChestPainType  RestingBP  Cholesterol  FastingBS RestingECG  \\\n",
       "0   40   M              1        140          289          0     Normal   \n",
       "1   49   F              2        160          180          0     Normal   \n",
       "2   37   M              1        130          283          0         ST   \n",
       "3   48   F              3        138          214          0     Normal   \n",
       "4   54   M              2        150          195          0     Normal   \n",
       "\n",
       "   MaxHR  ExerciseAngina  Oldpeak  ST_Slope  HeartDisease  \n",
       "0    172               0      0.0         0             0  \n",
       "1    156               0      1.0         1             1  \n",
       "2     98               0      0.0         0             0  \n",
       "3    108               1      1.5         1             1  \n",
       "4    122               0      0.0         0             0  "
      ]
     },
     "execution_count": 3,
     "metadata": {},
     "output_type": "execute_result"
    }
   ],
   "source": [
    "data.head()"
   ]
  },
  {
   "cell_type": "code",
   "execution_count": 4,
   "id": "63b68fa7",
   "metadata": {},
   "outputs": [
    {
     "data": {
      "text/html": [
       "<div>\n",
       "<style scoped>\n",
       "    .dataframe tbody tr th:only-of-type {\n",
       "        vertical-align: middle;\n",
       "    }\n",
       "\n",
       "    .dataframe tbody tr th {\n",
       "        vertical-align: top;\n",
       "    }\n",
       "\n",
       "    .dataframe thead th {\n",
       "        text-align: right;\n",
       "    }\n",
       "</style>\n",
       "<table border=\"1\" class=\"dataframe\">\n",
       "  <thead>\n",
       "    <tr style=\"text-align: right;\">\n",
       "      <th></th>\n",
       "      <th>Age</th>\n",
       "      <th>ChestPainType</th>\n",
       "      <th>RestingBP</th>\n",
       "      <th>Cholesterol</th>\n",
       "      <th>FastingBS</th>\n",
       "      <th>MaxHR</th>\n",
       "      <th>ExerciseAngina</th>\n",
       "      <th>Oldpeak</th>\n",
       "      <th>ST_Slope</th>\n",
       "      <th>HeartDisease</th>\n",
       "    </tr>\n",
       "  </thead>\n",
       "  <tbody>\n",
       "    <tr>\n",
       "      <th>count</th>\n",
       "      <td>918.000000</td>\n",
       "      <td>918.000000</td>\n",
       "      <td>918.000000</td>\n",
       "      <td>918.000000</td>\n",
       "      <td>918.000000</td>\n",
       "      <td>918.000000</td>\n",
       "      <td>918.000000</td>\n",
       "      <td>918.000000</td>\n",
       "      <td>918.000000</td>\n",
       "      <td>918.000000</td>\n",
       "    </tr>\n",
       "    <tr>\n",
       "      <th>mean</th>\n",
       "      <td>53.510893</td>\n",
       "      <td>2.251634</td>\n",
       "      <td>132.396514</td>\n",
       "      <td>198.799564</td>\n",
       "      <td>0.233115</td>\n",
       "      <td>136.809368</td>\n",
       "      <td>0.404139</td>\n",
       "      <td>0.887364</td>\n",
       "      <td>0.638344</td>\n",
       "      <td>0.553377</td>\n",
       "    </tr>\n",
       "    <tr>\n",
       "      <th>std</th>\n",
       "      <td>9.432617</td>\n",
       "      <td>0.931031</td>\n",
       "      <td>18.514154</td>\n",
       "      <td>109.384145</td>\n",
       "      <td>0.423046</td>\n",
       "      <td>25.460334</td>\n",
       "      <td>0.490992</td>\n",
       "      <td>1.066570</td>\n",
       "      <td>0.607056</td>\n",
       "      <td>0.497414</td>\n",
       "    </tr>\n",
       "    <tr>\n",
       "      <th>min</th>\n",
       "      <td>28.000000</td>\n",
       "      <td>0.000000</td>\n",
       "      <td>0.000000</td>\n",
       "      <td>0.000000</td>\n",
       "      <td>0.000000</td>\n",
       "      <td>60.000000</td>\n",
       "      <td>0.000000</td>\n",
       "      <td>-2.600000</td>\n",
       "      <td>0.000000</td>\n",
       "      <td>0.000000</td>\n",
       "    </tr>\n",
       "    <tr>\n",
       "      <th>25%</th>\n",
       "      <td>47.000000</td>\n",
       "      <td>2.000000</td>\n",
       "      <td>120.000000</td>\n",
       "      <td>173.250000</td>\n",
       "      <td>0.000000</td>\n",
       "      <td>120.000000</td>\n",
       "      <td>0.000000</td>\n",
       "      <td>0.000000</td>\n",
       "      <td>0.000000</td>\n",
       "      <td>0.000000</td>\n",
       "    </tr>\n",
       "    <tr>\n",
       "      <th>50%</th>\n",
       "      <td>54.000000</td>\n",
       "      <td>3.000000</td>\n",
       "      <td>130.000000</td>\n",
       "      <td>223.000000</td>\n",
       "      <td>0.000000</td>\n",
       "      <td>138.000000</td>\n",
       "      <td>0.000000</td>\n",
       "      <td>0.600000</td>\n",
       "      <td>1.000000</td>\n",
       "      <td>1.000000</td>\n",
       "    </tr>\n",
       "    <tr>\n",
       "      <th>75%</th>\n",
       "      <td>60.000000</td>\n",
       "      <td>3.000000</td>\n",
       "      <td>140.000000</td>\n",
       "      <td>267.000000</td>\n",
       "      <td>0.000000</td>\n",
       "      <td>156.000000</td>\n",
       "      <td>1.000000</td>\n",
       "      <td>1.500000</td>\n",
       "      <td>1.000000</td>\n",
       "      <td>1.000000</td>\n",
       "    </tr>\n",
       "    <tr>\n",
       "      <th>max</th>\n",
       "      <td>77.000000</td>\n",
       "      <td>3.000000</td>\n",
       "      <td>200.000000</td>\n",
       "      <td>603.000000</td>\n",
       "      <td>1.000000</td>\n",
       "      <td>202.000000</td>\n",
       "      <td>1.000000</td>\n",
       "      <td>6.200000</td>\n",
       "      <td>2.000000</td>\n",
       "      <td>1.000000</td>\n",
       "    </tr>\n",
       "  </tbody>\n",
       "</table>\n",
       "</div>"
      ],
      "text/plain": [
       "              Age  ChestPainType   RestingBP  Cholesterol   FastingBS  \\\n",
       "count  918.000000     918.000000  918.000000   918.000000  918.000000   \n",
       "mean    53.510893       2.251634  132.396514   198.799564    0.233115   \n",
       "std      9.432617       0.931031   18.514154   109.384145    0.423046   \n",
       "min     28.000000       0.000000    0.000000     0.000000    0.000000   \n",
       "25%     47.000000       2.000000  120.000000   173.250000    0.000000   \n",
       "50%     54.000000       3.000000  130.000000   223.000000    0.000000   \n",
       "75%     60.000000       3.000000  140.000000   267.000000    0.000000   \n",
       "max     77.000000       3.000000  200.000000   603.000000    1.000000   \n",
       "\n",
       "            MaxHR  ExerciseAngina     Oldpeak    ST_Slope  HeartDisease  \n",
       "count  918.000000      918.000000  918.000000  918.000000    918.000000  \n",
       "mean   136.809368        0.404139    0.887364    0.638344      0.553377  \n",
       "std     25.460334        0.490992    1.066570    0.607056      0.497414  \n",
       "min     60.000000        0.000000   -2.600000    0.000000      0.000000  \n",
       "25%    120.000000        0.000000    0.000000    0.000000      0.000000  \n",
       "50%    138.000000        0.000000    0.600000    1.000000      1.000000  \n",
       "75%    156.000000        1.000000    1.500000    1.000000      1.000000  \n",
       "max    202.000000        1.000000    6.200000    2.000000      1.000000  "
      ]
     },
     "execution_count": 4,
     "metadata": {},
     "output_type": "execute_result"
    }
   ],
   "source": [
    "data.describe()"
   ]
  },
  {
   "cell_type": "code",
   "execution_count": 5,
   "id": "d33608a7",
   "metadata": {},
   "outputs": [
    {
     "data": {
      "text/plain": [
       "Age                 int64\n",
       "Sex                object\n",
       "ChestPainType       int64\n",
       "RestingBP           int64\n",
       "Cholesterol         int64\n",
       "FastingBS           int64\n",
       "RestingECG         object\n",
       "MaxHR               int64\n",
       "ExerciseAngina      int64\n",
       "Oldpeak           float64\n",
       "ST_Slope            int64\n",
       "HeartDisease        int64\n",
       "dtype: object"
      ]
     },
     "execution_count": 5,
     "metadata": {},
     "output_type": "execute_result"
    }
   ],
   "source": [
    "data.dtypes"
   ]
  },
  {
   "cell_type": "code",
   "execution_count": 6,
   "id": "f3a96a40",
   "metadata": {},
   "outputs": [
    {
     "data": {
      "image/png": "[encoded data removed]",
      "text/plain": [
       "<Figure size 432x288 with 1 Axes>"
      ]
     },
     "metadata": {
      "needs_background": "light"
     },
     "output_type": "display_data"
    }
   ],
   "source": [
    "plt.hist(data['ChestPainType'])\n",
    "plt.show()"
   ]
  },
  {
   "cell_type": "code",
   "execution_count": 7,
   "id": "e33ee8a2",
   "metadata": {},
   "outputs": [
    {
     "data": {
      "image/png": "[encoded data removed]",
      "text/plain": [
       "<Figure size 432x288 with 1 Axes>"
      ]
     },
     "metadata": {
      "needs_background": "light"
     },
     "output_type": "display_data"
    }
   ],
   "source": [
    "plt.hist(data['RestingBP'])\n",
    "plt.show()"
   ]
  },
  {
   "cell_type": "code",
   "execution_count": 8,
   "id": "3c46aa62",
   "metadata": {},
   "outputs": [
    {
     "data": {
      "image/png": "[encoded data removed]",
      "text/plain": [
       "<Figure size 432x288 with 1 Axes>"
      ]
     },
     "metadata": {
      "needs_background": "light"
     },
     "output_type": "display_data"
    }
   ],
   "source": [
    "plt.hist(data['Cholesterol'])\n",
    "plt.show()"
   ]
  },
  {
   "cell_type": "code",
   "execution_count": 9,
   "id": "100b7934",
   "metadata": {},
   "outputs": [
    {
     "data": {
      "image/png": "[encoded data removed]",
      "text/plain": [
       "<Figure size 432x288 with 1 Axes>"
      ]
     },
     "metadata": {
      "needs_background": "light"
     },
     "output_type": "display_data"
    }
   ],
   "source": [
    "plt.hist(data['MaxHR'])\n",
    "plt.show()"
   ]
  },
  {
   "cell_type": "code",
   "execution_count": 10,
   "id": "52fcd7fb",
   "metadata": {},
   "outputs": [
    {
     "data": {
      "image/png": "[encoded data removed]",
      "text/plain": [
       "<Figure size 432x288 with 1 Axes>"
      ]
     },
     "metadata": {
      "needs_background": "light"
     },
     "output_type": "display_data"
    }
   ],
   "source": [
    "plt.hist(data['Oldpeak'])\n",
    "plt.show()"
   ]
  },
  {
   "cell_type": "code",
   "execution_count": 11,
   "id": "e4366611",
   "metadata": {},
   "outputs": [
    {
     "data": {
      "image/png": "[encoded data removed]",
      "text/plain": [
       "<Figure size 432x288 with 1 Axes>"
      ]
     },
     "metadata": {
      "needs_background": "light"
     },
     "output_type": "display_data"
    }
   ],
   "source": [
    "plt.hist(data['Age'])\n",
    "plt.show()"
   ]
  },
  {
   "cell_type": "code",
   "execution_count": 12,
   "id": "f5433c04",
   "metadata": {},
   "outputs": [
    {
     "data": {
      "text/html": [
       "<div>\n",
       "<style scoped>\n",
       "    .dataframe tbody tr th:only-of-type {\n",
       "        vertical-align: middle;\n",
       "    }\n",
       "\n",
       "    .dataframe tbody tr th {\n",
       "        vertical-align: top;\n",
       "    }\n",
       "\n",
       "    .dataframe thead th {\n",
       "        text-align: right;\n",
       "    }\n",
       "</style>\n",
       "<table border=\"1\" class=\"dataframe\">\n",
       "  <thead>\n",
       "    <tr style=\"text-align: right;\">\n",
       "      <th></th>\n",
       "      <th>Age</th>\n",
       "      <th>ChestPainType</th>\n",
       "      <th>RestingBP</th>\n",
       "      <th>Cholesterol</th>\n",
       "      <th>FastingBS</th>\n",
       "      <th>MaxHR</th>\n",
       "      <th>ExerciseAngina</th>\n",
       "      <th>Oldpeak</th>\n",
       "      <th>ST_Slope</th>\n",
       "      <th>HeartDisease</th>\n",
       "    </tr>\n",
       "  </thead>\n",
       "  <tbody>\n",
       "    <tr>\n",
       "      <th>Age</th>\n",
       "      <td>1.000000</td>\n",
       "      <td>0.165896</td>\n",
       "      <td>0.254399</td>\n",
       "      <td>-0.095282</td>\n",
       "      <td>0.198039</td>\n",
       "      <td>-0.382045</td>\n",
       "      <td>0.215793</td>\n",
       "      <td>0.258612</td>\n",
       "      <td>0.268264</td>\n",
       "      <td>0.282039</td>\n",
       "    </tr>\n",
       "    <tr>\n",
       "      <th>ChestPainType</th>\n",
       "      <td>0.165896</td>\n",
       "      <td>1.000000</td>\n",
       "      <td>0.022168</td>\n",
       "      <td>-0.136139</td>\n",
       "      <td>0.116703</td>\n",
       "      <td>-0.343654</td>\n",
       "      <td>0.416625</td>\n",
       "      <td>0.245027</td>\n",
       "      <td>0.317480</td>\n",
       "      <td>0.471354</td>\n",
       "    </tr>\n",
       "    <tr>\n",
       "      <th>RestingBP</th>\n",
       "      <td>0.254399</td>\n",
       "      <td>0.022168</td>\n",
       "      <td>1.000000</td>\n",
       "      <td>0.100893</td>\n",
       "      <td>0.070193</td>\n",
       "      <td>-0.112135</td>\n",
       "      <td>0.155101</td>\n",
       "      <td>0.164803</td>\n",
       "      <td>0.075162</td>\n",
       "      <td>0.107589</td>\n",
       "    </tr>\n",
       "    <tr>\n",
       "      <th>Cholesterol</th>\n",
       "      <td>-0.095282</td>\n",
       "      <td>-0.136139</td>\n",
       "      <td>0.100893</td>\n",
       "      <td>1.000000</td>\n",
       "      <td>-0.260974</td>\n",
       "      <td>0.235792</td>\n",
       "      <td>-0.034166</td>\n",
       "      <td>0.050148</td>\n",
       "      <td>-0.111471</td>\n",
       "      <td>-0.232741</td>\n",
       "    </tr>\n",
       "    <tr>\n",
       "      <th>FastingBS</th>\n",
       "      <td>0.198039</td>\n",
       "      <td>0.116703</td>\n",
       "      <td>0.070193</td>\n",
       "      <td>-0.260974</td>\n",
       "      <td>1.000000</td>\n",
       "      <td>-0.131438</td>\n",
       "      <td>0.060451</td>\n",
       "      <td>0.052698</td>\n",
       "      <td>0.175774</td>\n",
       "      <td>0.267291</td>\n",
       "    </tr>\n",
       "    <tr>\n",
       "      <th>MaxHR</th>\n",
       "      <td>-0.382045</td>\n",
       "      <td>-0.343654</td>\n",
       "      <td>-0.112135</td>\n",
       "      <td>0.235792</td>\n",
       "      <td>-0.131438</td>\n",
       "      <td>1.000000</td>\n",
       "      <td>-0.370425</td>\n",
       "      <td>-0.160691</td>\n",
       "      <td>-0.343419</td>\n",
       "      <td>-0.400421</td>\n",
       "    </tr>\n",
       "    <tr>\n",
       "      <th>ExerciseAngina</th>\n",
       "      <td>0.215793</td>\n",
       "      <td>0.416625</td>\n",
       "      <td>0.155101</td>\n",
       "      <td>-0.034166</td>\n",
       "      <td>0.060451</td>\n",
       "      <td>-0.370425</td>\n",
       "      <td>1.000000</td>\n",
       "      <td>0.408752</td>\n",
       "      <td>0.428706</td>\n",
       "      <td>0.494282</td>\n",
       "    </tr>\n",
       "    <tr>\n",
       "      <th>Oldpeak</th>\n",
       "      <td>0.258612</td>\n",
       "      <td>0.245027</td>\n",
       "      <td>0.164803</td>\n",
       "      <td>0.050148</td>\n",
       "      <td>0.052698</td>\n",
       "      <td>-0.160691</td>\n",
       "      <td>0.408752</td>\n",
       "      <td>1.000000</td>\n",
       "      <td>0.501921</td>\n",
       "      <td>0.403951</td>\n",
       "    </tr>\n",
       "    <tr>\n",
       "      <th>ST_Slope</th>\n",
       "      <td>0.268264</td>\n",
       "      <td>0.317480</td>\n",
       "      <td>0.075162</td>\n",
       "      <td>-0.111471</td>\n",
       "      <td>0.175774</td>\n",
       "      <td>-0.343419</td>\n",
       "      <td>0.428706</td>\n",
       "      <td>0.501921</td>\n",
       "      <td>1.000000</td>\n",
       "      <td>0.558771</td>\n",
       "    </tr>\n",
       "    <tr>\n",
       "      <th>HeartDisease</th>\n",
       "      <td>0.282039</td>\n",
       "      <td>0.471354</td>\n",
       "      <td>0.107589</td>\n",
       "      <td>-0.232741</td>\n",
       "      <td>0.267291</td>\n",
       "      <td>-0.400421</td>\n",
       "      <td>0.494282</td>\n",
       "      <td>0.403951</td>\n",
       "      <td>0.558771</td>\n",
       "      <td>1.000000</td>\n",
       "    </tr>\n",
       "  </tbody>\n",
       "</table>\n",
       "</div>"
      ],
      "text/plain": [
       "                     Age  ChestPainType  RestingBP  Cholesterol  FastingBS  \\\n",
       "Age             1.000000       0.165896   0.254399    -0.095282   0.198039   \n",
       "ChestPainType   0.165896       1.000000   0.022168    -0.136139   0.116703   \n",
       "RestingBP       0.254399       0.022168   1.000000     0.100893   0.070193   \n",
       "Cholesterol    -0.095282      -0.136139   0.100893     1.000000  -0.260974   \n",
       "FastingBS       0.198039       0.116703   0.070193    -0.260974   1.000000   \n",
       "MaxHR          -0.382045      -0.343654  -0.112135     0.235792  -0.131438   \n",
       "ExerciseAngina  0.215793       0.416625   0.155101    -0.034166   0.060451   \n",
       "Oldpeak         0.258612       0.245027   0.164803     0.050148   0.052698   \n",
       "ST_Slope        0.268264       0.317480   0.075162    -0.111471   0.175774   \n",
       "HeartDisease    0.282039       0.471354   0.107589    -0.232741   0.267291   \n",
       "\n",
       "                   MaxHR  ExerciseAngina   Oldpeak  ST_Slope  HeartDisease  \n",
       "Age            -0.382045        0.215793  0.258612  0.268264      0.282039  \n",
       "ChestPainType  -0.343654        0.416625  0.245027  0.317480      0.471354  \n",
       "RestingBP      -0.112135        0.155101  0.164803  0.075162      0.107589  \n",
       "Cholesterol     0.235792       -0.034166  0.050148 -0.111471     -0.232741  \n",
       "FastingBS      -0.131438        0.060451  0.052698  0.175774      0.267291  \n",
       "MaxHR           1.000000       -0.370425 -0.160691 -0.343419     -0.400421  \n",
       "ExerciseAngina -0.370425        1.000000  0.408752  0.428706      0.494282  \n",
       "Oldpeak        -0.160691        0.408752  1.000000  0.501921      0.403951  \n",
       "ST_Slope       -0.343419        0.428706  0.501921  1.000000      0.558771  \n",
       "HeartDisease   -0.400421        0.494282  0.403951  0.558771      1.000000  "
      ]
     },
     "execution_count": 12,
     "metadata": {},
     "output_type": "execute_result"
    }
   ],
   "source": [
    "data.corr()"
   ]
  },
  {
   "cell_type": "code",
   "execution_count": 13,
   "id": "7e262d65",
   "metadata": {},
   "outputs": [
    {
     "data": {
      "text/plain": [
       "<AxesSubplot:>"
      ]
     },
     "execution_count": 13,
     "metadata": {},
     "output_type": "execute_result"
    },
    {
     "data": {
      "image/png": "[encoded data removed]",
      "text/plain": [
       "<Figure size 432x288 with 2 Axes>"
      ]
     },
     "metadata": {
      "needs_background": "light"
     },
     "output_type": "display_data"
    }
   ],
   "source": [
    "sns.heatmap(data.corr())"
   ]
  },
  {
   "cell_type": "code",
   "execution_count": 14,
   "id": "11356562",
   "metadata": {},
   "outputs": [
    {
     "data": {
      "text/plain": [
       "<seaborn.axisgrid.PairGrid at 0x2819b182250>"
      ]
     },
     "execution_count": 14,
     "metadata": {},
     "output_type": "execute_result"
    },
    {
     "data": {
      "image/png": "[encoded data removed]",
      "text/plain": [
       "<Figure size 1800x1800 with 110 Axes>"
      ]
     },
     "metadata": {
      "needs_background": "light"
     },
     "output_type": "display_data"
    }
   ],
   "source": [
    "sns.pairplot(data.corr())"
   ]
  },
  {
   "cell_type": "code",
   "execution_count": 15,
   "id": "b665152e",
   "metadata": {},
   "outputs": [],
   "source": [
    "# strongest correlation so far appears to be st_slope to heartdisease at 0.56"
   ]
  },
  {
   "cell_type": "code",
   "execution_count": 16,
   "id": "227fac25",
   "metadata": {},
   "outputs": [
    {
     "data": {
      "text/plain": [
       "<seaborn.axisgrid.FacetGrid at 0x281a01eef10>"
      ]
     },
     "execution_count": 16,
     "metadata": {},
     "output_type": "execute_result"
    },
    {
     "data": {
      "image/png": "[encoded data removed]",
      "text/plain": [
       "<Figure size 435.25x360 with 1 Axes>"
      ]
     },
     "metadata": {
      "needs_background": "light"
     },
     "output_type": "display_data"
    }
   ],
   "source": [
    "sns.catplot(x='ST_Slope', y='ChestPainType', hue='HeartDisease', data=data)"
   ]
  },
  {
   "cell_type": "code",
   "execution_count": 17,
   "id": "60cbe15f",
   "metadata": {},
   "outputs": [
    {
     "data": {
      "text/plain": [
       "<seaborn.axisgrid.FacetGrid at 0x2819fe61eb0>"
      ]
     },
     "execution_count": 17,
     "metadata": {},
     "output_type": "execute_result"
    },
    {
     "data": {
      "image/png": "[encoded data removed]",
      "text/plain": [
       "<Figure size 435.25x360 with 1 Axes>"
      ]
     },
     "metadata": {
      "needs_background": "light"
     },
     "output_type": "display_data"
    }
   ],
   "source": [
    "sns.lmplot(x='ST_Slope', y='ExerciseAngina', hue='HeartDisease', data=data)"
   ]
  },
  {
   "cell_type": "code",
   "execution_count": 18,
   "id": "558ee8fb",
   "metadata": {},
   "outputs": [
    {
     "data": {
      "text/plain": [
       "<seaborn.axisgrid.FacetGrid at 0x2819ffb7cd0>"
      ]
     },
     "execution_count": 18,
     "metadata": {},
     "output_type": "execute_result"
    },
    {
     "data": {
      "image/png": "[encoded data removed]",
      "text/plain": [
       "<Figure size 435.25x360 with 1 Axes>"
      ]
     },
     "metadata": {
      "needs_background": "light"
     },
     "output_type": "display_data"
    }
   ],
   "source": [
    "sns.lmplot(x='ST_Slope', y='ExerciseAngina', hue='HeartDisease', data=data)"
   ]
  },
  {
   "cell_type": "code",
   "execution_count": 19,
   "id": "501850f3",
   "metadata": {},
   "outputs": [
    {
     "data": {
      "text/plain": [
       "<seaborn.axisgrid.FacetGrid at 0x281a02f28e0>"
      ]
     },
     "execution_count": 19,
     "metadata": {},
     "output_type": "execute_result"
    },
    {
     "data": {
      "image/png": "[encoded data removed]",
      "text/plain": [
       "<Figure size 435.25x360 with 1 Axes>"
      ]
     },
     "metadata": {
      "needs_background": "light"
     },
     "output_type": "display_data"
    }
   ],
   "source": [
    "sns.lmplot(x='ChestPainType', y='ExerciseAngina', hue='HeartDisease', data=data)"
   ]
  },
  {
   "cell_type": "code",
   "execution_count": 20,
   "id": "7f8afb1c",
   "metadata": {},
   "outputs": [
    {
     "data": {
      "text/plain": [
       "<seaborn.axisgrid.FacetGrid at 0x281a0f7bb50>"
      ]
     },
     "execution_count": 20,
     "metadata": {},
     "output_type": "execute_result"
    },
    {
     "data": {
      "image/png": "[encoded data removed]",
      "text/plain": [
       "<Figure size 435.25x360 with 1 Axes>"
      ]
     },
     "metadata": {
      "needs_background": "light"
     },
     "output_type": "display_data"
    }
   ],
   "source": [
    "sns.catplot(x='ChestPainType', y='ExerciseAngina', hue='HeartDisease', data=data)"
   ]
  },
  {
   "cell_type": "code",
   "execution_count": 21,
   "id": "49d7a6e9",
   "metadata": {},
   "outputs": [],
   "source": [
    "# The biggest factors at the moment appear to be ChestPainType, ST_Slope, ExerciseAngina"
   ]
  },
  {
   "cell_type": "code",
   "execution_count": 22,
   "id": "34dee05e",
   "metadata": {},
   "outputs": [],
   "source": [
    "# drop zeros from cholesterol and maxhr and retest\n",
    "\n",
    "nozerodata = data.loc[~(data[['Cholesterol']]==0).all(axis=1)]"
   ]
  },
  {
   "cell_type": "code",
   "execution_count": 23,
   "id": "e00eaf9c",
   "metadata": {},
   "outputs": [
    {
     "data": {
      "text/plain": [
       "array([289, 180, 283, 214, 195, 339, 237, 208, 207, 284, 211, 164, 204,\n",
       "       234, 273, 196, 201, 248, 267, 223, 184, 288, 215, 209, 260, 468,\n",
       "       188, 518, 167, 224, 172, 186, 254, 306, 250, 177, 227, 230, 294,\n",
       "       264, 259, 175, 318, 216, 340, 233, 205, 245, 194, 270, 213, 365,\n",
       "       342, 253, 277, 202, 297, 225, 246, 412, 265, 182, 218, 268, 163,\n",
       "       529, 100, 206, 238, 139, 263, 291, 229, 307, 210, 329, 147,  85,\n",
       "       269, 275, 179, 392, 466, 129, 241, 255, 276, 282, 338, 160, 156,\n",
       "       272, 240, 393, 161, 228, 292, 388, 166, 247, 331, 341, 243, 279,\n",
       "       198, 249, 168, 603, 159, 190, 185, 290, 212, 231, 222, 235, 320,\n",
       "       187, 266, 287, 404, 312, 251, 328, 285, 280, 192, 193, 308, 219,\n",
       "       257, 132, 226, 217, 303, 298, 256, 117, 295, 173, 315, 281, 309,\n",
       "       200, 336, 355, 326, 171, 491, 271, 274, 394, 221, 126, 305, 220,\n",
       "       242, 347, 344, 358, 169, 181, 236, 203, 153, 316, 311, 252, 458,\n",
       "       384, 258, 349, 142, 197, 113, 261, 310, 232, 110, 123, 170, 369,\n",
       "       152, 244, 165, 337, 300, 333, 385, 322, 564, 239, 293, 407, 149,\n",
       "       199, 417, 178, 319, 354, 330, 302, 313, 141, 327, 304, 286, 360,\n",
       "       262, 325, 299, 409, 174, 183, 321, 353, 335, 278, 157, 176, 131],\n",
       "      dtype=int64)"
      ]
     },
     "execution_count": 23,
     "metadata": {},
     "output_type": "execute_result"
    }
   ],
   "source": [
    "nozerodata.Cholesterol.unique()"
   ]
  },
  {
   "cell_type": "code",
   "execution_count": 24,
   "id": "ba3810fe",
   "metadata": {},
   "outputs": [
    {
     "data": {
      "text/plain": [
       "Age                28\n",
       "Sex                 F\n",
       "ChestPainType       0\n",
       "RestingBP          92\n",
       "Cholesterol        85\n",
       "FastingBS           0\n",
       "RestingECG        LVH\n",
       "MaxHR              69\n",
       "ExerciseAngina      0\n",
       "Oldpeak          -0.1\n",
       "ST_Slope            0\n",
       "HeartDisease        0\n",
       "dtype: object"
      ]
     },
     "execution_count": 24,
     "metadata": {},
     "output_type": "execute_result"
    }
   ],
   "source": [
    "nozerodata.min()"
   ]
  },
  {
   "cell_type": "code",
   "execution_count": 25,
   "id": "e63772f3",
   "metadata": {},
   "outputs": [
    {
     "data": {
      "text/html": [
       "<div>\n",
       "<style scoped>\n",
       "    .dataframe tbody tr th:only-of-type {\n",
       "        vertical-align: middle;\n",
       "    }\n",
       "\n",
       "    .dataframe tbody tr th {\n",
       "        vertical-align: top;\n",
       "    }\n",
       "\n",
       "    .dataframe thead th {\n",
       "        text-align: right;\n",
       "    }\n",
       "</style>\n",
       "<table border=\"1\" class=\"dataframe\">\n",
       "  <thead>\n",
       "    <tr style=\"text-align: right;\">\n",
       "      <th></th>\n",
       "      <th>Age</th>\n",
       "      <th>ChestPainType</th>\n",
       "      <th>RestingBP</th>\n",
       "      <th>Cholesterol</th>\n",
       "      <th>FastingBS</th>\n",
       "      <th>MaxHR</th>\n",
       "      <th>ExerciseAngina</th>\n",
       "      <th>Oldpeak</th>\n",
       "      <th>ST_Slope</th>\n",
       "      <th>HeartDisease</th>\n",
       "    </tr>\n",
       "  </thead>\n",
       "  <tbody>\n",
       "    <tr>\n",
       "      <th>Age</th>\n",
       "      <td>1.000000</td>\n",
       "      <td>0.173717</td>\n",
       "      <td>0.259865</td>\n",
       "      <td>0.058758</td>\n",
       "      <td>0.241338</td>\n",
       "      <td>-0.382112</td>\n",
       "      <td>0.245908</td>\n",
       "      <td>0.286006</td>\n",
       "      <td>0.285421</td>\n",
       "      <td>0.298617</td>\n",
       "    </tr>\n",
       "    <tr>\n",
       "      <th>ChestPainType</th>\n",
       "      <td>0.173717</td>\n",
       "      <td>1.000000</td>\n",
       "      <td>0.043508</td>\n",
       "      <td>0.079884</td>\n",
       "      <td>0.043448</td>\n",
       "      <td>-0.344047</td>\n",
       "      <td>0.447470</td>\n",
       "      <td>0.292942</td>\n",
       "      <td>0.338367</td>\n",
       "      <td>0.463177</td>\n",
       "    </tr>\n",
       "    <tr>\n",
       "      <th>RestingBP</th>\n",
       "      <td>0.259865</td>\n",
       "      <td>0.043508</td>\n",
       "      <td>1.000000</td>\n",
       "      <td>0.095939</td>\n",
       "      <td>0.173765</td>\n",
       "      <td>-0.125774</td>\n",
       "      <td>0.161035</td>\n",
       "      <td>0.198575</td>\n",
       "      <td>0.143881</td>\n",
       "      <td>0.173242</td>\n",
       "    </tr>\n",
       "    <tr>\n",
       "      <th>Cholesterol</th>\n",
       "      <td>0.058758</td>\n",
       "      <td>0.079884</td>\n",
       "      <td>0.095939</td>\n",
       "      <td>1.000000</td>\n",
       "      <td>0.054012</td>\n",
       "      <td>-0.019856</td>\n",
       "      <td>0.086768</td>\n",
       "      <td>0.058488</td>\n",
       "      <td>0.078516</td>\n",
       "      <td>0.103866</td>\n",
       "    </tr>\n",
       "    <tr>\n",
       "      <th>FastingBS</th>\n",
       "      <td>0.241338</td>\n",
       "      <td>0.043448</td>\n",
       "      <td>0.173765</td>\n",
       "      <td>0.054012</td>\n",
       "      <td>1.000000</td>\n",
       "      <td>-0.102710</td>\n",
       "      <td>0.109995</td>\n",
       "      <td>0.055568</td>\n",
       "      <td>0.157780</td>\n",
       "      <td>0.160594</td>\n",
       "    </tr>\n",
       "    <tr>\n",
       "      <th>MaxHR</th>\n",
       "      <td>-0.382112</td>\n",
       "      <td>-0.344047</td>\n",
       "      <td>-0.125774</td>\n",
       "      <td>-0.019856</td>\n",
       "      <td>-0.102710</td>\n",
       "      <td>1.000000</td>\n",
       "      <td>-0.396289</td>\n",
       "      <td>-0.259533</td>\n",
       "      <td>-0.349926</td>\n",
       "      <td>-0.377212</td>\n",
       "    </tr>\n",
       "    <tr>\n",
       "      <th>ExerciseAngina</th>\n",
       "      <td>0.245908</td>\n",
       "      <td>0.447470</td>\n",
       "      <td>0.161035</td>\n",
       "      <td>0.086768</td>\n",
       "      <td>0.109995</td>\n",
       "      <td>-0.396289</td>\n",
       "      <td>1.000000</td>\n",
       "      <td>0.465491</td>\n",
       "      <td>0.473543</td>\n",
       "      <td>0.551834</td>\n",
       "    </tr>\n",
       "    <tr>\n",
       "      <th>Oldpeak</th>\n",
       "      <td>0.286006</td>\n",
       "      <td>0.292942</td>\n",
       "      <td>0.198575</td>\n",
       "      <td>0.058488</td>\n",
       "      <td>0.055568</td>\n",
       "      <td>-0.259533</td>\n",
       "      <td>0.465491</td>\n",
       "      <td>1.000000</td>\n",
       "      <td>0.613961</td>\n",
       "      <td>0.495696</td>\n",
       "    </tr>\n",
       "    <tr>\n",
       "      <th>ST_Slope</th>\n",
       "      <td>0.285421</td>\n",
       "      <td>0.338367</td>\n",
       "      <td>0.143881</td>\n",
       "      <td>0.078516</td>\n",
       "      <td>0.157780</td>\n",
       "      <td>-0.349926</td>\n",
       "      <td>0.473543</td>\n",
       "      <td>0.613961</td>\n",
       "      <td>1.000000</td>\n",
       "      <td>0.597334</td>\n",
       "    </tr>\n",
       "    <tr>\n",
       "      <th>HeartDisease</th>\n",
       "      <td>0.298617</td>\n",
       "      <td>0.463177</td>\n",
       "      <td>0.173242</td>\n",
       "      <td>0.103866</td>\n",
       "      <td>0.160594</td>\n",
       "      <td>-0.377212</td>\n",
       "      <td>0.551834</td>\n",
       "      <td>0.495696</td>\n",
       "      <td>0.597334</td>\n",
       "      <td>1.000000</td>\n",
       "    </tr>\n",
       "  </tbody>\n",
       "</table>\n",
       "</div>"
      ],
      "text/plain": [
       "                     Age  ChestPainType  RestingBP  Cholesterol  FastingBS  \\\n",
       "Age             1.000000       0.173717   0.259865     0.058758   0.241338   \n",
       "ChestPainType   0.173717       1.000000   0.043508     0.079884   0.043448   \n",
       "RestingBP       0.259865       0.043508   1.000000     0.095939   0.173765   \n",
       "Cholesterol     0.058758       0.079884   0.095939     1.000000   0.054012   \n",
       "FastingBS       0.241338       0.043448   0.173765     0.054012   1.000000   \n",
       "MaxHR          -0.382112      -0.344047  -0.125774    -0.019856  -0.102710   \n",
       "ExerciseAngina  0.245908       0.447470   0.161035     0.086768   0.109995   \n",
       "Oldpeak         0.286006       0.292942   0.198575     0.058488   0.055568   \n",
       "ST_Slope        0.285421       0.338367   0.143881     0.078516   0.157780   \n",
       "HeartDisease    0.298617       0.463177   0.173242     0.103866   0.160594   \n",
       "\n",
       "                   MaxHR  ExerciseAngina   Oldpeak  ST_Slope  HeartDisease  \n",
       "Age            -0.382112        0.245908  0.286006  0.285421      0.298617  \n",
       "ChestPainType  -0.344047        0.447470  0.292942  0.338367      0.463177  \n",
       "RestingBP      -0.125774        0.161035  0.198575  0.143881      0.173242  \n",
       "Cholesterol    -0.019856        0.086768  0.058488  0.078516      0.103866  \n",
       "FastingBS      -0.102710        0.109995  0.055568  0.157780      0.160594  \n",
       "MaxHR           1.000000       -0.396289 -0.259533 -0.349926     -0.377212  \n",
       "ExerciseAngina -0.396289        1.000000  0.465491  0.473543      0.551834  \n",
       "Oldpeak        -0.259533        0.465491  1.000000  0.613961      0.495696  \n",
       "ST_Slope       -0.349926        0.473543  0.613961  1.000000      0.597334  \n",
       "HeartDisease   -0.377212        0.551834  0.495696  0.597334      1.000000  "
      ]
     },
     "execution_count": 25,
     "metadata": {},
     "output_type": "execute_result"
    }
   ],
   "source": [
    "nozerodata.corr()"
   ]
  },
  {
   "cell_type": "code",
   "execution_count": 26,
   "id": "51ee34db",
   "metadata": {},
   "outputs": [
    {
     "data": {
      "text/plain": [
       "<AxesSubplot:>"
      ]
     },
     "execution_count": 26,
     "metadata": {},
     "output_type": "execute_result"
    },
    {
     "data": {
      "image/png": "[encoded data removed]",
      "text/plain": [
       "<Figure size 432x288 with 2 Axes>"
      ]
     },
     "metadata": {
      "needs_background": "light"
     },
     "output_type": "display_data"
    }
   ],
   "source": [
    "sns.heatmap(nozerodata.corr())"
   ]
  },
  {
   "cell_type": "code",
   "execution_count": 27,
   "id": "e0caedf0",
   "metadata": {},
   "outputs": [
    {
     "data": {
      "text/plain": [
       "<seaborn.axisgrid.FacetGrid at 0x281a17f7520>"
      ]
     },
     "execution_count": 27,
     "metadata": {},
     "output_type": "execute_result"
    },
    {
     "data": {
      "image/png": "[encoded data removed]",
      "text/plain": [
       "<Figure size 435.25x360 with 1 Axes>"
      ]
     },
     "metadata": {
      "needs_background": "light"
     },
     "output_type": "display_data"
    }
   ],
   "source": [
    "sns.catplot(x='ST_Slope', y='ChestPainType', hue='HeartDisease', data=nozerodata)"
   ]
  },
  {
   "cell_type": "code",
   "execution_count": 28,
   "id": "4333647b",
   "metadata": {},
   "outputs": [
    {
     "data": {
      "text/plain": [
       "<seaborn.axisgrid.FacetGrid at 0x281a17a2520>"
      ]
     },
     "execution_count": 28,
     "metadata": {},
     "output_type": "execute_result"
    },
    {
     "data": {
      "image/png": "[encoded data removed]",
      "text/plain": [
       "<Figure size 435.25x360 with 1 Axes>"
      ]
     },
     "metadata": {
      "needs_background": "light"
     },
     "output_type": "display_data"
    }
   ],
   "source": [
    "sns.lmplot(x='ST_Slope', y='ExerciseAngina', hue='HeartDisease', data=nozerodata)"
   ]
  },
  {
   "cell_type": "code",
   "execution_count": 29,
   "id": "cce2d637",
   "metadata": {},
   "outputs": [
    {
     "data": {
      "text/plain": [
       "<seaborn.axisgrid.FacetGrid at 0x281a283ceb0>"
      ]
     },
     "execution_count": 29,
     "metadata": {},
     "output_type": "execute_result"
    },
    {
     "data": {
      "image/png": "[encoded data removed]",
      "text/plain": [
       "<Figure size 435.25x360 with 1 Axes>"
      ]
     },
     "metadata": {
      "needs_background": "light"
     },
     "output_type": "display_data"
    }
   ],
   "source": [
    "sns.lmplot(x='ST_Slope', y='ExerciseAngina', hue='HeartDisease', data=nozerodata)"
   ]
  },
  {
   "cell_type": "code",
   "execution_count": 30,
   "id": "a2874625",
   "metadata": {},
   "outputs": [
    {
     "data": {
      "text/plain": [
       "<seaborn.axisgrid.FacetGrid at 0x281a2869d30>"
      ]
     },
     "execution_count": 30,
     "metadata": {},
     "output_type": "execute_result"
    },
    {
     "data": {
      "image/png": "[encoded data removed]",
      "text/plain": [
       "<Figure size 435.25x360 with 1 Axes>"
      ]
     },
     "metadata": {
      "needs_background": "light"
     },
     "output_type": "display_data"
    }
   ],
   "source": [
    "sns.catplot(x='ChestPainType', y='ExerciseAngina', hue='HeartDisease', data=nozerodata)"
   ]
  },
  {
   "cell_type": "code",
   "execution_count": 31,
   "id": "7eb43ebb",
   "metadata": {},
   "outputs": [],
   "source": [
    "# still the same categories showing as most significant, ST_Slope, ExerciseAngina, ChestPainType"
   ]
  },
  {
   "cell_type": "code",
   "execution_count": 32,
   "id": "780dde7a",
   "metadata": {},
   "outputs": [
    {
     "name": "stderr",
     "output_type": "stream",
     "text": [
      "C:\\Users\\Mike\\anaconda3\\lib\\site-packages\\pandas\\core\\generic.py:5516: SettingWithCopyWarning: \n",
      "A value is trying to be set on a copy of a slice from a DataFrame.\n",
      "Try using .loc[row_indexer,col_indexer] = value instead\n",
      "\n",
      "See the caveats in the documentation: https://pandas.pydata.org/pandas-docs/stable/user_guide/indexing.html#returning-a-view-versus-a-copy\n",
      "  self[name] = value\n"
     ]
    }
   ],
   "source": [
    "nozerodata.HeartDisease = nozerodata.HeartDisease.replace(0, 'No')\n",
    "nozerodata.HeartDisease = nozerodata.HeartDisease.replace('yes', 'Yes')\n",
    "\n",
    "nozerodata.ChestPainType = nozerodata.ChestPainType.replace(0, 'TA')\n",
    "nozerodata.ChestPainType = nozerodata.ChestPainType.replace(1, 'ATA')\n",
    "nozerodata.ChestPainType = nozerodata.ChestPainType.replace(2, 'NAP')\n",
    "nozerodata.ChestPainType = nozerodata.ChestPainType.replace(3, 'ASY')\n",
    "\n",
    "nozerodata.ExerciseAngina = nozerodata.ExerciseAngina.replace(0, 'No')\n",
    "nozerodata.ExerciseAngina = nozerodata.ExerciseAngina.replace(1, 'Yes')\n",
    "\n",
    "nozerodata.ST_Slope = nozerodata.ST_Slope.replace(0, 'Up')\n",
    "nozerodata.ST_Slope = nozerodata.ST_Slope.replace(1, 'Flat')\n",
    "nozerodata.ST_Slope = nozerodata.ST_Slope.replace(2, 'Down')"
   ]
  },
  {
   "cell_type": "code",
   "execution_count": 33,
   "id": "addba96a",
   "metadata": {},
   "outputs": [
    {
     "data": {
      "text/html": [
       "<div>\n",
       "<style scoped>\n",
       "    .dataframe tbody tr th:only-of-type {\n",
       "        vertical-align: middle;\n",
       "    }\n",
       "\n",
       "    .dataframe tbody tr th {\n",
       "        vertical-align: top;\n",
       "    }\n",
       "\n",
       "    .dataframe thead th {\n",
       "        text-align: right;\n",
       "    }\n",
       "</style>\n",
       "<table border=\"1\" class=\"dataframe\">\n",
       "  <thead>\n",
       "    <tr style=\"text-align: right;\">\n",
       "      <th></th>\n",
       "      <th>Age</th>\n",
       "      <th>Sex</th>\n",
       "      <th>ChestPainType</th>\n",
       "      <th>RestingBP</th>\n",
       "      <th>Cholesterol</th>\n",
       "      <th>FastingBS</th>\n",
       "      <th>RestingECG</th>\n",
       "      <th>MaxHR</th>\n",
       "      <th>ExerciseAngina</th>\n",
       "      <th>Oldpeak</th>\n",
       "      <th>ST_Slope</th>\n",
       "      <th>HeartDisease</th>\n",
       "    </tr>\n",
       "  </thead>\n",
       "  <tbody>\n",
       "    <tr>\n",
       "      <th>0</th>\n",
       "      <td>40</td>\n",
       "      <td>M</td>\n",
       "      <td>ATA</td>\n",
       "      <td>140</td>\n",
       "      <td>289</td>\n",
       "      <td>0</td>\n",
       "      <td>Normal</td>\n",
       "      <td>172</td>\n",
       "      <td>No</td>\n",
       "      <td>0.0</td>\n",
       "      <td>Up</td>\n",
       "      <td>No</td>\n",
       "    </tr>\n",
       "    <tr>\n",
       "      <th>1</th>\n",
       "      <td>49</td>\n",
       "      <td>F</td>\n",
       "      <td>NAP</td>\n",
       "      <td>160</td>\n",
       "      <td>180</td>\n",
       "      <td>0</td>\n",
       "      <td>Normal</td>\n",
       "      <td>156</td>\n",
       "      <td>No</td>\n",
       "      <td>1.0</td>\n",
       "      <td>Flat</td>\n",
       "      <td>1</td>\n",
       "    </tr>\n",
       "    <tr>\n",
       "      <th>2</th>\n",
       "      <td>37</td>\n",
       "      <td>M</td>\n",
       "      <td>ATA</td>\n",
       "      <td>130</td>\n",
       "      <td>283</td>\n",
       "      <td>0</td>\n",
       "      <td>ST</td>\n",
       "      <td>98</td>\n",
       "      <td>No</td>\n",
       "      <td>0.0</td>\n",
       "      <td>Up</td>\n",
       "      <td>No</td>\n",
       "    </tr>\n",
       "    <tr>\n",
       "      <th>3</th>\n",
       "      <td>48</td>\n",
       "      <td>F</td>\n",
       "      <td>ASY</td>\n",
       "      <td>138</td>\n",
       "      <td>214</td>\n",
       "      <td>0</td>\n",
       "      <td>Normal</td>\n",
       "      <td>108</td>\n",
       "      <td>Yes</td>\n",
       "      <td>1.5</td>\n",
       "      <td>Flat</td>\n",
       "      <td>1</td>\n",
       "    </tr>\n",
       "    <tr>\n",
       "      <th>4</th>\n",
       "      <td>54</td>\n",
       "      <td>M</td>\n",
       "      <td>NAP</td>\n",
       "      <td>150</td>\n",
       "      <td>195</td>\n",
       "      <td>0</td>\n",
       "      <td>Normal</td>\n",
       "      <td>122</td>\n",
       "      <td>No</td>\n",
       "      <td>0.0</td>\n",
       "      <td>Up</td>\n",
       "      <td>No</td>\n",
       "    </tr>\n",
       "  </tbody>\n",
       "</table>\n",
       "</div>"
      ],
      "text/plain": [
       "   Age Sex ChestPainType  RestingBP  Cholesterol  FastingBS RestingECG  MaxHR  \\\n",
       "0   40   M           ATA        140          289          0     Normal    172   \n",
       "1   49   F           NAP        160          180          0     Normal    156   \n",
       "2   37   M           ATA        130          283          0         ST     98   \n",
       "3   48   F           ASY        138          214          0     Normal    108   \n",
       "4   54   M           NAP        150          195          0     Normal    122   \n",
       "\n",
       "  ExerciseAngina  Oldpeak ST_Slope HeartDisease  \n",
       "0             No      0.0       Up           No  \n",
       "1             No      1.0     Flat            1  \n",
       "2             No      0.0       Up           No  \n",
       "3            Yes      1.5     Flat            1  \n",
       "4             No      0.0       Up           No  "
      ]
     },
     "execution_count": 33,
     "metadata": {},
     "output_type": "execute_result"
    }
   ],
   "source": [
    "nozerodata.head()"
   ]
  },
  {
   "cell_type": "markdown",
   "id": "6bf76f88",
   "metadata": {},
   "source": [
    " "
   ]
  },
  {
   "cell_type": "markdown",
   "id": "9ea544b5",
   "metadata": {},
   "source": [
    "# Below will be the Chi Statistic Tests"
   ]
  },
  {
   "cell_type": "markdown",
   "id": "52630b2b",
   "metadata": {},
   "source": [
    " "
   ]
  },
  {
   "cell_type": "markdown",
   "id": "4b1598a6",
   "metadata": {},
   "source": [
    " Here I will look if there is a relationship between Sex and Heart Disease"
   ]
  },
  {
   "cell_type": "markdown",
   "id": "932952df",
   "metadata": {},
   "source": [
    " "
   ]
  },
  {
   "cell_type": "code",
   "execution_count": 34,
   "id": "58669d35",
   "metadata": {},
   "outputs": [],
   "source": [
    "data_sex = pd.crosstab(nozerodata['Sex'], nozerodata['HeartDisease'])"
   ]
  },
  {
   "cell_type": "code",
   "execution_count": 35,
   "id": "2fa9c00f",
   "metadata": {},
   "outputs": [
    {
     "name": "stdout",
     "output_type": "stream",
     "text": [
      "HeartDisease    1   No\n",
      "Sex                   \n",
      "F              40  142\n",
      "M             316  248\n"
     ]
    }
   ],
   "source": [
    "print(data_sex)"
   ]
  },
  {
   "cell_type": "code",
   "execution_count": 36,
   "id": "0c4d99da",
   "metadata": {},
   "outputs": [
    {
     "name": "stdout",
     "output_type": "stream",
     "text": [
      "[[ 40 142]\n",
      " [316 248]]\n"
     ]
    }
   ],
   "source": [
    "observed_val_sex = data_sex.values\n",
    "print(observed_val_sex)"
   ]
  },
  {
   "cell_type": "code",
   "execution_count": 37,
   "id": "0722256f",
   "metadata": {},
   "outputs": [],
   "source": [
    "import scipy.stats as stats\n",
    "from scipy.stats import chi2"
   ]
  },
  {
   "cell_type": "code",
   "execution_count": 38,
   "id": "da64ee6b",
   "metadata": {},
   "outputs": [
    {
     "data": {
      "text/plain": [
       "(62.58908315427757,\n",
       " 2.5466116402861134e-15,\n",
       " 1,\n",
       " array([[ 86.85254692,  95.14745308],\n",
       "        [269.14745308, 294.85254692]]))"
      ]
     },
     "execution_count": 38,
     "metadata": {},
     "output_type": "execute_result"
    }
   ],
   "source": [
    "sex_val = stats.chi2_contingency(data_sex)\n",
    "sex_val"
   ]
  },
  {
   "cell_type": "code",
   "execution_count": 39,
   "id": "049499b6",
   "metadata": {},
   "outputs": [],
   "source": [
    "expected_sexvals=sex_val[3]"
   ]
  },
  {
   "cell_type": "code",
   "execution_count": 40,
   "id": "f9c561b1",
   "metadata": {},
   "outputs": [
    {
     "name": "stdout",
     "output_type": "stream",
     "text": [
      "Degree of Freedom: 1\n"
     ]
    }
   ],
   "source": [
    "no_rows=len(data_sex.iloc[0:2,0])\n",
    "no_columns=len(data_sex.iloc[0,0:2])\n",
    "ddof=(no_rows-1)*(no_columns-1)\n",
    "print('Degree of Freedom:', ddof)\n",
    "alpha=0.05"
   ]
  },
  {
   "cell_type": "code",
   "execution_count": 41,
   "id": "46640834",
   "metadata": {},
   "outputs": [],
   "source": [
    "chi_square=sum([(o-e)**2./e for o,e in zip(observed_val_sex, expected_sexvals)])\n",
    "chi_square_statistic=chi_square[0]+chi_square[1]"
   ]
  },
  {
   "cell_type": "code",
   "execution_count": 42,
   "id": "21d36c18",
   "metadata": {},
   "outputs": [
    {
     "name": "stdout",
     "output_type": "stream",
     "text": [
      "63.94664942054928\n"
     ]
    }
   ],
   "source": [
    "print(chi_square_statistic)"
   ]
  },
  {
   "cell_type": "code",
   "execution_count": 43,
   "id": "7d3e089c",
   "metadata": {},
   "outputs": [
    {
     "name": "stdout",
     "output_type": "stream",
     "text": [
      "3.841458820694124\n"
     ]
    }
   ],
   "source": [
    "crit_val=chi2.ppf(q=1-alpha, df=ddof)\n",
    "print(crit_val)"
   ]
  },
  {
   "cell_type": "code",
   "execution_count": 44,
   "id": "c96f7bed",
   "metadata": {},
   "outputs": [
    {
     "name": "stdout",
     "output_type": "stream",
     "text": [
      "p-val:  1.3322676295501878e-15\n",
      "Significance level:  0.05\n",
      "Degree of Freedom:  1\n",
      "p-val:  1.3322676295501878e-15\n"
     ]
    }
   ],
   "source": [
    "p_value=1-chi2.cdf(x=chi_square_statistic, df=ddof)\n",
    "print('p-val: ', p_value)\n",
    "print('Significance level: ', alpha)\n",
    "print('Degree of Freedom: ', ddof)\n",
    "print('p-val: ', p_value)"
   ]
  },
  {
   "cell_type": "code",
   "execution_count": 45,
   "id": "74a66271",
   "metadata": {},
   "outputs": [
    {
     "name": "stdout",
     "output_type": "stream",
     "text": [
      "Reject H0, there is a relationship between 2 cat variables\n",
      "Reject H0, there is a relationship between 2 cat variables\n"
     ]
    }
   ],
   "source": [
    "if chi_square_statistic>=crit_val:\n",
    "    print('Reject H0, there is a relationship between 2 cat variables')\n",
    "else: \n",
    "    print('Retain H0, there is no relationship between 2 cat variables')\n",
    "          \n",
    "if p_value<=alpha:\n",
    "    print('Reject H0, there is a relationship between 2 cat variables')\n",
    "else: \n",
    "    print('Retain H0, there is no relationship between 2 cat variables')"
   ]
  },
  {
   "cell_type": "markdown",
   "id": "41e2be48",
   "metadata": {},
   "source": [
    " Here I will look if there is a relationship between ChestPainType (CPT) and Heart Disease\n",
    " \n",
    " "
   ]
  },
  {
   "cell_type": "markdown",
   "id": "db22b897",
   "metadata": {},
   "source": [
    " "
   ]
  },
  {
   "cell_type": "code",
   "execution_count": 46,
   "id": "45d261ff",
   "metadata": {},
   "outputs": [],
   "source": [
    "data_cpt = pd.crosstab(nozerodata['ChestPainType'], nozerodata['HeartDisease'])"
   ]
  },
  {
   "cell_type": "code",
   "execution_count": 47,
   "id": "510362c5",
   "metadata": {},
   "outputs": [
    {
     "name": "stdout",
     "output_type": "stream",
     "text": [
      "HeartDisease     1   No\n",
      "ChestPainType          \n",
      "ASY            274   96\n",
      "ATA             21  145\n",
      "NAP             46  123\n",
      "TA              15   26\n"
     ]
    }
   ],
   "source": [
    "print(data_cpt)"
   ]
  },
  {
   "cell_type": "code",
   "execution_count": 48,
   "id": "107e29c6",
   "metadata": {},
   "outputs": [
    {
     "name": "stdout",
     "output_type": "stream",
     "text": [
      "[[274  96]\n",
      " [ 21 145]\n",
      " [ 46 123]\n",
      " [ 15  26]]\n"
     ]
    }
   ],
   "source": [
    "observed_cptval = data_cpt.values\n",
    "print(observed_cptval)"
   ]
  },
  {
   "cell_type": "code",
   "execution_count": 49,
   "id": "ec64a0f3",
   "metadata": {},
   "outputs": [
    {
     "data": {
      "text/plain": [
       "(215.19039576001535,\n",
       " 2.199657628673997e-46,\n",
       " 3,\n",
       " array([[176.56836461, 193.43163539],\n",
       "        [ 79.21715818,  86.78284182],\n",
       "        [ 80.64879357,  88.35120643],\n",
       "        [ 19.56568365,  21.43431635]]))"
      ]
     },
     "execution_count": 49,
     "metadata": {},
     "output_type": "execute_result"
    }
   ],
   "source": [
    "cpt_val = stats.chi2_contingency(data_cpt)\n",
    "cpt_val"
   ]
  },
  {
   "cell_type": "code",
   "execution_count": 50,
   "id": "fbf62f9e",
   "metadata": {},
   "outputs": [],
   "source": [
    "expected_cptvals=cpt_val[3]"
   ]
  },
  {
   "cell_type": "code",
   "execution_count": 51,
   "id": "c792326f",
   "metadata": {},
   "outputs": [
    {
     "name": "stdout",
     "output_type": "stream",
     "text": [
      "Degree of Freedom: 3\n"
     ]
    }
   ],
   "source": [
    "no_rows=len(data_cpt.iloc[0:4,0])\n",
    "no_columns=len(data_cpt.iloc[0,0:2])\n",
    "ddof=(no_rows-1)*(no_columns-1)\n",
    "print('Degree of Freedom:', ddof)\n",
    "alpha=0.05"
   ]
  },
  {
   "cell_type": "code",
   "execution_count": 52,
   "id": "acb39716",
   "metadata": {},
   "outputs": [],
   "source": [
    "chi_square=sum([(o-e)**2./e for o,e in zip(observed_cptval, expected_cptvals)])\n",
    "chi_square_statistic=chi_square[0]+chi_square[1]"
   ]
  },
  {
   "cell_type": "code",
   "execution_count": 53,
   "id": "a5625b43",
   "metadata": {},
   "outputs": [
    {
     "name": "stdout",
     "output_type": "stream",
     "text": [
      "215.19039576001538\n"
     ]
    }
   ],
   "source": [
    "print(chi_square_statistic)"
   ]
  },
  {
   "cell_type": "code",
   "execution_count": 54,
   "id": "2d4f8f4b",
   "metadata": {},
   "outputs": [
    {
     "name": "stdout",
     "output_type": "stream",
     "text": [
      "7.814727903251179\n"
     ]
    }
   ],
   "source": [
    "crit_val=chi2.ppf(q=1-alpha, df=ddof)\n",
    "print(crit_val)"
   ]
  },
  {
   "cell_type": "code",
   "execution_count": 55,
   "id": "0b2d9545",
   "metadata": {},
   "outputs": [
    {
     "name": "stdout",
     "output_type": "stream",
     "text": [
      "p-val:  0.0\n",
      "Significance level:  0.05\n",
      "Degree of Freedom:  3\n",
      "p-val:  0.0\n"
     ]
    }
   ],
   "source": [
    "p_value = 1-chi2.cdf(x=chi_square_statistic, df=ddof)\n",
    "print('p-val: ', p_value)\n",
    "print('Significance level: ', alpha)\n",
    "print('Degree of Freedom: ', ddof)\n",
    "print('p-val: ', p_value)"
   ]
  },
  {
   "cell_type": "code",
   "execution_count": 56,
   "id": "c978bd20",
   "metadata": {},
   "outputs": [
    {
     "name": "stdout",
     "output_type": "stream",
     "text": [
      "Reject H0, there is a relationship between 2 cat variables\n",
      "Reject H0, there is a relationship between 2 cat variables\n"
     ]
    }
   ],
   "source": [
    "if chi_square_statistic>=crit_val:\n",
    "    print('Reject H0, there is a relationship between 2 cat variables')\n",
    "else: \n",
    "    print('Retain H0, there is no relationship between 2 cat variables')\n",
    "          \n",
    "if p_value<=alpha:\n",
    "    print('Reject H0, there is a relationship between 2 cat variables')\n",
    "else: \n",
    "    print('Retain H0, there is no relationship between 2 cat variables')"
   ]
  },
  {
   "cell_type": "markdown",
   "id": "930c309f",
   "metadata": {},
   "source": [
    " Here I will look if there is a relationship between RestingECG (RECG) and Heart Disease"
   ]
  },
  {
   "cell_type": "markdown",
   "id": "22e5f8c4",
   "metadata": {},
   "source": [
    "  "
   ]
  },
  {
   "cell_type": "code",
   "execution_count": 57,
   "id": "9adf556e",
   "metadata": {},
   "outputs": [],
   "source": [
    "data_recg = pd.crosstab(nozerodata['RestingECG'], nozerodata['HeartDisease'])"
   ]
  },
  {
   "cell_type": "code",
   "execution_count": 58,
   "id": "fc3f87e3",
   "metadata": {},
   "outputs": [
    {
     "name": "stdout",
     "output_type": "stream",
     "text": [
      "HeartDisease    1   No\n",
      "RestingECG            \n",
      "LVH            95   81\n",
      "Normal        188  257\n",
      "ST             73   52\n"
     ]
    }
   ],
   "source": [
    "print(data_recg)"
   ]
  },
  {
   "cell_type": "code",
   "execution_count": 59,
   "id": "820a2d26",
   "metadata": {},
   "outputs": [
    {
     "name": "stdout",
     "output_type": "stream",
     "text": [
      "[[ 95  81]\n",
      " [188 257]\n",
      " [ 73  52]]\n"
     ]
    }
   ],
   "source": [
    "observed_recgval = data_recg.values\n",
    "print(observed_recgval)"
   ]
  },
  {
   "cell_type": "code",
   "execution_count": 60,
   "id": "f3b36e15",
   "metadata": {},
   "outputs": [
    {
     "data": {
      "text/plain": [
       "(13.819621153250232,\n",
       " 0.0009979468130349501,\n",
       " 2,\n",
       " array([[ 83.98927614,  92.01072386],\n",
       "        [212.35924933, 232.64075067],\n",
       "        [ 59.65147453,  65.34852547]]))"
      ]
     },
     "execution_count": 60,
     "metadata": {},
     "output_type": "execute_result"
    }
   ],
   "source": [
    "recg_val = stats.chi2_contingency(data_recg)\n",
    "recg_val"
   ]
  },
  {
   "cell_type": "code",
   "execution_count": 61,
   "id": "cf073f57",
   "metadata": {},
   "outputs": [],
   "source": [
    "expected_recgvals=recg_val[3]"
   ]
  },
  {
   "cell_type": "code",
   "execution_count": 62,
   "id": "afb4dd79",
   "metadata": {},
   "outputs": [
    {
     "name": "stdout",
     "output_type": "stream",
     "text": [
      "Degree of Freedom: 2\n"
     ]
    }
   ],
   "source": [
    "no_rows=len(data_recg.iloc[0:3,0])\n",
    "no_columns=len(data_recg.iloc[0,0:2])\n",
    "ddof=(no_rows-1)*(no_columns-1)\n",
    "print('Degree of Freedom:', ddof)\n",
    "alpha=0.05"
   ]
  },
  {
   "cell_type": "code",
   "execution_count": 63,
   "id": "59c7f0c1",
   "metadata": {},
   "outputs": [],
   "source": [
    "chi_square=sum([(o-e)**2./e for o,e in zip(observed_recgval, expected_recgvals)])\n",
    "chi_square_statistic=chi_square[0]+chi_square[1]"
   ]
  },
  {
   "cell_type": "code",
   "execution_count": 64,
   "id": "426df7c4",
   "metadata": {},
   "outputs": [
    {
     "name": "stdout",
     "output_type": "stream",
     "text": [
      "13.819621153250228\n"
     ]
    }
   ],
   "source": [
    "print(chi_square_statistic)"
   ]
  },
  {
   "cell_type": "code",
   "execution_count": 65,
   "id": "e8bcffe0",
   "metadata": {},
   "outputs": [
    {
     "name": "stdout",
     "output_type": "stream",
     "text": [
      "5.991464547107979\n"
     ]
    }
   ],
   "source": [
    "crit_val=chi2.ppf(q=1-alpha, df=ddof)\n",
    "print(crit_val)"
   ]
  },
  {
   "cell_type": "code",
   "execution_count": 66,
   "id": "7416be56",
   "metadata": {},
   "outputs": [
    {
     "name": "stdout",
     "output_type": "stream",
     "text": [
      "p-val:  0.000997946813035\n",
      "Significance level:  0.05\n",
      "Degree of Freedom:  2\n",
      "p-val:  0.000997946813035\n"
     ]
    }
   ],
   "source": [
    "p_value = 1-chi2.cdf(x=chi_square_statistic, df=ddof)\n",
    "print('p-val: ', p_value)\n",
    "print('Significance level: ', alpha)\n",
    "print('Degree of Freedom: ', ddof)\n",
    "print('p-val: ', p_value)"
   ]
  },
  {
   "cell_type": "code",
   "execution_count": 67,
   "id": "0b03fb3b",
   "metadata": {},
   "outputs": [
    {
     "name": "stdout",
     "output_type": "stream",
     "text": [
      "Reject H0, there is a relationship between 2 cat variables\n",
      "Reject H0, there is a relationship between 2 cat variables\n"
     ]
    }
   ],
   "source": [
    "if chi_square_statistic>=crit_val:\n",
    "    print('Reject H0, there is a relationship between 2 cat variables')\n",
    "else: \n",
    "    print('Retain H0, there is no relationship between 2 cat variables')\n",
    "          \n",
    "if p_value<=alpha:\n",
    "    print('Reject H0, there is a relationship between 2 cat variables')\n",
    "else: \n",
    "    print('Retain H0, there is no relationship between 2 cat variables')"
   ]
  },
  {
   "cell_type": "markdown",
   "id": "17bc30d1",
   "metadata": {},
   "source": [
    " "
   ]
  },
  {
   "cell_type": "markdown",
   "id": "dc595364",
   "metadata": {},
   "source": [
    "Here I will look if there is a relationship between ExerciseAngina (ea) and Heart Disease"
   ]
  },
  {
   "cell_type": "markdown",
   "id": "9ecedba6",
   "metadata": {},
   "source": [
    " "
   ]
  },
  {
   "cell_type": "code",
   "execution_count": 68,
   "id": "e4d76cec",
   "metadata": {},
   "outputs": [],
   "source": [
    "data_ea = pd.crosstab(nozerodata['ExerciseAngina'], nozerodata['HeartDisease'])"
   ]
  },
  {
   "cell_type": "code",
   "execution_count": 69,
   "id": "fadfbde1",
   "metadata": {},
   "outputs": [
    {
     "name": "stdout",
     "output_type": "stream",
     "text": [
      "HeartDisease      1   No\n",
      "ExerciseAngina          \n",
      "No              119  340\n",
      "Yes             237   50\n"
     ]
    }
   ],
   "source": [
    "print(data_ea)"
   ]
  },
  {
   "cell_type": "code",
   "execution_count": 70,
   "id": "3682a982",
   "metadata": {},
   "outputs": [
    {
     "name": "stdout",
     "output_type": "stream",
     "text": [
      "[[119 340]\n",
      " [237  50]]\n"
     ]
    }
   ],
   "source": [
    "observed_eaval = data_ea.values\n",
    "print(observed_eaval)"
   ]
  },
  {
   "cell_type": "code",
   "execution_count": 71,
   "id": "6bdb4aea",
   "metadata": {},
   "outputs": [
    {
     "data": {
      "text/plain": [
       "(224.90775965021908,\n",
       " 7.690036188893912e-51,\n",
       " 1,\n",
       " array([[219.04021448, 239.95978552],\n",
       "        [136.95978552, 150.04021448]]))"
      ]
     },
     "execution_count": 71,
     "metadata": {},
     "output_type": "execute_result"
    }
   ],
   "source": [
    "ea_val = stats.chi2_contingency(data_ea)\n",
    "ea_val"
   ]
  },
  {
   "cell_type": "code",
   "execution_count": 72,
   "id": "98e03561",
   "metadata": {},
   "outputs": [],
   "source": [
    "expected_eavals=ea_val[3]"
   ]
  },
  {
   "cell_type": "code",
   "execution_count": 73,
   "id": "0bc87c39",
   "metadata": {},
   "outputs": [
    {
     "name": "stdout",
     "output_type": "stream",
     "text": [
      "Degree of Freedom: 1\n"
     ]
    }
   ],
   "source": [
    "no_rows=len(data_ea.iloc[0:2,0])\n",
    "no_columns=len(data_ea.iloc[0,0:2])\n",
    "ddof=(no_rows-1)*(no_columns-1)\n",
    "print('Degree of Freedom:', ddof)\n",
    "alpha=0.05"
   ]
  },
  {
   "cell_type": "code",
   "execution_count": 74,
   "id": "f8525225",
   "metadata": {},
   "outputs": [
    {
     "name": "stdout",
     "output_type": "stream",
     "text": [
      "227.17290070309167\n"
     ]
    }
   ],
   "source": [
    "chi_square=sum([(o-e)**2./e for o,e in zip(observed_eaval, expected_eavals)])\n",
    "chi_square_statistic=chi_square[0]+chi_square[1]\n",
    "print(chi_square_statistic)"
   ]
  },
  {
   "cell_type": "code",
   "execution_count": 75,
   "id": "2fd35919",
   "metadata": {},
   "outputs": [
    {
     "name": "stdout",
     "output_type": "stream",
     "text": [
      "3.841458820694124\n"
     ]
    }
   ],
   "source": [
    "crit_val=chi2.ppf(q=1-alpha, df=ddof)\n",
    "print(crit_val)"
   ]
  },
  {
   "cell_type": "code",
   "execution_count": 76,
   "id": "8afd8a81",
   "metadata": {},
   "outputs": [
    {
     "name": "stdout",
     "output_type": "stream",
     "text": [
      "p-val:  0.0\n",
      "Significance level:  0.05\n",
      "Degree of Freedom:  1\n",
      "p-val:  0.0\n"
     ]
    }
   ],
   "source": [
    "p_value = 1-chi2.cdf(x=chi_square_statistic, df=ddof)\n",
    "print('p-val: ', p_value)\n",
    "print('Significance level: ', alpha)\n",
    "print('Degree of Freedom: ', ddof)\n",
    "print('p-val: ', p_value)"
   ]
  },
  {
   "cell_type": "code",
   "execution_count": 77,
   "id": "6acdb157",
   "metadata": {},
   "outputs": [
    {
     "name": "stdout",
     "output_type": "stream",
     "text": [
      "Reject H0, there is a relationship between 2 cat variables\n",
      "Reject H0, there is a relationship between 2 cat variables\n"
     ]
    }
   ],
   "source": [
    "if chi_square_statistic>=crit_val:\n",
    "    print('Reject H0, there is a relationship between 2 cat variables')\n",
    "else: \n",
    "    print('Retain H0, there is no relationship between 2 cat variables')\n",
    "          \n",
    "if p_value<=alpha:\n",
    "    print('Reject H0, there is a relationship between 2 cat variables')\n",
    "else: \n",
    "    print('Retain H0, there is no relationship between 2 cat variables')"
   ]
  },
  {
   "cell_type": "markdown",
   "id": "808b0d31",
   "metadata": {},
   "source": [
    " "
   ]
  },
  {
   "cell_type": "markdown",
   "id": "31ea5770",
   "metadata": {},
   "source": [
    "Here I will look if there is a relationship between ST_Slope (ST) and Heart Disease"
   ]
  },
  {
   "cell_type": "markdown",
   "id": "febb1dd3",
   "metadata": {},
   "source": [
    " "
   ]
  },
  {
   "cell_type": "code",
   "execution_count": 78,
   "id": "c3ed9c2d",
   "metadata": {},
   "outputs": [],
   "source": [
    "data_st = pd.crosstab(nozerodata['ST_Slope'], nozerodata['HeartDisease'])"
   ]
  },
  {
   "cell_type": "code",
   "execution_count": 79,
   "id": "a3ceacc5",
   "metadata": {},
   "outputs": [
    {
     "name": "stdout",
     "output_type": "stream",
     "text": [
      "HeartDisease    1   No\n",
      "ST_Slope              \n",
      "Down           32   11\n",
      "Flat          279   75\n",
      "Up             45  304\n"
     ]
    }
   ],
   "source": [
    "print(data_st)"
   ]
  },
  {
   "cell_type": "code",
   "execution_count": 80,
   "id": "7d45fef7",
   "metadata": {},
   "outputs": [
    {
     "name": "stdout",
     "output_type": "stream",
     "text": [
      "[[ 32  11]\n",
      " [279  75]\n",
      " [ 45 304]]\n"
     ]
    }
   ],
   "source": [
    "observed_stval = data_st.values\n",
    "print(observed_stval)"
   ]
  },
  {
   "cell_type": "code",
   "execution_count": 81,
   "id": "d8abc5ba",
   "metadata": {},
   "outputs": [
    {
     "data": {
      "text/plain": [
       "(319.1376227035759,\n",
       " 5.013554566295386e-70,\n",
       " 2,\n",
       " array([[ 20.52010724,  22.47989276],\n",
       "        [168.93297587, 185.06702413],\n",
       "        [166.54691689, 182.45308311]]))"
      ]
     },
     "execution_count": 81,
     "metadata": {},
     "output_type": "execute_result"
    }
   ],
   "source": [
    "st_val = stats.chi2_contingency(data_st)\n",
    "st_val"
   ]
  },
  {
   "cell_type": "code",
   "execution_count": 82,
   "id": "3443cab1",
   "metadata": {},
   "outputs": [],
   "source": [
    "expected_stvals=st_val[3]"
   ]
  },
  {
   "cell_type": "code",
   "execution_count": 83,
   "id": "59f66e3f",
   "metadata": {},
   "outputs": [
    {
     "name": "stdout",
     "output_type": "stream",
     "text": [
      "Degree of Freedom: 1\n"
     ]
    }
   ],
   "source": [
    "no_rows=len(data_ea.iloc[0:3,0])\n",
    "no_columns=len(data_ea.iloc[0,0:2])\n",
    "ddof=(no_rows-1)*(no_columns-1)\n",
    "print('Degree of Freedom:', ddof)\n",
    "alpha=0.05"
   ]
  },
  {
   "cell_type": "code",
   "execution_count": 84,
   "id": "f5bff852",
   "metadata": {},
   "outputs": [
    {
     "name": "stdout",
     "output_type": "stream",
     "text": [
      "319.13762270357586\n"
     ]
    }
   ],
   "source": [
    "chi_square=sum([(o-e)**2./e for o,e in zip(observed_stval, expected_stvals)])\n",
    "chi_square_statistic=chi_square[0]+chi_square[1]\n",
    "print(chi_square_statistic)"
   ]
  },
  {
   "cell_type": "code",
   "execution_count": 85,
   "id": "aeede6b2",
   "metadata": {},
   "outputs": [
    {
     "name": "stdout",
     "output_type": "stream",
     "text": [
      "3.841458820694124\n"
     ]
    }
   ],
   "source": [
    "crit_val=chi2.ppf(q=1-alpha, df=ddof)\n",
    "print(crit_val)"
   ]
  },
  {
   "cell_type": "code",
   "execution_count": 86,
   "id": "0b699c47",
   "metadata": {},
   "outputs": [
    {
     "name": "stdout",
     "output_type": "stream",
     "text": [
      "p-val:  0.0\n",
      "Significance level:  0.05\n",
      "Degree of Freedom:  1\n",
      "p-val:  0.0\n"
     ]
    }
   ],
   "source": [
    "p_value = 1-chi2.cdf(x=chi_square_statistic, df=ddof)\n",
    "print('p-val: ', p_value)\n",
    "print('Significance level: ', alpha)\n",
    "print('Degree of Freedom: ', ddof)\n",
    "print('p-val: ', p_value)"
   ]
  },
  {
   "cell_type": "code",
   "execution_count": 87,
   "id": "ca869810",
   "metadata": {},
   "outputs": [
    {
     "name": "stdout",
     "output_type": "stream",
     "text": [
      "Reject H0, there is a relationship between 2 cat variables\n",
      "Reject H0, there is a relationship between 2 cat variables\n"
     ]
    }
   ],
   "source": [
    "if chi_square_statistic>=crit_val:\n",
    "    print('Reject H0, there is a relationship between 2 cat variables')\n",
    "else: \n",
    "    print('Retain H0, there is no relationship between 2 cat variables')\n",
    "          \n",
    "if p_value<=alpha:\n",
    "    print('Reject H0, there is a relationship between 2 cat variables')\n",
    "else: \n",
    "    print('Retain H0, there is no relationship between 2 cat variables')"
   ]
  },
  {
   "cell_type": "markdown",
   "id": "dbc9fc11",
   "metadata": {},
   "source": [
    " "
   ]
  },
  {
   "cell_type": "markdown",
   "id": "54691cc1",
   "metadata": {},
   "source": [
    " "
   ]
  },
  {
   "cell_type": "markdown",
   "id": "cec05fd0",
   "metadata": {},
   "source": [
    "# Below will be the t-tests"
   ]
  },
  {
   "cell_type": "markdown",
   "id": "c0cd230a",
   "metadata": {},
   "source": [
    " "
   ]
  },
  {
   "cell_type": "code",
   "execution_count": 88,
   "id": "d45aded5",
   "metadata": {
    "scrolled": true
   },
   "outputs": [
    {
     "name": "stderr",
     "output_type": "stream",
     "text": [
      "C:\\Users\\Mike\\AppData\\Local\\Temp/ipykernel_14304/399032395.py:1: SettingWithCopyWarning: \n",
      "A value is trying to be set on a copy of a slice from a DataFrame.\n",
      "Try using .loc[row_indexer,col_indexer] = value instead\n",
      "\n",
      "See the caveats in the documentation: https://pandas.pydata.org/pandas-docs/stable/user_guide/indexing.html#returning-a-view-versus-a-copy\n",
      "  nozerodata['HeartDisease'] = nozerodata['HeartDisease'].replace(0, 'No')\n",
      "C:\\Users\\Mike\\AppData\\Local\\Temp/ipykernel_14304/399032395.py:2: SettingWithCopyWarning: \n",
      "A value is trying to be set on a copy of a slice from a DataFrame.\n",
      "Try using .loc[row_indexer,col_indexer] = value instead\n",
      "\n",
      "See the caveats in the documentation: https://pandas.pydata.org/pandas-docs/stable/user_guide/indexing.html#returning-a-view-versus-a-copy\n",
      "  nozerodata['HeartDisease'] = nozerodata['HeartDisease'].replace(1, 'Yes')\n"
     ]
    }
   ],
   "source": [
    "nozerodata['HeartDisease'] = nozerodata['HeartDisease'].replace(0, 'No')\n",
    "nozerodata['HeartDisease'] = nozerodata['HeartDisease'].replace(1, 'Yes')\n"
   ]
  },
  {
   "cell_type": "code",
   "execution_count": 89,
   "id": "b633cd8e",
   "metadata": {},
   "outputs": [
    {
     "data": {
      "text/html": [
       "<div>\n",
       "<style scoped>\n",
       "    .dataframe tbody tr th:only-of-type {\n",
       "        vertical-align: middle;\n",
       "    }\n",
       "\n",
       "    .dataframe tbody tr th {\n",
       "        vertical-align: top;\n",
       "    }\n",
       "\n",
       "    .dataframe thead th {\n",
       "        text-align: right;\n",
       "    }\n",
       "</style>\n",
       "<table border=\"1\" class=\"dataframe\">\n",
       "  <thead>\n",
       "    <tr style=\"text-align: right;\">\n",
       "      <th></th>\n",
       "      <th>Age</th>\n",
       "      <th>Sex</th>\n",
       "      <th>ChestPainType</th>\n",
       "      <th>RestingBP</th>\n",
       "      <th>Cholesterol</th>\n",
       "      <th>FastingBS</th>\n",
       "      <th>RestingECG</th>\n",
       "      <th>MaxHR</th>\n",
       "      <th>ExerciseAngina</th>\n",
       "      <th>Oldpeak</th>\n",
       "      <th>ST_Slope</th>\n",
       "      <th>HeartDisease</th>\n",
       "    </tr>\n",
       "  </thead>\n",
       "  <tbody>\n",
       "    <tr>\n",
       "      <th>0</th>\n",
       "      <td>40</td>\n",
       "      <td>M</td>\n",
       "      <td>ATA</td>\n",
       "      <td>140</td>\n",
       "      <td>289</td>\n",
       "      <td>0</td>\n",
       "      <td>Normal</td>\n",
       "      <td>172</td>\n",
       "      <td>No</td>\n",
       "      <td>0.0</td>\n",
       "      <td>Up</td>\n",
       "      <td>No</td>\n",
       "    </tr>\n",
       "    <tr>\n",
       "      <th>2</th>\n",
       "      <td>37</td>\n",
       "      <td>M</td>\n",
       "      <td>ATA</td>\n",
       "      <td>130</td>\n",
       "      <td>283</td>\n",
       "      <td>0</td>\n",
       "      <td>ST</td>\n",
       "      <td>98</td>\n",
       "      <td>No</td>\n",
       "      <td>0.0</td>\n",
       "      <td>Up</td>\n",
       "      <td>No</td>\n",
       "    </tr>\n",
       "    <tr>\n",
       "      <th>4</th>\n",
       "      <td>54</td>\n",
       "      <td>M</td>\n",
       "      <td>NAP</td>\n",
       "      <td>150</td>\n",
       "      <td>195</td>\n",
       "      <td>0</td>\n",
       "      <td>Normal</td>\n",
       "      <td>122</td>\n",
       "      <td>No</td>\n",
       "      <td>0.0</td>\n",
       "      <td>Up</td>\n",
       "      <td>No</td>\n",
       "    </tr>\n",
       "    <tr>\n",
       "      <th>5</th>\n",
       "      <td>39</td>\n",
       "      <td>M</td>\n",
       "      <td>NAP</td>\n",
       "      <td>120</td>\n",
       "      <td>339</td>\n",
       "      <td>0</td>\n",
       "      <td>Normal</td>\n",
       "      <td>170</td>\n",
       "      <td>No</td>\n",
       "      <td>0.0</td>\n",
       "      <td>Up</td>\n",
       "      <td>No</td>\n",
       "    </tr>\n",
       "    <tr>\n",
       "      <th>6</th>\n",
       "      <td>45</td>\n",
       "      <td>F</td>\n",
       "      <td>ATA</td>\n",
       "      <td>130</td>\n",
       "      <td>237</td>\n",
       "      <td>0</td>\n",
       "      <td>Normal</td>\n",
       "      <td>170</td>\n",
       "      <td>No</td>\n",
       "      <td>0.0</td>\n",
       "      <td>Up</td>\n",
       "      <td>No</td>\n",
       "    </tr>\n",
       "    <tr>\n",
       "      <th>...</th>\n",
       "      <td>...</td>\n",
       "      <td>...</td>\n",
       "      <td>...</td>\n",
       "      <td>...</td>\n",
       "      <td>...</td>\n",
       "      <td>...</td>\n",
       "      <td>...</td>\n",
       "      <td>...</td>\n",
       "      <td>...</td>\n",
       "      <td>...</td>\n",
       "      <td>...</td>\n",
       "      <td>...</td>\n",
       "    </tr>\n",
       "    <tr>\n",
       "      <th>903</th>\n",
       "      <td>56</td>\n",
       "      <td>M</td>\n",
       "      <td>ATA</td>\n",
       "      <td>130</td>\n",
       "      <td>221</td>\n",
       "      <td>0</td>\n",
       "      <td>LVH</td>\n",
       "      <td>163</td>\n",
       "      <td>No</td>\n",
       "      <td>0.0</td>\n",
       "      <td>Up</td>\n",
       "      <td>No</td>\n",
       "    </tr>\n",
       "    <tr>\n",
       "      <th>904</th>\n",
       "      <td>56</td>\n",
       "      <td>M</td>\n",
       "      <td>ATA</td>\n",
       "      <td>120</td>\n",
       "      <td>240</td>\n",
       "      <td>0</td>\n",
       "      <td>Normal</td>\n",
       "      <td>169</td>\n",
       "      <td>No</td>\n",
       "      <td>0.0</td>\n",
       "      <td>Down</td>\n",
       "      <td>No</td>\n",
       "    </tr>\n",
       "    <tr>\n",
       "      <th>906</th>\n",
       "      <td>55</td>\n",
       "      <td>F</td>\n",
       "      <td>ATA</td>\n",
       "      <td>132</td>\n",
       "      <td>342</td>\n",
       "      <td>0</td>\n",
       "      <td>Normal</td>\n",
       "      <td>166</td>\n",
       "      <td>No</td>\n",
       "      <td>1.2</td>\n",
       "      <td>Up</td>\n",
       "      <td>No</td>\n",
       "    </tr>\n",
       "    <tr>\n",
       "      <th>910</th>\n",
       "      <td>41</td>\n",
       "      <td>M</td>\n",
       "      <td>ATA</td>\n",
       "      <td>120</td>\n",
       "      <td>157</td>\n",
       "      <td>0</td>\n",
       "      <td>Normal</td>\n",
       "      <td>182</td>\n",
       "      <td>No</td>\n",
       "      <td>0.0</td>\n",
       "      <td>Up</td>\n",
       "      <td>No</td>\n",
       "    </tr>\n",
       "    <tr>\n",
       "      <th>917</th>\n",
       "      <td>38</td>\n",
       "      <td>M</td>\n",
       "      <td>NAP</td>\n",
       "      <td>138</td>\n",
       "      <td>175</td>\n",
       "      <td>0</td>\n",
       "      <td>Normal</td>\n",
       "      <td>173</td>\n",
       "      <td>No</td>\n",
       "      <td>0.0</td>\n",
       "      <td>Up</td>\n",
       "      <td>No</td>\n",
       "    </tr>\n",
       "  </tbody>\n",
       "</table>\n",
       "<p>390 rows × 12 columns</p>\n",
       "</div>"
      ],
      "text/plain": [
       "     Age Sex ChestPainType  RestingBP  Cholesterol  FastingBS RestingECG  \\\n",
       "0     40   M           ATA        140          289          0     Normal   \n",
       "2     37   M           ATA        130          283          0         ST   \n",
       "4     54   M           NAP        150          195          0     Normal   \n",
       "5     39   M           NAP        120          339          0     Normal   \n",
       "6     45   F           ATA        130          237          0     Normal   \n",
       "..   ...  ..           ...        ...          ...        ...        ...   \n",
       "903   56   M           ATA        130          221          0        LVH   \n",
       "904   56   M           ATA        120          240          0     Normal   \n",
       "906   55   F           ATA        132          342          0     Normal   \n",
       "910   41   M           ATA        120          157          0     Normal   \n",
       "917   38   M           NAP        138          175          0     Normal   \n",
       "\n",
       "     MaxHR ExerciseAngina  Oldpeak ST_Slope HeartDisease  \n",
       "0      172             No      0.0       Up           No  \n",
       "2       98             No      0.0       Up           No  \n",
       "4      122             No      0.0       Up           No  \n",
       "5      170             No      0.0       Up           No  \n",
       "6      170             No      0.0       Up           No  \n",
       "..     ...            ...      ...      ...          ...  \n",
       "903    163             No      0.0       Up           No  \n",
       "904    169             No      0.0     Down           No  \n",
       "906    166             No      1.2       Up           No  \n",
       "910    182             No      0.0       Up           No  \n",
       "917    173             No      0.0       Up           No  \n",
       "\n",
       "[390 rows x 12 columns]"
      ]
     },
     "execution_count": 89,
     "metadata": {},
     "output_type": "execute_result"
    }
   ],
   "source": [
    "noheartdisease = nozerodata[nozerodata['HeartDisease']=='No']\n",
    "noheartdisease"
   ]
  },
  {
   "cell_type": "code",
   "execution_count": 90,
   "id": "f9886fec",
   "metadata": {},
   "outputs": [
    {
     "data": {
      "text/html": [
       "<div>\n",
       "<style scoped>\n",
       "    .dataframe tbody tr th:only-of-type {\n",
       "        vertical-align: middle;\n",
       "    }\n",
       "\n",
       "    .dataframe tbody tr th {\n",
       "        vertical-align: top;\n",
       "    }\n",
       "\n",
       "    .dataframe thead th {\n",
       "        text-align: right;\n",
       "    }\n",
       "</style>\n",
       "<table border=\"1\" class=\"dataframe\">\n",
       "  <thead>\n",
       "    <tr style=\"text-align: right;\">\n",
       "      <th></th>\n",
       "      <th>Age</th>\n",
       "      <th>Sex</th>\n",
       "      <th>ChestPainType</th>\n",
       "      <th>RestingBP</th>\n",
       "      <th>Cholesterol</th>\n",
       "      <th>FastingBS</th>\n",
       "      <th>RestingECG</th>\n",
       "      <th>MaxHR</th>\n",
       "      <th>ExerciseAngina</th>\n",
       "      <th>Oldpeak</th>\n",
       "      <th>ST_Slope</th>\n",
       "      <th>HeartDisease</th>\n",
       "    </tr>\n",
       "  </thead>\n",
       "  <tbody>\n",
       "    <tr>\n",
       "      <th>1</th>\n",
       "      <td>49</td>\n",
       "      <td>F</td>\n",
       "      <td>NAP</td>\n",
       "      <td>160</td>\n",
       "      <td>180</td>\n",
       "      <td>0</td>\n",
       "      <td>Normal</td>\n",
       "      <td>156</td>\n",
       "      <td>No</td>\n",
       "      <td>1.0</td>\n",
       "      <td>Flat</td>\n",
       "      <td>Yes</td>\n",
       "    </tr>\n",
       "    <tr>\n",
       "      <th>3</th>\n",
       "      <td>48</td>\n",
       "      <td>F</td>\n",
       "      <td>ASY</td>\n",
       "      <td>138</td>\n",
       "      <td>214</td>\n",
       "      <td>0</td>\n",
       "      <td>Normal</td>\n",
       "      <td>108</td>\n",
       "      <td>Yes</td>\n",
       "      <td>1.5</td>\n",
       "      <td>Flat</td>\n",
       "      <td>Yes</td>\n",
       "    </tr>\n",
       "    <tr>\n",
       "      <th>8</th>\n",
       "      <td>37</td>\n",
       "      <td>M</td>\n",
       "      <td>ASY</td>\n",
       "      <td>140</td>\n",
       "      <td>207</td>\n",
       "      <td>0</td>\n",
       "      <td>Normal</td>\n",
       "      <td>130</td>\n",
       "      <td>Yes</td>\n",
       "      <td>1.5</td>\n",
       "      <td>Flat</td>\n",
       "      <td>Yes</td>\n",
       "    </tr>\n",
       "    <tr>\n",
       "      <th>11</th>\n",
       "      <td>58</td>\n",
       "      <td>M</td>\n",
       "      <td>ATA</td>\n",
       "      <td>136</td>\n",
       "      <td>164</td>\n",
       "      <td>0</td>\n",
       "      <td>ST</td>\n",
       "      <td>99</td>\n",
       "      <td>Yes</td>\n",
       "      <td>2.0</td>\n",
       "      <td>Flat</td>\n",
       "      <td>Yes</td>\n",
       "    </tr>\n",
       "    <tr>\n",
       "      <th>13</th>\n",
       "      <td>49</td>\n",
       "      <td>M</td>\n",
       "      <td>ASY</td>\n",
       "      <td>140</td>\n",
       "      <td>234</td>\n",
       "      <td>0</td>\n",
       "      <td>Normal</td>\n",
       "      <td>140</td>\n",
       "      <td>Yes</td>\n",
       "      <td>1.0</td>\n",
       "      <td>Flat</td>\n",
       "      <td>Yes</td>\n",
       "    </tr>\n",
       "    <tr>\n",
       "      <th>...</th>\n",
       "      <td>...</td>\n",
       "      <td>...</td>\n",
       "      <td>...</td>\n",
       "      <td>...</td>\n",
       "      <td>...</td>\n",
       "      <td>...</td>\n",
       "      <td>...</td>\n",
       "      <td>...</td>\n",
       "      <td>...</td>\n",
       "      <td>...</td>\n",
       "      <td>...</td>\n",
       "      <td>...</td>\n",
       "    </tr>\n",
       "    <tr>\n",
       "      <th>912</th>\n",
       "      <td>57</td>\n",
       "      <td>F</td>\n",
       "      <td>ASY</td>\n",
       "      <td>140</td>\n",
       "      <td>241</td>\n",
       "      <td>0</td>\n",
       "      <td>Normal</td>\n",
       "      <td>123</td>\n",
       "      <td>Yes</td>\n",
       "      <td>0.2</td>\n",
       "      <td>Flat</td>\n",
       "      <td>Yes</td>\n",
       "    </tr>\n",
       "    <tr>\n",
       "      <th>913</th>\n",
       "      <td>45</td>\n",
       "      <td>M</td>\n",
       "      <td>TA</td>\n",
       "      <td>110</td>\n",
       "      <td>264</td>\n",
       "      <td>0</td>\n",
       "      <td>Normal</td>\n",
       "      <td>132</td>\n",
       "      <td>No</td>\n",
       "      <td>1.2</td>\n",
       "      <td>Flat</td>\n",
       "      <td>Yes</td>\n",
       "    </tr>\n",
       "    <tr>\n",
       "      <th>914</th>\n",
       "      <td>68</td>\n",
       "      <td>M</td>\n",
       "      <td>ASY</td>\n",
       "      <td>144</td>\n",
       "      <td>193</td>\n",
       "      <td>1</td>\n",
       "      <td>Normal</td>\n",
       "      <td>141</td>\n",
       "      <td>No</td>\n",
       "      <td>3.4</td>\n",
       "      <td>Flat</td>\n",
       "      <td>Yes</td>\n",
       "    </tr>\n",
       "    <tr>\n",
       "      <th>915</th>\n",
       "      <td>57</td>\n",
       "      <td>M</td>\n",
       "      <td>ASY</td>\n",
       "      <td>130</td>\n",
       "      <td>131</td>\n",
       "      <td>0</td>\n",
       "      <td>Normal</td>\n",
       "      <td>115</td>\n",
       "      <td>Yes</td>\n",
       "      <td>1.2</td>\n",
       "      <td>Flat</td>\n",
       "      <td>Yes</td>\n",
       "    </tr>\n",
       "    <tr>\n",
       "      <th>916</th>\n",
       "      <td>57</td>\n",
       "      <td>F</td>\n",
       "      <td>ATA</td>\n",
       "      <td>130</td>\n",
       "      <td>236</td>\n",
       "      <td>0</td>\n",
       "      <td>LVH</td>\n",
       "      <td>174</td>\n",
       "      <td>No</td>\n",
       "      <td>0.0</td>\n",
       "      <td>Flat</td>\n",
       "      <td>Yes</td>\n",
       "    </tr>\n",
       "  </tbody>\n",
       "</table>\n",
       "<p>356 rows × 12 columns</p>\n",
       "</div>"
      ],
      "text/plain": [
       "     Age Sex ChestPainType  RestingBP  Cholesterol  FastingBS RestingECG  \\\n",
       "1     49   F           NAP        160          180          0     Normal   \n",
       "3     48   F           ASY        138          214          0     Normal   \n",
       "8     37   M           ASY        140          207          0     Normal   \n",
       "11    58   M           ATA        136          164          0         ST   \n",
       "13    49   M           ASY        140          234          0     Normal   \n",
       "..   ...  ..           ...        ...          ...        ...        ...   \n",
       "912   57   F           ASY        140          241          0     Normal   \n",
       "913   45   M            TA        110          264          0     Normal   \n",
       "914   68   M           ASY        144          193          1     Normal   \n",
       "915   57   M           ASY        130          131          0     Normal   \n",
       "916   57   F           ATA        130          236          0        LVH   \n",
       "\n",
       "     MaxHR ExerciseAngina  Oldpeak ST_Slope HeartDisease  \n",
       "1      156             No      1.0     Flat          Yes  \n",
       "3      108            Yes      1.5     Flat          Yes  \n",
       "8      130            Yes      1.5     Flat          Yes  \n",
       "11      99            Yes      2.0     Flat          Yes  \n",
       "13     140            Yes      1.0     Flat          Yes  \n",
       "..     ...            ...      ...      ...          ...  \n",
       "912    123            Yes      0.2     Flat          Yes  \n",
       "913    132             No      1.2     Flat          Yes  \n",
       "914    141             No      3.4     Flat          Yes  \n",
       "915    115            Yes      1.2     Flat          Yes  \n",
       "916    174             No      0.0     Flat          Yes  \n",
       "\n",
       "[356 rows x 12 columns]"
      ]
     },
     "execution_count": 90,
     "metadata": {},
     "output_type": "execute_result"
    }
   ],
   "source": [
    "heartdisease = nozerodata[nozerodata['HeartDisease'] == 'Yes']\n",
    "heartdisease"
   ]
  },
  {
   "cell_type": "code",
   "execution_count": 91,
   "id": "c6c7d745",
   "metadata": {},
   "outputs": [
    {
     "data": {
      "text/plain": [
       "Ttest_indResult(statistic=-4.797948381901695, pvalue=1.937383624038573e-06)"
      ]
     },
     "execution_count": 91,
     "metadata": {},
     "output_type": "execute_result"
    }
   ],
   "source": [
    "from scipy.stats import ttest_ind \n",
    "    \n",
    "ttest_ind(noheartdisease['RestingBP'], heartdisease['RestingBP'])"
   ]
  },
  {
   "cell_type": "code",
   "execution_count": 92,
   "id": "dc84bba7",
   "metadata": {},
   "outputs": [
    {
     "data": {
      "text/plain": [
       "Ttest_indResult(statistic=-8.534583526140043, pvalue=7.861071765822652e-17)"
      ]
     },
     "execution_count": 92,
     "metadata": {},
     "output_type": "execute_result"
    }
   ],
   "source": [
    "ttest_ind(noheartdisease['Age'], heartdisease['Age'])"
   ]
  },
  {
   "cell_type": "code",
   "execution_count": 93,
   "id": "1d0f005d",
   "metadata": {},
   "outputs": [
    {
     "data": {
      "text/plain": [
       "Ttest_indResult(statistic=-2.8484821957405964, pvalue=0.004514069106741928)"
      ]
     },
     "execution_count": 93,
     "metadata": {},
     "output_type": "execute_result"
    }
   ],
   "source": [
    "ttest_ind(noheartdisease['Cholesterol'], heartdisease['Cholesterol'])"
   ]
  },
  {
   "cell_type": "code",
   "execution_count": 94,
   "id": "763b0ce5",
   "metadata": {},
   "outputs": [
    {
     "data": {
      "text/plain": [
       "Ttest_indResult(statistic=11.109683995346739, pvalue=1.226926008136061e-26)"
      ]
     },
     "execution_count": 94,
     "metadata": {},
     "output_type": "execute_result"
    }
   ],
   "source": [
    "ttest_ind(noheartdisease['MaxHR'], heartdisease['MaxHR'])"
   ]
  },
  {
   "cell_type": "code",
   "execution_count": 95,
   "id": "d59e1fd8",
   "metadata": {},
   "outputs": [
    {
     "data": {
      "text/plain": [
       "Ttest_indResult(statistic=-15.568053154347314, pvalue=1.6302939711725474e-47)"
      ]
     },
     "execution_count": 95,
     "metadata": {},
     "output_type": "execute_result"
    }
   ],
   "source": [
    "ttest_ind(noheartdisease['Oldpeak'], heartdisease['Oldpeak'])"
   ]
  },
  {
   "cell_type": "code",
   "execution_count": 96,
   "id": "347407da",
   "metadata": {},
   "outputs": [],
   "source": [
    "data.to_csv('../Capstone/eda_data.csv', header=True, index=False)"
   ]
  },
  {
   "cell_type": "code",
   "execution_count": null,
   "id": "b5a6e786",
   "metadata": {},
   "outputs": [],
   "source": []
  }
 ],
 "metadata": {
  "kernelspec": {
   "display_name": "Python 3 (ipykernel)",
   "language": "python",
   "name": "python3"
  },
  "language_info": {
   "codemirror_mode": {
    "name": "ipython",
    "version": 3
   },
   "file_extension": ".py",
   "mimetype": "text/x-python",
   "name": "python",
   "nbconvert_exporter": "python",
   "pygments_lexer": "ipython3",
   "version": "3.9.7"
  }
 },
 "nbformat": 4,
 "nbformat_minor": 5
}
